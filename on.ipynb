{
  "cells": [
    {
      "cell_type": "markdown",
      "metadata": {
        "id": "iJEMcktnkV8G"
      },
      "source": [
        "## Phase 1: Demand Modeling"
      ]
    },
    {
      "cell_type": "markdown",
      "metadata": {
        "id": "IsSXNC2k9y5J"
      },
      "source": [
        "### I. Environment Setup"
      ]
    },
    {
      "cell_type": "code",
      "execution_count": null,
      "metadata": {
        "colab": {
          "base_uri": "https://localhost:8080/"
        },
        "id": "xoTzN5yQ86T2",
        "outputId": "ef5ab683-85fb-4b10-d3a5-35233dc034af"
      },
      "outputs": [
        {
          "name": "stdout",
          "output_type": "stream",
          "text": [
            "Mounted at /content/drive/\n"
          ]
        }
      ],
      "source": [
        "from google.colab import drive\n",
        "drive.mount('/content/drive/')\n"
      ]
    },
    {
      "cell_type": "code",
      "execution_count": null,
      "metadata": {
        "colab": {
          "base_uri": "https://localhost:8080/"
        },
        "id": "adC0TQ1hBazX",
        "outputId": "57b9ef75-8039-42c3-e68a-59a0a199b253"
      },
      "outputs": [
        {
          "name": "stdout",
          "output_type": "stream",
          "text": [
            "--2025-05-05 20:22:08--  https://wwwn.cdc.gov/Nchs/Data/Nhanes/Public/2017/DataFiles/DEMO_J.XPT\n",
            "Resolving wwwn.cdc.gov (wwwn.cdc.gov)... 13.107.246.73, 2620:1ec:bdf::73\n",
            "Connecting to wwwn.cdc.gov (wwwn.cdc.gov)|13.107.246.73|:443... connected.\n",
            "HTTP request sent, awaiting response... 200 OK\n",
            "Length: 3412720 (3.3M) [text/plain]\n",
            "Saving to: ‘/content/drive/MyDrive/Spring2025/TH/256-project/nhanes/2017-2018/DEMO_J.XPT.1’\n",
            "\n",
            "DEMO_J.XPT.1        100%[===================>]   3.25M  1.36MB/s    in 2.4s    \n",
            "\n",
            "2025-05-05 20:22:11 (1.36 MB/s) - ‘/content/drive/MyDrive/Spring2025/TH/256-project/nhanes/2017-2018/DEMO_J.XPT.1’ saved [3412720/3412720]\n",
            "\n",
            "--2025-05-05 20:22:11--  https://wwwn.cdc.gov/Nchs/Data/Nhanes/Public/2017/DataFiles/DIQ_J.XPT\n",
            "Resolving wwwn.cdc.gov (wwwn.cdc.gov)... 13.107.246.73, 2620:1ec:bdf::73\n",
            "Connecting to wwwn.cdc.gov (wwwn.cdc.gov)|13.107.246.73|:443... connected.\n",
            "HTTP request sent, awaiting response... 200 OK\n",
            "Length: 3851840 (3.7M) [text/plain]\n",
            "Saving to: ‘/content/drive/MyDrive/Spring2025/TH/256-project/nhanes/2017-2018/DIQ_J.XPT.1’\n",
            "\n",
            "DIQ_J.XPT.1         100%[===================>]   3.67M  1.16MB/s    in 3.2s    \n",
            "\n",
            "2025-05-05 20:22:15 (1.16 MB/s) - ‘/content/drive/MyDrive/Spring2025/TH/256-project/nhanes/2017-2018/DIQ_J.XPT.1’ saved [3851840/3851840]\n",
            "\n"
          ]
        }
      ],
      "source": [
        "!mkdir -p /content/drive/MyDrive/Spring2025/TH/256-project/nhanes/2017-2018\n",
        "!cd /content/drive/MyDrive/Spring2025/TH/256-project/nhanes/2017-2018\n",
        "!wget -P /content/drive/MyDrive/Spring2025/TH/256-project/nhanes/2017-2018 https://wwwn.cdc.gov/Nchs/Data/Nhanes/Public/2017/DataFiles/DEMO_J.XPT\n",
        "!wget -P /content/drive/MyDrive/Spring2025/TH/256-project/nhanes/2017-2018 https://wwwn.cdc.gov/Nchs/Data/Nhanes/Public/2017/DataFiles/DIQ_J.XPT"
      ]
    },
    {
      "cell_type": "code",
      "execution_count": null,
      "metadata": {
        "colab": {
          "background_save": true,
          "base_uri": "https://localhost:8080/"
        },
        "id": "eTCT_phT9MFX",
        "outputId": "e5e8671e-ca81-4366-9c6b-48f912dda5fb"
      },
      "outputs": [
        {
          "name": "stdout",
          "output_type": "stream",
          "text": [
            "Collecting nhanes\n",
            "  Downloading nhanes-0.5.1-py3-none-any.whl.metadata (750 bytes)\n",
            "Requirement already satisfied: pandas in /usr/local/lib/python3.11/dist-packages (2.2.2)\n",
            "Requirement already satisfied: numpy in /usr/local/lib/python3.11/dist-packages (2.0.2)\n",
            "Requirement already satisfied: statsmodels in /usr/local/lib/python3.11/dist-packages (0.14.4)\n",
            "Requirement already satisfied: scikit-learn in /usr/local/lib/python3.11/dist-packages (1.6.1)\n",
            "Requirement already satisfied: plotly in /usr/local/lib/python3.11/dist-packages (5.24.1)\n",
            "Collecting ucimlrepo\n",
            "  Downloading ucimlrepo-0.0.7-py3-none-any.whl.metadata (5.5 kB)\n",
            "Requirement already satisfied: python-dateutil>=2.8.2 in /usr/local/lib/python3.11/dist-packages (from pandas) (2.9.0.post0)\n",
            "Requirement already satisfied: pytz>=2020.1 in /usr/local/lib/python3.11/dist-packages (from pandas) (2025.2)\n",
            "Requirement already satisfied: tzdata>=2022.7 in /usr/local/lib/python3.11/dist-packages (from pandas) (2025.2)\n",
            "Requirement already satisfied: scipy!=1.9.2,>=1.8 in /usr/local/lib/python3.11/dist-packages (from statsmodels) (1.15.2)\n",
            "Requirement already satisfied: patsy>=0.5.6 in /usr/local/lib/python3.11/dist-packages (from statsmodels) (1.0.1)\n",
            "Requirement already satisfied: packaging>=21.3 in /usr/local/lib/python3.11/dist-packages (from statsmodels) (24.2)\n",
            "Requirement already satisfied: joblib>=1.2.0 in /usr/local/lib/python3.11/dist-packages (from scikit-learn) (1.4.2)\n",
            "Requirement already satisfied: threadpoolctl>=3.1.0 in /usr/local/lib/python3.11/dist-packages (from scikit-learn) (3.6.0)\n",
            "Requirement already satisfied: tenacity>=6.2.0 in /usr/local/lib/python3.11/dist-packages (from plotly) (9.1.2)\n",
            "Requirement already satisfied: certifi>=2020.12.5 in /usr/local/lib/python3.11/dist-packages (from ucimlrepo) (2025.4.26)\n",
            "Requirement already satisfied: six>=1.5 in /usr/local/lib/python3.11/dist-packages (from python-dateutil>=2.8.2->pandas) (1.17.0)\n",
            "Downloading nhanes-0.5.1-py3-none-any.whl (1.6 MB)\n",
            "\u001b[2K   \u001b[90m━━━━━━━━━━━━━━━━━━━━━━━━━━━━━━━━━━━━━━━━\u001b[0m \u001b[32m1.6/1.6 MB\u001b[0m \u001b[31m15.5 MB/s\u001b[0m eta \u001b[36m0:00:00\u001b[0m\n",
            "\u001b[?25hDownloading ucimlrepo-0.0.7-py3-none-any.whl (8.0 kB)\n",
            "Installing collected packages: nhanes, ucimlrepo\n",
            "Successfully installed nhanes-0.5.1 ucimlrepo-0.0.7\n",
            "Requirement already satisfied: pandas in /usr/local/lib/python3.11/dist-packages (2.2.2)\n",
            "Collecting pandas\n",
            "  Downloading pandas-2.2.3-cp311-cp311-manylinux_2_17_x86_64.manylinux2014_x86_64.whl.metadata (89 kB)\n",
            "\u001b[2K     \u001b[90m━━━━━━━━━━━━━━━━━━━━━━━━━━━━━━━━━━━━━━━━\u001b[0m \u001b[32m89.9/89.9 kB\u001b[0m \u001b[31m2.4 MB/s\u001b[0m eta \u001b[36m0:00:00\u001b[0m\n",
            "\u001b[?25hRequirement already satisfied: numpy>=1.23.2 in /usr/local/lib/python3.11/dist-packages (from pandas) (2.0.2)\n",
            "Requirement already satisfied: python-dateutil>=2.8.2 in /usr/local/lib/python3.11/dist-packages (from pandas) (2.9.0.post0)\n",
            "Requirement already satisfied: pytz>=2020.1 in /usr/local/lib/python3.11/dist-packages (from pandas) (2025.2)\n",
            "Requirement already satisfied: tzdata>=2022.7 in /usr/local/lib/python3.11/dist-packages (from pandas) (2025.2)\n",
            "Requirement already satisfied: six>=1.5 in /usr/local/lib/python3.11/dist-packages (from python-dateutil>=2.8.2->pandas) (1.17.0)\n",
            "Downloading pandas-2.2.3-cp311-cp311-manylinux_2_17_x86_64.manylinux2014_x86_64.whl (13.1 MB)\n",
            "\u001b[2K   \u001b[90m━━━━━━━━━━━━━━━━━━━━━━━━━━━━━━━━━━━━━━━━\u001b[0m \u001b[32m13.1/13.1 MB\u001b[0m \u001b[31m86.5 MB/s\u001b[0m eta \u001b[36m0:00:00\u001b[0m\n",
            "\u001b[?25hInstalling collected packages: pandas\n",
            "  Attempting uninstall: pandas\n",
            "    Found existing installation: pandas 2.2.2\n",
            "    Uninstalling pandas-2.2.2:\n",
            "      Successfully uninstalled pandas-2.2.2\n",
            "\u001b[31mERROR: pip's dependency resolver does not currently take into account all the packages that are installed. This behaviour is the source of the following dependency conflicts.\n",
            "google-colab 1.0.0 requires pandas==2.2.2, but you have pandas 2.2.3 which is incompatible.\u001b[0m\u001b[31m\n",
            "\u001b[0mSuccessfully installed pandas-2.2.3\n"
          ]
        }
      ],
      "source": [
        "!pip install nhanes pandas numpy statsmodels scikit-learn plotly ucimlrepo\n",
        "!pip install --upgrade pandas"
      ]
    },
    {
      "cell_type": "markdown",
      "metadata": {
        "id": "Y-kFtwTa99p1"
      },
      "source": [
        "### II. Data Acquisition\n",
        "\n",
        "##### 1. NHANES 2017-2018\n",
        "\n",
        "Source: CDC's continuous NHANES site provides all public-use files for 2017-2018 CDC.\n",
        "\n",
        "Python access via the nhanes package (interface patterned after the R NHANES package) GitHub.\n",
        "\n",
        "##### 2. Diabetes 130-US Hospitals (1999-2008)\n",
        "\n",
        "Source: UCI Machine Learning Repository, \"Diabetes 130-US Hospitals for Years 1999-2008\" UCI Machine Learning Repository.\n",
        "\n",
        "Dataset details: 101,766 records, 47 features including patient demographics, lab tests, medications, length of stay, and 30-day readmission."
      ]
    },
    {
      "cell_type": "code",
      "execution_count": null,
      "metadata": {
        "colab": {
          "background_save": true
        },
        "id": "v_VHwqIi98Ng",
        "outputId": "bebad3df-832e-41ee-d984-292b718fcbf6"
      },
      "outputs": [
        {
          "name": "stderr",
          "output_type": "stream",
          "text": [
            "/usr/local/lib/python3.11/dist-packages/ucimlrepo/fetch.py:97: DtypeWarning: Columns (10) have mixed types. Specify dtype option on import or set low_memory=False.\n",
            "  df = pd.read_csv(data_url)\n"
          ]
        }
      ],
      "source": [
        "from ucimlrepo import fetch_ucirepo\n",
        "import pandas as pd\n",
        "# NHANES 2017–2018\n",
        "demo_path = '/content/drive/MyDrive/Spring2025/TH/256-project/nhanes/2017-2018/DEMO_J.XPT'\n",
        "diq_path  = '/content/drive/MyDrive/Spring2025/TH/256-project/nhanes/2017-2018/DIQ_J.XPT'\n",
        "# format='xport' is inferred but can be set explicitly\n",
        "demo = pd.read_sas(demo_path, format='xport')  # Demographics\n",
        "diq  = pd.read_sas(diq_path,  format='xport')  # Diabetes questionnaire\n",
        "# Diabetes 130-US Hospitals (1999-2008)\n",
        "diabetes_130_us_hospitals_for_years_1999_2008 = fetch_ucirepo(id=296)\n",
        "uci_X = diabetes_130_us_hospitals_for_years_1999_2008.data.features\n",
        "uci_y = diabetes_130_us_hospitals_for_years_1999_2008.data.targets\n"
      ]
    },
    {
      "cell_type": "markdown",
      "metadata": {
        "id": "IJ88qFR0uJ0p"
      },
      "source": [
        "### III. Processing"
      ]
    },
    {
      "cell_type": "code",
      "execution_count": null,
      "metadata": {
        "colab": {
          "background_save": true
        },
        "id": "6nmNjEk1X4oy"
      },
      "outputs": [],
      "source": [
        "import pandas as pd\n",
        "import numpy as np\n",
        "from sklearn.preprocessing import StandardScaler\n",
        "from sklearn.decomposition import PCA\n",
        "from ucimlrepo import fetch_ucirepo\n",
        "import matplotlib.pyplot as plt\n",
        "import seaborn as sns\n"
      ]
    },
    {
      "cell_type": "markdown",
      "metadata": {
        "id": "yNWYEZxqYjpX"
      },
      "source": [
        "Step 1: Merge & Clean NHANES"
      ]
    },
    {
      "cell_type": "code",
      "execution_count": null,
      "metadata": {
        "colab": {
          "background_save": true
        },
        "id": "BPaXs832XgBK"
      },
      "outputs": [],
      "source": [
        "nhanes = pd.merge(demo, diq, on='SEQN', how='inner')\n",
        "# adult\n",
        "nhanes = nhanes[nhanes['RIDAGEYR'] >= 18]\n",
        "nhanes = nhanes[nhanes['DIQ010'].isin([1, 2])]\n",
        "nhanes['has_diabetes'] = nhanes['DIQ010'] == 1\n",
        "nhanes['age_bin'] = pd.cut(\n",
        "    nhanes['RIDAGEYR'],\n",
        "    bins=[18, 30, 45, 60, 75, 90],\n",
        "    labels=['18–30', '31–45', '46–60', '61–75', '76+'])\n"
      ]
    },
    {
      "cell_type": "markdown",
      "metadata": {
        "id": "0y0ApI8tYm8y"
      },
      "source": [
        "Step 2: Aggregate NHANES Diabetes Prevalence"
      ]
    },
    {
      "cell_type": "code",
      "execution_count": null,
      "metadata": {
        "colab": {
          "background_save": true
        },
        "id": "8Zwc-Fcn9v61",
        "outputId": "32e4d64c-1a59-4526-e737-f82f20533160"
      },
      "outputs": [
        {
          "name": "stderr",
          "output_type": "stream",
          "text": [
            "<ipython-input-7-870f169329bb>:4: FutureWarning: The default of observed=False is deprecated and will be changed to True in a future version of pandas. Pass observed=False to retain current behavior or observed=True to adopt the future default and silence this warning.\n",
            "  .groupby([region_proxy, 'age_bin'])['has_diabetes']\n"
          ]
        }
      ],
      "source": [
        "region_proxy = 'SDMVSTRA'  # demographic proxy\n",
        "grouped = (\n",
        "    nhanes\n",
        "    .groupby([region_proxy, 'age_bin'])['has_diabetes']\n",
        "    .agg(prevalence='mean', n='count')\n",
        "    .reset_index()\n",
        ")\n"
      ]
    },
    {
      "cell_type": "markdown",
      "metadata": {
        "id": "m91NTB09Y5Np"
      },
      "source": [
        "Step 3: Load UCI Diabetes 130-US Hospital Dataset"
      ]
    },
    {
      "cell_type": "code",
      "execution_count": null,
      "metadata": {
        "colab": {
          "background_save": true
        },
        "id": "-cMX15LDY4Qs"
      },
      "outputs": [],
      "source": [
        "uci = pd.concat([uci_X, uci_y], axis=1)\n",
        "uci = uci[uci['race'] != '?']  # Clean unknowns\n",
        "uci['readmitted_flag'] = uci['readmitted'].apply(lambda x: 1 if x == '<30' else 0) # # 2.2 Recode readmission into binary flag (<30 days=1, else=0)\n"
      ]
    },
    {
      "cell_type": "markdown",
      "metadata": {
        "id": "vzOWUgDQYols"
      },
      "source": [
        "Step 4: Aggregate UCI"
      ]
    },
    {
      "cell_type": "code",
      "execution_count": null,
      "metadata": {
        "colab": {
          "background_save": true
        },
        "id": "f8ENEByVisG0"
      },
      "outputs": [],
      "source": [
        "hospital_burden = (\n",
        "    uci\n",
        "    .groupby('age')['readmitted_flag']\n",
        "    .agg(readmission_rate='mean', n='count')\n",
        "    .reset_index()\n",
        ")\n",
        "hospital_burden.rename(columns={'mean': 'readmission_rate', 'count': 'n'}, inplace=True)\n"
      ]
    },
    {
      "cell_type": "markdown",
      "metadata": {
        "id": "fZ2wNYSsUJrR"
      },
      "source": [
        "Step 5: PCA z-score"
      ]
    },
    {
      "cell_type": "code",
      "execution_count": null,
      "metadata": {
        "colab": {
          "background_save": true
        },
        "id": "azCaVsloI0cF"
      },
      "outputs": [],
      "source": [
        "def zscore_transform(*arrays):\n",
        "    stacked = np.vstack([np.asarray(arr).reshape(-1) for arr in arrays]).T\n",
        "    scaler = StandardScaler()\n",
        "    scaled = scaler.fit_transform(stacked)\n",
        "    return [scaled[:, i] for i in range(scaled.shape[1])]\n",
        "\n",
        "def pca_composite(*zarrays, n_components=1):\n",
        "    X = np.vstack([np.asarray(z).reshape(-1) for z in zarrays]).T\n",
        "    pca = PCA(n_components=n_components)\n",
        "    pcs = pca.fit_transform(X)\n",
        "    loadings = pca.components_[0]\n",
        "    weights = loadings / np.sum(loadings)\n",
        "    return pcs[:, 0], weights\n"
      ]
    },
    {
      "cell_type": "markdown",
      "metadata": {
        "id": "oOj_1aRhi9SW"
      },
      "source": [
        "Step 6: Compute z‑scores for each region×age_bin’s diabetes_prevalence\n",
        "(and—optionally—hospital readmission by mapping age_bin→age)"
      ]
    },
    {
      "cell_type": "code",
      "execution_count": null,
      "metadata": {
        "colab": {
          "background_save": true
        },
        "id": "m0ygQHi5Zg1j"
      },
      "outputs": [],
      "source": [
        "prev = grouped['prevalence'].values\n",
        "# If you align hospital_burden to the same bins, extract its rate vector `rb`\n",
        "# For illustration, we z‑score only NHANES prevalence here:\n",
        "[z_prev] = zscore_transform(prev)"
      ]
    },
    {
      "cell_type": "code",
      "execution_count": null,
      "metadata": {
        "colab": {
          "background_save": true
        },
        "id": "cPz6s-q3v6_D"
      },
      "outputs": [],
      "source": [
        "std_pop = {\n",
        "  '18–30': 0.236,\n",
        "  '31–45': 0.293,\n",
        "  '46–60': 0.253,\n",
        "  '61–75': 0.137,\n",
        "  '76+':   0.082\n",
        "} # https://www.cdc.gov/nchs/hus/sources-definitions/age-adjustment.html\n"
      ]
    },
    {
      "cell_type": "code",
      "execution_count": null,
      "metadata": {
        "colab": {
          "background_save": true
        },
        "id": "DkUUWywPxc96",
        "outputId": "0e7d208a-83d3-4815-af2b-bf9c45b91601"
      },
      "outputs": [
        {
          "data": {
            "application/vnd.google.colaboratory.intrinsic+json": {
              "summary": "{\n  \"name\": \"age_std\",\n  \"rows\": 15,\n  \"fields\": [\n    {\n      \"column\": \"SDMVSTRA\",\n      \"properties\": {\n        \"dtype\": \"number\",\n        \"std\": 4.47213595499958,\n        \"min\": 134.0,\n        \"max\": 148.0,\n        \"num_unique_values\": 15,\n        \"samples\": [\n          143.0,\n          145.0,\n          134.0\n        ],\n        \"semantic_type\": \"\",\n        \"description\": \"\"\n      }\n    },\n    {\n      \"column\": \"age_adj_prevalence\",\n      \"properties\": {\n        \"dtype\": \"number\",\n        \"std\": 0.020488238390936258,\n        \"min\": 0.09755317073170733,\n        \"max\": 0.16964762658022992,\n        \"num_unique_values\": 15,\n        \"samples\": [\n          0.147800802097278,\n          0.09755317073170733,\n          0.09903644546667803\n        ],\n        \"semantic_type\": \"\",\n        \"description\": \"\"\n      }\n    }\n  ]\n}",
              "type": "dataframe",
              "variable_name": "age_std"
            },
            "text/html": [
              "\n",
              "  <div id=\"df-cd956be5-3e6a-450e-ab33-5da59d42033e\" class=\"colab-df-container\">\n",
              "    <div>\n",
              "<style scoped>\n",
              "    .dataframe tbody tr th:only-of-type {\n",
              "        vertical-align: middle;\n",
              "    }\n",
              "\n",
              "    .dataframe tbody tr th {\n",
              "        vertical-align: top;\n",
              "    }\n",
              "\n",
              "    .dataframe thead th {\n",
              "        text-align: right;\n",
              "    }\n",
              "</style>\n",
              "<table border=\"1\" class=\"dataframe\">\n",
              "  <thead>\n",
              "    <tr style=\"text-align: right;\">\n",
              "      <th></th>\n",
              "      <th>SDMVSTRA</th>\n",
              "      <th>age_adj_prevalence</th>\n",
              "    </tr>\n",
              "  </thead>\n",
              "  <tbody>\n",
              "    <tr>\n",
              "      <th>0</th>\n",
              "      <td>134.0</td>\n",
              "      <td>0.099036</td>\n",
              "    </tr>\n",
              "    <tr>\n",
              "      <th>1</th>\n",
              "      <td>135.0</td>\n",
              "      <td>0.128388</td>\n",
              "    </tr>\n",
              "    <tr>\n",
              "      <th>2</th>\n",
              "      <td>136.0</td>\n",
              "      <td>0.136306</td>\n",
              "    </tr>\n",
              "    <tr>\n",
              "      <th>3</th>\n",
              "      <td>137.0</td>\n",
              "      <td>0.131166</td>\n",
              "    </tr>\n",
              "    <tr>\n",
              "      <th>4</th>\n",
              "      <td>138.0</td>\n",
              "      <td>0.136666</td>\n",
              "    </tr>\n",
              "  </tbody>\n",
              "</table>\n",
              "</div>\n",
              "    <div class=\"colab-df-buttons\">\n",
              "\n",
              "  <div class=\"colab-df-container\">\n",
              "    <button class=\"colab-df-convert\" onclick=\"convertToInteractive('df-cd956be5-3e6a-450e-ab33-5da59d42033e')\"\n",
              "            title=\"Convert this dataframe to an interactive table.\"\n",
              "            style=\"display:none;\">\n",
              "\n",
              "  <svg xmlns=\"http://www.w3.org/2000/svg\" height=\"24px\" viewBox=\"0 -960 960 960\">\n",
              "    <path d=\"M120-120v-720h720v720H120Zm60-500h600v-160H180v160Zm220 220h160v-160H400v160Zm0 220h160v-160H400v160ZM180-400h160v-160H180v160Zm440 0h160v-160H620v160ZM180-180h160v-160H180v160Zm440 0h160v-160H620v160Z\"/>\n",
              "  </svg>\n",
              "    </button>\n",
              "\n",
              "  <style>\n",
              "    .colab-df-container {\n",
              "      display:flex;\n",
              "      gap: 12px;\n",
              "    }\n",
              "\n",
              "    .colab-df-convert {\n",
              "      background-color: #E8F0FE;\n",
              "      border: none;\n",
              "      border-radius: 50%;\n",
              "      cursor: pointer;\n",
              "      display: none;\n",
              "      fill: #1967D2;\n",
              "      height: 32px;\n",
              "      padding: 0 0 0 0;\n",
              "      width: 32px;\n",
              "    }\n",
              "\n",
              "    .colab-df-convert:hover {\n",
              "      background-color: #E2EBFA;\n",
              "      box-shadow: 0px 1px 2px rgba(60, 64, 67, 0.3), 0px 1px 3px 1px rgba(60, 64, 67, 0.15);\n",
              "      fill: #174EA6;\n",
              "    }\n",
              "\n",
              "    .colab-df-buttons div {\n",
              "      margin-bottom: 4px;\n",
              "    }\n",
              "\n",
              "    [theme=dark] .colab-df-convert {\n",
              "      background-color: #3B4455;\n",
              "      fill: #D2E3FC;\n",
              "    }\n",
              "\n",
              "    [theme=dark] .colab-df-convert:hover {\n",
              "      background-color: #434B5C;\n",
              "      box-shadow: 0px 1px 3px 1px rgba(0, 0, 0, 0.15);\n",
              "      filter: drop-shadow(0px 1px 2px rgba(0, 0, 0, 0.3));\n",
              "      fill: #FFFFFF;\n",
              "    }\n",
              "  </style>\n",
              "\n",
              "    <script>\n",
              "      const buttonEl =\n",
              "        document.querySelector('#df-cd956be5-3e6a-450e-ab33-5da59d42033e button.colab-df-convert');\n",
              "      buttonEl.style.display =\n",
              "        google.colab.kernel.accessAllowed ? 'block' : 'none';\n",
              "\n",
              "      async function convertToInteractive(key) {\n",
              "        const element = document.querySelector('#df-cd956be5-3e6a-450e-ab33-5da59d42033e');\n",
              "        const dataTable =\n",
              "          await google.colab.kernel.invokeFunction('convertToInteractive',\n",
              "                                                    [key], {});\n",
              "        if (!dataTable) return;\n",
              "\n",
              "        const docLinkHtml = 'Like what you see? Visit the ' +\n",
              "          '<a target=\"_blank\" href=https://colab.research.google.com/notebooks/data_table.ipynb>data table notebook</a>'\n",
              "          + ' to learn more about interactive tables.';\n",
              "        element.innerHTML = '';\n",
              "        dataTable['output_type'] = 'display_data';\n",
              "        await google.colab.output.renderOutput(dataTable, element);\n",
              "        const docLink = document.createElement('div');\n",
              "        docLink.innerHTML = docLinkHtml;\n",
              "        element.appendChild(docLink);\n",
              "      }\n",
              "    </script>\n",
              "  </div>\n",
              "\n",
              "\n",
              "    <div id=\"df-005a1451-46bb-480b-aea3-049ac18e5f6b\">\n",
              "      <button class=\"colab-df-quickchart\" onclick=\"quickchart('df-005a1451-46bb-480b-aea3-049ac18e5f6b')\"\n",
              "                title=\"Suggest charts\"\n",
              "                style=\"display:none;\">\n",
              "\n",
              "<svg xmlns=\"http://www.w3.org/2000/svg\" height=\"24px\"viewBox=\"0 0 24 24\"\n",
              "     width=\"24px\">\n",
              "    <g>\n",
              "        <path d=\"M19 3H5c-1.1 0-2 .9-2 2v14c0 1.1.9 2 2 2h14c1.1 0 2-.9 2-2V5c0-1.1-.9-2-2-2zM9 17H7v-7h2v7zm4 0h-2V7h2v10zm4 0h-2v-4h2v4z\"/>\n",
              "    </g>\n",
              "</svg>\n",
              "      </button>\n",
              "\n",
              "<style>\n",
              "  .colab-df-quickchart {\n",
              "      --bg-color: #E8F0FE;\n",
              "      --fill-color: #1967D2;\n",
              "      --hover-bg-color: #E2EBFA;\n",
              "      --hover-fill-color: #174EA6;\n",
              "      --disabled-fill-color: #AAA;\n",
              "      --disabled-bg-color: #DDD;\n",
              "  }\n",
              "\n",
              "  [theme=dark] .colab-df-quickchart {\n",
              "      --bg-color: #3B4455;\n",
              "      --fill-color: #D2E3FC;\n",
              "      --hover-bg-color: #434B5C;\n",
              "      --hover-fill-color: #FFFFFF;\n",
              "      --disabled-bg-color: #3B4455;\n",
              "      --disabled-fill-color: #666;\n",
              "  }\n",
              "\n",
              "  .colab-df-quickchart {\n",
              "    background-color: var(--bg-color);\n",
              "    border: none;\n",
              "    border-radius: 50%;\n",
              "    cursor: pointer;\n",
              "    display: none;\n",
              "    fill: var(--fill-color);\n",
              "    height: 32px;\n",
              "    padding: 0;\n",
              "    width: 32px;\n",
              "  }\n",
              "\n",
              "  .colab-df-quickchart:hover {\n",
              "    background-color: var(--hover-bg-color);\n",
              "    box-shadow: 0 1px 2px rgba(60, 64, 67, 0.3), 0 1px 3px 1px rgba(60, 64, 67, 0.15);\n",
              "    fill: var(--button-hover-fill-color);\n",
              "  }\n",
              "\n",
              "  .colab-df-quickchart-complete:disabled,\n",
              "  .colab-df-quickchart-complete:disabled:hover {\n",
              "    background-color: var(--disabled-bg-color);\n",
              "    fill: var(--disabled-fill-color);\n",
              "    box-shadow: none;\n",
              "  }\n",
              "\n",
              "  .colab-df-spinner {\n",
              "    border: 2px solid var(--fill-color);\n",
              "    border-color: transparent;\n",
              "    border-bottom-color: var(--fill-color);\n",
              "    animation:\n",
              "      spin 1s steps(1) infinite;\n",
              "  }\n",
              "\n",
              "  @keyframes spin {\n",
              "    0% {\n",
              "      border-color: transparent;\n",
              "      border-bottom-color: var(--fill-color);\n",
              "      border-left-color: var(--fill-color);\n",
              "    }\n",
              "    20% {\n",
              "      border-color: transparent;\n",
              "      border-left-color: var(--fill-color);\n",
              "      border-top-color: var(--fill-color);\n",
              "    }\n",
              "    30% {\n",
              "      border-color: transparent;\n",
              "      border-left-color: var(--fill-color);\n",
              "      border-top-color: var(--fill-color);\n",
              "      border-right-color: var(--fill-color);\n",
              "    }\n",
              "    40% {\n",
              "      border-color: transparent;\n",
              "      border-right-color: var(--fill-color);\n",
              "      border-top-color: var(--fill-color);\n",
              "    }\n",
              "    60% {\n",
              "      border-color: transparent;\n",
              "      border-right-color: var(--fill-color);\n",
              "    }\n",
              "    80% {\n",
              "      border-color: transparent;\n",
              "      border-right-color: var(--fill-color);\n",
              "      border-bottom-color: var(--fill-color);\n",
              "    }\n",
              "    90% {\n",
              "      border-color: transparent;\n",
              "      border-bottom-color: var(--fill-color);\n",
              "    }\n",
              "  }\n",
              "</style>\n",
              "\n",
              "      <script>\n",
              "        async function quickchart(key) {\n",
              "          const quickchartButtonEl =\n",
              "            document.querySelector('#' + key + ' button');\n",
              "          quickchartButtonEl.disabled = true;  // To prevent multiple clicks.\n",
              "          quickchartButtonEl.classList.add('colab-df-spinner');\n",
              "          try {\n",
              "            const charts = await google.colab.kernel.invokeFunction(\n",
              "                'suggestCharts', [key], {});\n",
              "          } catch (error) {\n",
              "            console.error('Error during call to suggestCharts:', error);\n",
              "          }\n",
              "          quickchartButtonEl.classList.remove('colab-df-spinner');\n",
              "          quickchartButtonEl.classList.add('colab-df-quickchart-complete');\n",
              "        }\n",
              "        (() => {\n",
              "          let quickchartButtonEl =\n",
              "            document.querySelector('#df-005a1451-46bb-480b-aea3-049ac18e5f6b button');\n",
              "          quickchartButtonEl.style.display =\n",
              "            google.colab.kernel.accessAllowed ? 'block' : 'none';\n",
              "        })();\n",
              "      </script>\n",
              "    </div>\n",
              "\n",
              "    </div>\n",
              "  </div>\n"
            ],
            "text/plain": [
              "   SDMVSTRA  age_adj_prevalence\n",
              "0     134.0            0.099036\n",
              "1     135.0            0.128388\n",
              "2     136.0            0.136306\n",
              "3     137.0            0.131166\n",
              "4     138.0            0.136666"
            ]
          },
          "execution_count": 13,
          "metadata": {},
          "output_type": "execute_result"
        }
      ],
      "source": [
        "def age_adjusted(df, weight_map):\n",
        "    df = df.copy()\n",
        "    df['age_bin_str'] = df['age_bin'].astype(str)\n",
        "    df['std_weight'] = df['age_bin_str'].map(weight_map).astype(float)\n",
        "    df['weighted_prev'] = df['prevalence'] * df['std_weight']\n",
        "    return df.groupby(region_proxy)['weighted_prev'].sum().reset_index(\n",
        "        name='age_adj_prevalence'\n",
        "    )\n",
        "\n",
        "age_std = age_adjusted(grouped, std_pop)\n",
        "age_std.head()\n"
      ]
    },
    {
      "cell_type": "code",
      "execution_count": null,
      "metadata": {
        "colab": {
          "background_save": true
        },
        "id": "dZhRG4s9xegW"
      },
      "outputs": [],
      "source": [
        "grouped.to_csv('/content/drive/MyDrive/Spring2025/TH/256-project/output/nhanes_grouped.csv', index=False)\n",
        "age_std.to_csv('/content/drive/MyDrive/Spring2025/TH/256-project/output/nhanes_age_std.csv', index=False)\n"
      ]
    },
    {
      "cell_type": "markdown",
      "metadata": {
        "id": "-dKCA1TujMWk"
      },
      "source": [
        "Build composite score via PCA (if combining multiple indicators)"
      ]
    },
    {
      "cell_type": "code",
      "execution_count": null,
      "metadata": {
        "colab": {
          "background_save": true
        },
        "id": "atvV0FMRjLDp",
        "outputId": "7bf6b264-ca2d-44d6-8aa7-5651088235ca"
      },
      "outputs": [
        {
          "name": "stdout",
          "output_type": "stream",
          "text": [
            "PCA weights: [1.]\n"
          ]
        },
        {
          "data": {
            "application/vnd.google.colaboratory.intrinsic+json": {
              "summary": "{\n  \"name\": \"grouped\",\n  \"rows\": 75,\n  \"fields\": [\n    {\n      \"column\": \"SDMVSTRA\",\n      \"properties\": {\n        \"dtype\": \"number\",\n        \"std\": 4.3495883620084,\n        \"min\": 134.0,\n        \"max\": 148.0,\n        \"num_unique_values\": 15,\n        \"samples\": [\n          143.0,\n          145.0,\n          134.0\n        ],\n        \"semantic_type\": \"\",\n        \"description\": \"\"\n      }\n    },\n    {\n      \"column\": \"age_bin\",\n      \"properties\": {\n        \"dtype\": \"category\",\n        \"num_unique_values\": 5,\n        \"samples\": [\n          \"31\\u201345\",\n          \"76+\",\n          \"46\\u201360\"\n        ],\n        \"semantic_type\": \"\",\n        \"description\": \"\"\n      }\n    },\n    {\n      \"column\": \"prevalence\",\n      \"properties\": {\n        \"dtype\": \"number\",\n        \"std\": 0.12790514558625776,\n        \"min\": 0.0,\n        \"max\": 0.41975308641975306,\n        \"num_unique_values\": 65,\n        \"samples\": [\n          0.010101010101010102,\n          0.189873417721519,\n          0.0\n        ],\n        \"semantic_type\": \"\",\n        \"description\": \"\"\n      }\n    },\n    {\n      \"column\": \"n\",\n      \"properties\": {\n        \"dtype\": \"number\",\n        \"std\": 22,\n        \"min\": 24,\n        \"max\": 118,\n        \"num_unique_values\": 49,\n        \"samples\": [\n          100,\n          68,\n          106\n        ],\n        \"semantic_type\": \"\",\n        \"description\": \"\"\n      }\n    },\n    {\n      \"column\": \"composite_burden\",\n      \"properties\": {\n        \"dtype\": \"number\",\n        \"std\": 1.0067340828210365,\n        \"min\": -1.3073989545468843,\n        \"max\": 1.9964535725049413,\n        \"num_unique_values\": 65,\n        \"samples\": [\n          -1.2278944819707707,\n          0.18708385273828632,\n          -1.3073989545468843\n        ],\n        \"semantic_type\": \"\",\n        \"description\": \"\"\n      }\n    }\n  ]\n}",
              "type": "dataframe",
              "variable_name": "grouped"
            },
            "text/html": [
              "\n",
              "  <div id=\"df-d8fecfe3-5898-4606-afad-d724fb11c41e\" class=\"colab-df-container\">\n",
              "    <div>\n",
              "<style scoped>\n",
              "    .dataframe tbody tr th:only-of-type {\n",
              "        vertical-align: middle;\n",
              "    }\n",
              "\n",
              "    .dataframe tbody tr th {\n",
              "        vertical-align: top;\n",
              "    }\n",
              "\n",
              "    .dataframe thead th {\n",
              "        text-align: right;\n",
              "    }\n",
              "</style>\n",
              "<table border=\"1\" class=\"dataframe\">\n",
              "  <thead>\n",
              "    <tr style=\"text-align: right;\">\n",
              "      <th></th>\n",
              "      <th>SDMVSTRA</th>\n",
              "      <th>age_bin</th>\n",
              "      <th>prevalence</th>\n",
              "      <th>n</th>\n",
              "      <th>composite_burden</th>\n",
              "    </tr>\n",
              "  </thead>\n",
              "  <tbody>\n",
              "    <tr>\n",
              "      <th>0</th>\n",
              "      <td>134.0</td>\n",
              "      <td>18–30</td>\n",
              "      <td>0.000000</td>\n",
              "      <td>47</td>\n",
              "      <td>-1.307399</td>\n",
              "    </tr>\n",
              "    <tr>\n",
              "      <th>1</th>\n",
              "      <td>134.0</td>\n",
              "      <td>31–45</td>\n",
              "      <td>0.031746</td>\n",
              "      <td>63</td>\n",
              "      <td>-1.057528</td>\n",
              "    </tr>\n",
              "    <tr>\n",
              "      <th>2</th>\n",
              "      <td>134.0</td>\n",
              "      <td>46–60</td>\n",
              "      <td>0.141026</td>\n",
              "      <td>78</td>\n",
              "      <td>-0.197394</td>\n",
              "    </tr>\n",
              "    <tr>\n",
              "      <th>3</th>\n",
              "      <td>134.0</td>\n",
              "      <td>61–75</td>\n",
              "      <td>0.209302</td>\n",
              "      <td>86</td>\n",
              "      <td>0.340008</td>\n",
              "    </tr>\n",
              "    <tr>\n",
              "      <th>4</th>\n",
              "      <td>134.0</td>\n",
              "      <td>76+</td>\n",
              "      <td>0.309524</td>\n",
              "      <td>42</td>\n",
              "      <td>1.128845</td>\n",
              "    </tr>\n",
              "  </tbody>\n",
              "</table>\n",
              "</div>\n",
              "    <div class=\"colab-df-buttons\">\n",
              "\n",
              "  <div class=\"colab-df-container\">\n",
              "    <button class=\"colab-df-convert\" onclick=\"convertToInteractive('df-d8fecfe3-5898-4606-afad-d724fb11c41e')\"\n",
              "            title=\"Convert this dataframe to an interactive table.\"\n",
              "            style=\"display:none;\">\n",
              "\n",
              "  <svg xmlns=\"http://www.w3.org/2000/svg\" height=\"24px\" viewBox=\"0 -960 960 960\">\n",
              "    <path d=\"M120-120v-720h720v720H120Zm60-500h600v-160H180v160Zm220 220h160v-160H400v160Zm0 220h160v-160H400v160ZM180-400h160v-160H180v160Zm440 0h160v-160H620v160ZM180-180h160v-160H180v160Zm440 0h160v-160H620v160Z\"/>\n",
              "  </svg>\n",
              "    </button>\n",
              "\n",
              "  <style>\n",
              "    .colab-df-container {\n",
              "      display:flex;\n",
              "      gap: 12px;\n",
              "    }\n",
              "\n",
              "    .colab-df-convert {\n",
              "      background-color: #E8F0FE;\n",
              "      border: none;\n",
              "      border-radius: 50%;\n",
              "      cursor: pointer;\n",
              "      display: none;\n",
              "      fill: #1967D2;\n",
              "      height: 32px;\n",
              "      padding: 0 0 0 0;\n",
              "      width: 32px;\n",
              "    }\n",
              "\n",
              "    .colab-df-convert:hover {\n",
              "      background-color: #E2EBFA;\n",
              "      box-shadow: 0px 1px 2px rgba(60, 64, 67, 0.3), 0px 1px 3px 1px rgba(60, 64, 67, 0.15);\n",
              "      fill: #174EA6;\n",
              "    }\n",
              "\n",
              "    .colab-df-buttons div {\n",
              "      margin-bottom: 4px;\n",
              "    }\n",
              "\n",
              "    [theme=dark] .colab-df-convert {\n",
              "      background-color: #3B4455;\n",
              "      fill: #D2E3FC;\n",
              "    }\n",
              "\n",
              "    [theme=dark] .colab-df-convert:hover {\n",
              "      background-color: #434B5C;\n",
              "      box-shadow: 0px 1px 3px 1px rgba(0, 0, 0, 0.15);\n",
              "      filter: drop-shadow(0px 1px 2px rgba(0, 0, 0, 0.3));\n",
              "      fill: #FFFFFF;\n",
              "    }\n",
              "  </style>\n",
              "\n",
              "    <script>\n",
              "      const buttonEl =\n",
              "        document.querySelector('#df-d8fecfe3-5898-4606-afad-d724fb11c41e button.colab-df-convert');\n",
              "      buttonEl.style.display =\n",
              "        google.colab.kernel.accessAllowed ? 'block' : 'none';\n",
              "\n",
              "      async function convertToInteractive(key) {\n",
              "        const element = document.querySelector('#df-d8fecfe3-5898-4606-afad-d724fb11c41e');\n",
              "        const dataTable =\n",
              "          await google.colab.kernel.invokeFunction('convertToInteractive',\n",
              "                                                    [key], {});\n",
              "        if (!dataTable) return;\n",
              "\n",
              "        const docLinkHtml = 'Like what you see? Visit the ' +\n",
              "          '<a target=\"_blank\" href=https://colab.research.google.com/notebooks/data_table.ipynb>data table notebook</a>'\n",
              "          + ' to learn more about interactive tables.';\n",
              "        element.innerHTML = '';\n",
              "        dataTable['output_type'] = 'display_data';\n",
              "        await google.colab.output.renderOutput(dataTable, element);\n",
              "        const docLink = document.createElement('div');\n",
              "        docLink.innerHTML = docLinkHtml;\n",
              "        element.appendChild(docLink);\n",
              "      }\n",
              "    </script>\n",
              "  </div>\n",
              "\n",
              "\n",
              "    <div id=\"df-e7c28346-1c57-4f82-85e6-8d695e439ab4\">\n",
              "      <button class=\"colab-df-quickchart\" onclick=\"quickchart('df-e7c28346-1c57-4f82-85e6-8d695e439ab4')\"\n",
              "                title=\"Suggest charts\"\n",
              "                style=\"display:none;\">\n",
              "\n",
              "<svg xmlns=\"http://www.w3.org/2000/svg\" height=\"24px\"viewBox=\"0 0 24 24\"\n",
              "     width=\"24px\">\n",
              "    <g>\n",
              "        <path d=\"M19 3H5c-1.1 0-2 .9-2 2v14c0 1.1.9 2 2 2h14c1.1 0 2-.9 2-2V5c0-1.1-.9-2-2-2zM9 17H7v-7h2v7zm4 0h-2V7h2v10zm4 0h-2v-4h2v4z\"/>\n",
              "    </g>\n",
              "</svg>\n",
              "      </button>\n",
              "\n",
              "<style>\n",
              "  .colab-df-quickchart {\n",
              "      --bg-color: #E8F0FE;\n",
              "      --fill-color: #1967D2;\n",
              "      --hover-bg-color: #E2EBFA;\n",
              "      --hover-fill-color: #174EA6;\n",
              "      --disabled-fill-color: #AAA;\n",
              "      --disabled-bg-color: #DDD;\n",
              "  }\n",
              "\n",
              "  [theme=dark] .colab-df-quickchart {\n",
              "      --bg-color: #3B4455;\n",
              "      --fill-color: #D2E3FC;\n",
              "      --hover-bg-color: #434B5C;\n",
              "      --hover-fill-color: #FFFFFF;\n",
              "      --disabled-bg-color: #3B4455;\n",
              "      --disabled-fill-color: #666;\n",
              "  }\n",
              "\n",
              "  .colab-df-quickchart {\n",
              "    background-color: var(--bg-color);\n",
              "    border: none;\n",
              "    border-radius: 50%;\n",
              "    cursor: pointer;\n",
              "    display: none;\n",
              "    fill: var(--fill-color);\n",
              "    height: 32px;\n",
              "    padding: 0;\n",
              "    width: 32px;\n",
              "  }\n",
              "\n",
              "  .colab-df-quickchart:hover {\n",
              "    background-color: var(--hover-bg-color);\n",
              "    box-shadow: 0 1px 2px rgba(60, 64, 67, 0.3), 0 1px 3px 1px rgba(60, 64, 67, 0.15);\n",
              "    fill: var(--button-hover-fill-color);\n",
              "  }\n",
              "\n",
              "  .colab-df-quickchart-complete:disabled,\n",
              "  .colab-df-quickchart-complete:disabled:hover {\n",
              "    background-color: var(--disabled-bg-color);\n",
              "    fill: var(--disabled-fill-color);\n",
              "    box-shadow: none;\n",
              "  }\n",
              "\n",
              "  .colab-df-spinner {\n",
              "    border: 2px solid var(--fill-color);\n",
              "    border-color: transparent;\n",
              "    border-bottom-color: var(--fill-color);\n",
              "    animation:\n",
              "      spin 1s steps(1) infinite;\n",
              "  }\n",
              "\n",
              "  @keyframes spin {\n",
              "    0% {\n",
              "      border-color: transparent;\n",
              "      border-bottom-color: var(--fill-color);\n",
              "      border-left-color: var(--fill-color);\n",
              "    }\n",
              "    20% {\n",
              "      border-color: transparent;\n",
              "      border-left-color: var(--fill-color);\n",
              "      border-top-color: var(--fill-color);\n",
              "    }\n",
              "    30% {\n",
              "      border-color: transparent;\n",
              "      border-left-color: var(--fill-color);\n",
              "      border-top-color: var(--fill-color);\n",
              "      border-right-color: var(--fill-color);\n",
              "    }\n",
              "    40% {\n",
              "      border-color: transparent;\n",
              "      border-right-color: var(--fill-color);\n",
              "      border-top-color: var(--fill-color);\n",
              "    }\n",
              "    60% {\n",
              "      border-color: transparent;\n",
              "      border-right-color: var(--fill-color);\n",
              "    }\n",
              "    80% {\n",
              "      border-color: transparent;\n",
              "      border-right-color: var(--fill-color);\n",
              "      border-bottom-color: var(--fill-color);\n",
              "    }\n",
              "    90% {\n",
              "      border-color: transparent;\n",
              "      border-bottom-color: var(--fill-color);\n",
              "    }\n",
              "  }\n",
              "</style>\n",
              "\n",
              "      <script>\n",
              "        async function quickchart(key) {\n",
              "          const quickchartButtonEl =\n",
              "            document.querySelector('#' + key + ' button');\n",
              "          quickchartButtonEl.disabled = true;  // To prevent multiple clicks.\n",
              "          quickchartButtonEl.classList.add('colab-df-spinner');\n",
              "          try {\n",
              "            const charts = await google.colab.kernel.invokeFunction(\n",
              "                'suggestCharts', [key], {});\n",
              "          } catch (error) {\n",
              "            console.error('Error during call to suggestCharts:', error);\n",
              "          }\n",
              "          quickchartButtonEl.classList.remove('colab-df-spinner');\n",
              "          quickchartButtonEl.classList.add('colab-df-quickchart-complete');\n",
              "        }\n",
              "        (() => {\n",
              "          let quickchartButtonEl =\n",
              "            document.querySelector('#df-e7c28346-1c57-4f82-85e6-8d695e439ab4 button');\n",
              "          quickchartButtonEl.style.display =\n",
              "            google.colab.kernel.accessAllowed ? 'block' : 'none';\n",
              "        })();\n",
              "      </script>\n",
              "    </div>\n",
              "\n",
              "    </div>\n",
              "  </div>\n"
            ],
            "text/plain": [
              "   SDMVSTRA age_bin  prevalence   n  composite_burden\n",
              "0     134.0   18–30    0.000000  47         -1.307399\n",
              "1     134.0   31–45    0.031746  63         -1.057528\n",
              "2     134.0   46–60    0.141026  78         -0.197394\n",
              "3     134.0   61–75    0.209302  86          0.340008\n",
              "4     134.0     76+    0.309524  42          1.128845"
            ]
          },
          "execution_count": 15,
          "metadata": {},
          "output_type": "execute_result"
        }
      ],
      "source": [
        "composite, weights = pca_composite(z_prev)\n",
        "grouped['composite_burden'] = composite\n",
        "\n",
        "print(\"PCA weights:\", weights)\n",
        "grouped.head()"
      ]
    },
    {
      "cell_type": "markdown",
      "metadata": {
        "id": "_q9ARcdxyPEv"
      },
      "source": [
        "### IV. Age-Standardized Prevalence Mapping"
      ]
    },
    {
      "cell_type": "markdown",
      "metadata": {
        "id": "lXpwwGl1yoCG"
      },
      "source": [
        "Step 1: Load nhanes_grouped.csv and nhanes_age_std.csv"
      ]
    },
    {
      "cell_type": "code",
      "execution_count": null,
      "metadata": {
        "colab": {
          "background_save": true
        },
        "id": "EKwe9MFoyxcj"
      },
      "outputs": [],
      "source": [
        "import pandas as pd\n",
        "import plotly.express as px\n",
        "\n",
        "grouped = pd.read_csv('/content/drive/MyDrive/Spring2025/TH/256-project/output/nhanes_grouped.csv')\n",
        "age_std = pd.read_csv('/content/drive/MyDrive/Spring2025/TH/256-project/output/nhanes_age_std.csv')\n"
      ]
    },
    {
      "cell_type": "code",
      "execution_count": null,
      "metadata": {
        "colab": {
          "background_save": true
        },
        "id": "jt86Zg9qzDpO",
        "outputId": "d88e53cc-4fab-415e-8f82-6ccdcd910ccb"
      },
      "outputs": [
        {
          "name": "stdout",
          "output_type": "stream",
          "text": [
            "Unique region codes in grouped: [134. 135. 136. 137. 138. 139. 140. 141. 142. 143. 144. 145. 146. 147.\n",
            " 148.]\n",
            "Unique region codes in age_std: [134. 135. 136. 137. 138. 139. 140. 141. 142. 143. 144. 145. 146. 147.\n",
            " 148.]\n"
          ]
        }
      ],
      "source": [
        "print(\"Unique region codes in grouped:\", grouped['SDMVSTRA'].unique())\n",
        "print(\"Unique region codes in age_std:\", age_std['SDMVSTRA'].unique())\n"
      ]
    },
    {
      "cell_type": "markdown",
      "metadata": {
        "id": "V-mEigPCzVU5"
      },
      "source": [
        "Step 2: Apply mapping"
      ]
    },
    {
      "cell_type": "code",
      "execution_count": null,
      "metadata": {
        "colab": {
          "background_save": true
        },
        "id": "IBdhdQNyzfoy"
      },
      "outputs": [],
      "source": [
        "strata_to_region = {\n",
        "    134: 'Northeast', 135: 'Northeast', 136: 'Northeast', 137: 'Northeast',\n",
        "    138: 'Midwest', 139: 'Midwest', 140: 'Midwest', 141: 'Midwest',\n",
        "    142: 'South', 143: 'South', 144: 'South', 145: 'South',\n",
        "    146: 'West', 147: 'West', 148: 'West', 149: 'West',\n",
        "    150: 'West'\n",
        "}\n",
        "# Map survey strata codes to state abbreviations\n",
        "\n",
        "age_std['SDMVSTRA'] = age_std['SDMVSTRA'].astype(int)\n",
        "age_std['region'] = age_std['SDMVSTRA'].map(strata_to_region)"
      ]
    },
    {
      "cell_type": "code",
      "execution_count": null,
      "metadata": {
        "colab": {
          "background_save": true
        },
        "id": "QgTPlgc72PVL",
        "outputId": "47d7b2b0-9fbf-4dbc-d277-86a71d5f4799"
      },
      "outputs": [
        {
          "name": "stdout",
          "output_type": "stream",
          "text": [
            "   SDMVSTRA  age_adj_prevalence\n",
            "0       134            0.099036\n",
            "1       135            0.128388\n",
            "2       136            0.136306\n",
            "3       137            0.131166\n",
            "4       138            0.136666\n",
            "5       139            0.139837\n",
            "6       140            0.100180\n",
            "7       141            0.122098\n",
            "8       142            0.121626\n",
            "9       143            0.147801\n"
          ]
        }
      ],
      "source": [
        "print(age_std[['SDMVSTRA','age_adj_prevalence']].head(10))\n"
      ]
    },
    {
      "cell_type": "code",
      "execution_count": null,
      "metadata": {
        "colab": {
          "background_save": true
        },
        "id": "uRaL57rC57Bu",
        "outputId": "f5622f2c-a44d-42c1-df8e-c5f9a4f2a001"
      },
      "outputs": [
        {
          "name": "stdout",
          "output_type": "stream",
          "text": [
            "      region  mean_age_std_prev\n",
            "0    Midwest           0.124695\n",
            "1  Northeast           0.123724\n",
            "2      South           0.117349\n",
            "3       West           0.143699\n"
          ]
        }
      ],
      "source": [
        "region_prev = (\n",
        "    age_std\n",
        "    .groupby('region')['age_adj_prevalence']\n",
        "    .mean()\n",
        "    .reset_index(name='mean_age_std_prev')\n",
        ")\n",
        "print(region_prev)\n"
      ]
    },
    {
      "cell_type": "markdown",
      "metadata": {
        "id": "F8vYBYzh1qX-"
      },
      "source": [
        "Step 5: Plotly choropleth of age-standardized prevalence and style adjustments"
      ]
    },
    {
      "cell_type": "code",
      "execution_count": null,
      "metadata": {
        "colab": {
          "background_save": true
        },
        "id": "wsO0zyu4y6Kg",
        "outputId": "b6bf77e3-502a-4c22-815d-f0c254e372fe"
      },
      "outputs": [
        {
          "data": {
            "text/html": [
              "<html>\n",
              "<head><meta charset=\"utf-8\" /></head>\n",
              "<body>\n",
              "    <div>            <script src=\"https://cdnjs.cloudflare.com/ajax/libs/mathjax/2.7.5/MathJax.js?config=TeX-AMS-MML_SVG\"></script><script type=\"text/javascript\">if (window.MathJax && window.MathJax.Hub && window.MathJax.Hub.Config) {window.MathJax.Hub.Config({SVG: {font: \"STIX-Web\"}});}</script>                <script type=\"text/javascript\">window.PlotlyConfig = {MathJaxConfig: 'local'};</script>\n",
              "        <script charset=\"utf-8\" src=\"https://cdn.plot.ly/plotly-2.35.2.min.js\"></script>                <div id=\"1bfddf93-7405-43a1-9c2f-9fdc537c1b43\" class=\"plotly-graph-div\" style=\"height:525px; width:100%;\"></div>            <script type=\"text/javascript\">                                    window.PLOTLYENV=window.PLOTLYENV || {};                                    if (document.getElementById(\"1bfddf93-7405-43a1-9c2f-9fdc537c1b43\")) {                    Plotly.newPlot(                        \"1bfddf93-7405-43a1-9c2f-9fdc537c1b43\",                        [{\"coloraxis\":\"coloraxis\",\"customdata\":[[\"Northeast\",0.12372408736707916],[\"Northeast\",0.12372408736707916],[\"Northeast\",0.12372408736707916],[\"Northeast\",0.12372408736707916],[\"Northeast\",0.12372408736707916],[\"Northeast\",0.12372408736707916],[\"Northeast\",0.12372408736707916],[\"Northeast\",0.12372408736707916],[\"Northeast\",0.12372408736707916],[\"Midwest\",0.12469506648688725],[\"Midwest\",0.12469506648688725],[\"Midwest\",0.12469506648688725],[\"Midwest\",0.12469506648688725],[\"Midwest\",0.12469506648688725],[\"Midwest\",0.12469506648688725],[\"Midwest\",0.12469506648688725],[\"Midwest\",0.12469506648688725],[\"Midwest\",0.12469506648688725],[\"Midwest\",0.12469506648688725],[\"Midwest\",0.12469506648688725],[\"Midwest\",0.12469506648688725],[\"South\",0.1173486966544459],[\"South\",0.1173486966544459],[\"South\",0.1173486966544459],[\"South\",0.1173486966544459],[\"South\",0.1173486966544459],[\"South\",0.1173486966544459],[\"South\",0.1173486966544459],[\"South\",0.1173486966544459],[\"South\",0.1173486966544459],[\"South\",0.1173486966544459],[\"South\",0.1173486966544459],[\"South\",0.1173486966544459],[\"South\",0.1173486966544459],[\"South\",0.1173486966544459],[\"South\",0.1173486966544459],[\"South\",0.1173486966544459],[\"South\",0.1173486966544459],[\"West\",0.1436994704941469],[\"West\",0.1436994704941469],[\"West\",0.1436994704941469],[\"West\",0.1436994704941469],[\"West\",0.1436994704941469],[\"West\",0.1436994704941469],[\"West\",0.1436994704941469],[\"West\",0.1436994704941469],[\"West\",0.1436994704941469],[\"West\",0.1436994704941469],[\"West\",0.1436994704941469],[\"West\",0.1436994704941469],[\"West\",0.1436994704941469]],\"geo\":\"geo\",\"hovertemplate\":\"state=%{location}\\u003cbr\\u003eregion=%{customdata[0]}\\u003cbr\\u003eAge-Std Prevalence=%{z}\\u003cextra\\u003e\\u003c\\u002fextra\\u003e\",\"locationmode\":\"USA-states\",\"locations\":[\"CT\",\"ME\",\"MA\",\"NH\",\"RI\",\"VT\",\"NJ\",\"NY\",\"PA\",\"IL\",\"IN\",\"MI\",\"OH\",\"WI\",\"IA\",\"KS\",\"MN\",\"MO\",\"NE\",\"ND\",\"SD\",\"DE\",\"FL\",\"GA\",\"MD\",\"NC\",\"SC\",\"VA\",\"DC\",\"WV\",\"AL\",\"KY\",\"MS\",\"TN\",\"AR\",\"LA\",\"OK\",\"TX\",\"AZ\",\"CO\",\"ID\",\"MT\",\"NV\",\"NM\",\"UT\",\"WY\",\"AK\",\"CA\",\"HI\",\"OR\",\"WA\"],\"name\":\"\",\"z\":[0.12372408736707916,0.12372408736707916,0.12372408736707916,0.12372408736707916,0.12372408736707916,0.12372408736707916,0.12372408736707916,0.12372408736707916,0.12372408736707916,0.12469506648688725,0.12469506648688725,0.12469506648688725,0.12469506648688725,0.12469506648688725,0.12469506648688725,0.12469506648688725,0.12469506648688725,0.12469506648688725,0.12469506648688725,0.12469506648688725,0.12469506648688725,0.1173486966544459,0.1173486966544459,0.1173486966544459,0.1173486966544459,0.1173486966544459,0.1173486966544459,0.1173486966544459,0.1173486966544459,0.1173486966544459,0.1173486966544459,0.1173486966544459,0.1173486966544459,0.1173486966544459,0.1173486966544459,0.1173486966544459,0.1173486966544459,0.1173486966544459,0.1436994704941469,0.1436994704941469,0.1436994704941469,0.1436994704941469,0.1436994704941469,0.1436994704941469,0.1436994704941469,0.1436994704941469,0.1436994704941469,0.1436994704941469,0.1436994704941469,0.1436994704941469,0.1436994704941469],\"type\":\"choropleth\"}],                        {\"template\":{\"data\":{\"histogram2dcontour\":[{\"type\":\"histogram2dcontour\",\"colorbar\":{\"outlinewidth\":0,\"ticks\":\"\"},\"colorscale\":[[0.0,\"#0d0887\"],[0.1111111111111111,\"#46039f\"],[0.2222222222222222,\"#7201a8\"],[0.3333333333333333,\"#9c179e\"],[0.4444444444444444,\"#bd3786\"],[0.5555555555555556,\"#d8576b\"],[0.6666666666666666,\"#ed7953\"],[0.7777777777777778,\"#fb9f3a\"],[0.8888888888888888,\"#fdca26\"],[1.0,\"#f0f921\"]]}],\"choropleth\":[{\"type\":\"choropleth\",\"colorbar\":{\"outlinewidth\":0,\"ticks\":\"\"}}],\"histogram2d\":[{\"type\":\"histogram2d\",\"colorbar\":{\"outlinewidth\":0,\"ticks\":\"\"},\"colorscale\":[[0.0,\"#0d0887\"],[0.1111111111111111,\"#46039f\"],[0.2222222222222222,\"#7201a8\"],[0.3333333333333333,\"#9c179e\"],[0.4444444444444444,\"#bd3786\"],[0.5555555555555556,\"#d8576b\"],[0.6666666666666666,\"#ed7953\"],[0.7777777777777778,\"#fb9f3a\"],[0.8888888888888888,\"#fdca26\"],[1.0,\"#f0f921\"]]}],\"heatmap\":[{\"type\":\"heatmap\",\"colorbar\":{\"outlinewidth\":0,\"ticks\":\"\"},\"colorscale\":[[0.0,\"#0d0887\"],[0.1111111111111111,\"#46039f\"],[0.2222222222222222,\"#7201a8\"],[0.3333333333333333,\"#9c179e\"],[0.4444444444444444,\"#bd3786\"],[0.5555555555555556,\"#d8576b\"],[0.6666666666666666,\"#ed7953\"],[0.7777777777777778,\"#fb9f3a\"],[0.8888888888888888,\"#fdca26\"],[1.0,\"#f0f921\"]]}],\"heatmapgl\":[{\"type\":\"heatmapgl\",\"colorbar\":{\"outlinewidth\":0,\"ticks\":\"\"},\"colorscale\":[[0.0,\"#0d0887\"],[0.1111111111111111,\"#46039f\"],[0.2222222222222222,\"#7201a8\"],[0.3333333333333333,\"#9c179e\"],[0.4444444444444444,\"#bd3786\"],[0.5555555555555556,\"#d8576b\"],[0.6666666666666666,\"#ed7953\"],[0.7777777777777778,\"#fb9f3a\"],[0.8888888888888888,\"#fdca26\"],[1.0,\"#f0f921\"]]}],\"contourcarpet\":[{\"type\":\"contourcarpet\",\"colorbar\":{\"outlinewidth\":0,\"ticks\":\"\"}}],\"contour\":[{\"type\":\"contour\",\"colorbar\":{\"outlinewidth\":0,\"ticks\":\"\"},\"colorscale\":[[0.0,\"#0d0887\"],[0.1111111111111111,\"#46039f\"],[0.2222222222222222,\"#7201a8\"],[0.3333333333333333,\"#9c179e\"],[0.4444444444444444,\"#bd3786\"],[0.5555555555555556,\"#d8576b\"],[0.6666666666666666,\"#ed7953\"],[0.7777777777777778,\"#fb9f3a\"],[0.8888888888888888,\"#fdca26\"],[1.0,\"#f0f921\"]]}],\"surface\":[{\"type\":\"surface\",\"colorbar\":{\"outlinewidth\":0,\"ticks\":\"\"},\"colorscale\":[[0.0,\"#0d0887\"],[0.1111111111111111,\"#46039f\"],[0.2222222222222222,\"#7201a8\"],[0.3333333333333333,\"#9c179e\"],[0.4444444444444444,\"#bd3786\"],[0.5555555555555556,\"#d8576b\"],[0.6666666666666666,\"#ed7953\"],[0.7777777777777778,\"#fb9f3a\"],[0.8888888888888888,\"#fdca26\"],[1.0,\"#f0f921\"]]}],\"mesh3d\":[{\"type\":\"mesh3d\",\"colorbar\":{\"outlinewidth\":0,\"ticks\":\"\"}}],\"scatter\":[{\"fillpattern\":{\"fillmode\":\"overlay\",\"size\":10,\"solidity\":0.2},\"type\":\"scatter\"}],\"parcoords\":[{\"type\":\"parcoords\",\"line\":{\"colorbar\":{\"outlinewidth\":0,\"ticks\":\"\"}}}],\"scatterpolargl\":[{\"type\":\"scatterpolargl\",\"marker\":{\"colorbar\":{\"outlinewidth\":0,\"ticks\":\"\"}}}],\"bar\":[{\"error_x\":{\"color\":\"#2a3f5f\"},\"error_y\":{\"color\":\"#2a3f5f\"},\"marker\":{\"line\":{\"color\":\"#E5ECF6\",\"width\":0.5},\"pattern\":{\"fillmode\":\"overlay\",\"size\":10,\"solidity\":0.2}},\"type\":\"bar\"}],\"scattergeo\":[{\"type\":\"scattergeo\",\"marker\":{\"colorbar\":{\"outlinewidth\":0,\"ticks\":\"\"}}}],\"scatterpolar\":[{\"type\":\"scatterpolar\",\"marker\":{\"colorbar\":{\"outlinewidth\":0,\"ticks\":\"\"}}}],\"histogram\":[{\"marker\":{\"pattern\":{\"fillmode\":\"overlay\",\"size\":10,\"solidity\":0.2}},\"type\":\"histogram\"}],\"scattergl\":[{\"type\":\"scattergl\",\"marker\":{\"colorbar\":{\"outlinewidth\":0,\"ticks\":\"\"}}}],\"scatter3d\":[{\"type\":\"scatter3d\",\"line\":{\"colorbar\":{\"outlinewidth\":0,\"ticks\":\"\"}},\"marker\":{\"colorbar\":{\"outlinewidth\":0,\"ticks\":\"\"}}}],\"scattermapbox\":[{\"type\":\"scattermapbox\",\"marker\":{\"colorbar\":{\"outlinewidth\":0,\"ticks\":\"\"}}}],\"scatterternary\":[{\"type\":\"scatterternary\",\"marker\":{\"colorbar\":{\"outlinewidth\":0,\"ticks\":\"\"}}}],\"scattercarpet\":[{\"type\":\"scattercarpet\",\"marker\":{\"colorbar\":{\"outlinewidth\":0,\"ticks\":\"\"}}}],\"carpet\":[{\"aaxis\":{\"endlinecolor\":\"#2a3f5f\",\"gridcolor\":\"white\",\"linecolor\":\"white\",\"minorgridcolor\":\"white\",\"startlinecolor\":\"#2a3f5f\"},\"baxis\":{\"endlinecolor\":\"#2a3f5f\",\"gridcolor\":\"white\",\"linecolor\":\"white\",\"minorgridcolor\":\"white\",\"startlinecolor\":\"#2a3f5f\"},\"type\":\"carpet\"}],\"table\":[{\"cells\":{\"fill\":{\"color\":\"#EBF0F8\"},\"line\":{\"color\":\"white\"}},\"header\":{\"fill\":{\"color\":\"#C8D4E3\"},\"line\":{\"color\":\"white\"}},\"type\":\"table\"}],\"barpolar\":[{\"marker\":{\"line\":{\"color\":\"#E5ECF6\",\"width\":0.5},\"pattern\":{\"fillmode\":\"overlay\",\"size\":10,\"solidity\":0.2}},\"type\":\"barpolar\"}],\"pie\":[{\"automargin\":true,\"type\":\"pie\"}]},\"layout\":{\"autotypenumbers\":\"strict\",\"colorway\":[\"#636efa\",\"#EF553B\",\"#00cc96\",\"#ab63fa\",\"#FFA15A\",\"#19d3f3\",\"#FF6692\",\"#B6E880\",\"#FF97FF\",\"#FECB52\"],\"font\":{\"color\":\"#2a3f5f\"},\"hovermode\":\"closest\",\"hoverlabel\":{\"align\":\"left\"},\"paper_bgcolor\":\"white\",\"plot_bgcolor\":\"#E5ECF6\",\"polar\":{\"bgcolor\":\"#E5ECF6\",\"angularaxis\":{\"gridcolor\":\"white\",\"linecolor\":\"white\",\"ticks\":\"\"},\"radialaxis\":{\"gridcolor\":\"white\",\"linecolor\":\"white\",\"ticks\":\"\"}},\"ternary\":{\"bgcolor\":\"#E5ECF6\",\"aaxis\":{\"gridcolor\":\"white\",\"linecolor\":\"white\",\"ticks\":\"\"},\"baxis\":{\"gridcolor\":\"white\",\"linecolor\":\"white\",\"ticks\":\"\"},\"caxis\":{\"gridcolor\":\"white\",\"linecolor\":\"white\",\"ticks\":\"\"}},\"coloraxis\":{\"colorbar\":{\"outlinewidth\":0,\"ticks\":\"\"}},\"colorscale\":{\"sequential\":[[0.0,\"#0d0887\"],[0.1111111111111111,\"#46039f\"],[0.2222222222222222,\"#7201a8\"],[0.3333333333333333,\"#9c179e\"],[0.4444444444444444,\"#bd3786\"],[0.5555555555555556,\"#d8576b\"],[0.6666666666666666,\"#ed7953\"],[0.7777777777777778,\"#fb9f3a\"],[0.8888888888888888,\"#fdca26\"],[1.0,\"#f0f921\"]],\"sequentialminus\":[[0.0,\"#0d0887\"],[0.1111111111111111,\"#46039f\"],[0.2222222222222222,\"#7201a8\"],[0.3333333333333333,\"#9c179e\"],[0.4444444444444444,\"#bd3786\"],[0.5555555555555556,\"#d8576b\"],[0.6666666666666666,\"#ed7953\"],[0.7777777777777778,\"#fb9f3a\"],[0.8888888888888888,\"#fdca26\"],[1.0,\"#f0f921\"]],\"diverging\":[[0,\"#8e0152\"],[0.1,\"#c51b7d\"],[0.2,\"#de77ae\"],[0.3,\"#f1b6da\"],[0.4,\"#fde0ef\"],[0.5,\"#f7f7f7\"],[0.6,\"#e6f5d0\"],[0.7,\"#b8e186\"],[0.8,\"#7fbc41\"],[0.9,\"#4d9221\"],[1,\"#276419\"]]},\"xaxis\":{\"gridcolor\":\"white\",\"linecolor\":\"white\",\"ticks\":\"\",\"title\":{\"standoff\":15},\"zerolinecolor\":\"white\",\"automargin\":true,\"zerolinewidth\":2},\"yaxis\":{\"gridcolor\":\"white\",\"linecolor\":\"white\",\"ticks\":\"\",\"title\":{\"standoff\":15},\"zerolinecolor\":\"white\",\"automargin\":true,\"zerolinewidth\":2},\"scene\":{\"xaxis\":{\"backgroundcolor\":\"#E5ECF6\",\"gridcolor\":\"white\",\"linecolor\":\"white\",\"showbackground\":true,\"ticks\":\"\",\"zerolinecolor\":\"white\",\"gridwidth\":2},\"yaxis\":{\"backgroundcolor\":\"#E5ECF6\",\"gridcolor\":\"white\",\"linecolor\":\"white\",\"showbackground\":true,\"ticks\":\"\",\"zerolinecolor\":\"white\",\"gridwidth\":2},\"zaxis\":{\"backgroundcolor\":\"#E5ECF6\",\"gridcolor\":\"white\",\"linecolor\":\"white\",\"showbackground\":true,\"ticks\":\"\",\"zerolinecolor\":\"white\",\"gridwidth\":2}},\"shapedefaults\":{\"line\":{\"color\":\"#2a3f5f\"}},\"annotationdefaults\":{\"arrowcolor\":\"#2a3f5f\",\"arrowhead\":0,\"arrowwidth\":1},\"geo\":{\"bgcolor\":\"white\",\"landcolor\":\"#E5ECF6\",\"subunitcolor\":\"white\",\"showland\":true,\"showlakes\":true,\"lakecolor\":\"white\"},\"title\":{\"x\":0.05},\"mapbox\":{\"style\":\"light\"}}},\"geo\":{\"domain\":{\"x\":[0.0,1.0],\"y\":[0.0,1.0]},\"center\":{},\"scope\":\"usa\",\"showlakes\":true,\"lakecolor\":\"lightblue\"},\"coloraxis\":{\"colorbar\":{\"title\":{\"text\":\"Prevalence\"}},\"colorscale\":[[0.0,\"#0d0887\"],[0.1111111111111111,\"#46039f\"],[0.2222222222222222,\"#7201a8\"],[0.3333333333333333,\"#9c179e\"],[0.4444444444444444,\"#bd3786\"],[0.5555555555555556,\"#d8576b\"],[0.6666666666666666,\"#ed7953\"],[0.7777777777777778,\"#fb9f3a\"],[0.8888888888888888,\"#fdca26\"],[1.0,\"#f0f921\"]]},\"legend\":{\"tracegroupgap\":0},\"title\":{\"text\":\"Age-Standardized Diabetes Prevalence by Region (NHANES 2017–2018)\"},\"margin\":{\"l\":0,\"r\":0,\"t\":50,\"b\":0}},                        {\"responsive\": true}                    ).then(function(){\n",
              "                            \n",
              "var gd = document.getElementById('1bfddf93-7405-43a1-9c2f-9fdc537c1b43');\n",
              "var x = new MutationObserver(function (mutations, observer) {{\n",
              "        var display = window.getComputedStyle(gd).display;\n",
              "        if (!display || display === 'none') {{\n",
              "            console.log([gd, 'removed!']);\n",
              "            Plotly.purge(gd);\n",
              "            observer.disconnect();\n",
              "        }}\n",
              "}});\n",
              "\n",
              "// Listen for the removal of the full notebook cells\n",
              "var notebookContainer = gd.closest('#notebook-container');\n",
              "if (notebookContainer) {{\n",
              "    x.observe(notebookContainer, {childList: true});\n",
              "}}\n",
              "\n",
              "// Listen for the clearing of the current output cell\n",
              "var outputEl = gd.closest('.output');\n",
              "if (outputEl) {{\n",
              "    x.observe(outputEl, {childList: true});\n",
              "}}\n",
              "\n",
              "                        })                };                            </script>        </div>\n",
              "</body>\n",
              "</html>"
            ]
          },
          "metadata": {},
          "output_type": "display_data"
        }
      ],
      "source": [
        "state_to_region = {\n",
        "    # Northeast\n",
        "    'CT':'Northeast','ME':'Northeast','MA':'Northeast','NH':'Northeast',\n",
        "    'RI':'Northeast','VT':'Northeast','NJ':'Northeast','NY':'Northeast',\n",
        "    'PA':'Northeast',\n",
        "    # Midwest\n",
        "    'IL':'Midwest','IN':'Midwest','MI':'Midwest','OH':'Midwest','WI':'Midwest',\n",
        "    'IA':'Midwest','KS':'Midwest','MN':'Midwest','MO':'Midwest','NE':'Midwest',\n",
        "    'ND':'Midwest','SD':'Midwest',\n",
        "    # South\n",
        "    'DE':'South','FL':'South','GA':'South','MD':'South','NC':'South','SC':'South',\n",
        "    'VA':'South','DC':'South','WV':'South','AL':'South','KY':'South','MS':'South',\n",
        "    'TN':'South','AR':'South','LA':'South','OK':'South','TX':'South',\n",
        "    # West\n",
        "    'AZ':'West','CO':'West','ID':'West','MT':'West','NV':'West','NM':'West',\n",
        "    'UT':'West','WY':'West','AK':'West','CA':'West','HI':'West','OR':'West',\n",
        "    'WA':'West'\n",
        "}\n",
        "\n",
        "# Step 1: Assign region to each state\n",
        "state_region_df = pd.DataFrame({'state': list(state_to_region.keys())})\n",
        "state_region_df['region'] = state_region_df['state'].map(state_to_region)\n",
        "\n",
        "# Step 2: Merge with region prevalence\n",
        "state_region_prev = state_region_df.merge(region_prev, on='region', how='left')\n",
        "\n",
        "# Step 3: Plot!\n",
        "fig = px.choropleth(\n",
        "    state_region_prev,\n",
        "    locations='state',\n",
        "    locationmode='USA-states',\n",
        "    color='mean_age_std_prev',\n",
        "    scope='usa',\n",
        "    hover_data=['region', 'mean_age_std_prev'],\n",
        "    labels={'mean_age_std_prev': 'Age-Std Prevalence'},\n",
        "    title='Age-Standardized Diabetes Prevalence by Region (NHANES 2017–2018)'\n",
        ")\n",
        "\n",
        "fig.update_layout(\n",
        "    geo=dict(showlakes=True, lakecolor='lightblue'),\n",
        "    margin=dict(l=0, r=0, t=50, b=0),\n",
        "    coloraxis_colorbar=dict(title=\"Prevalence\")\n",
        ")\n",
        "\n",
        "fig.show()"
      ]
    },
    {
      "cell_type": "markdown",
      "metadata": {
        "id": "AJKUH3wZ7pYA"
      },
      "source": [
        "## Phase 2: Modified Matching Algorithm"
      ]
    },
    {
      "cell_type": "markdown",
      "metadata": {
        "id": "GJ0gK68r8Rwf"
      },
      "source": [
        "### I. Simulate Physician Preference"
      ]
    },
    {
      "cell_type": "code",
      "execution_count": null,
      "metadata": {
        "id": "rszK22-i71gf"
      },
      "outputs": [],
      "source": [
        "import numpy as np\n",
        "import pandas as pd\n",
        "\n",
        "# Use 20 simulated physicians\n",
        "n_physicians = 6000\n",
        "HPSA_WEIGHT = 4.752\n",
        "physician_ids = [f'doc_{i+1}' for i in range(n_physicians)]\n",
        "regions = region_prev['region'].unique()\n",
        "\n",
        "# Simulate physician preferences: each physician ranks regions (0 to 1 scale)\n",
        "np.random.seed(42)\n",
        "physician_prefs = pd.DataFrame({\n",
        "    'physician_id': np.repeat(physician_ids, len(regions)),\n",
        "    'region': np.tile(regions, n_physicians),\n",
        "    'preference': np.random.rand(n_physicians * len(regions))\n",
        "})\n"
      ]
    },
    {
      "cell_type": "code",
      "execution_count": null,
      "metadata": {
        "id": "FENcW2jC8XxD"
      },
      "outputs": [],
      "source": [
        "# Merge physician preferences with regional disease burden\n",
        "match_df = physician_prefs.merge(region_prev, on='region', how='left')\n",
        "\n",
        "# Normalize both components for scoring\n",
        "from sklearn.preprocessing import MinMaxScaler\n",
        "\n",
        "scaler = MinMaxScaler()\n",
        "match_df[['norm_pref', 'norm_burden']] = scaler.fit_transform(\n",
        "    match_df[['preference', 'mean_age_std_prev']]\n",
        ")\n",
        "\n",
        "# Compute composite match score\n",
        "match_df['match_score'] = 0.4 * match_df['norm_pref'] + 0.6 * match_df['norm_burden']"
      ]
    },
    {
      "cell_type": "markdown",
      "metadata": {
        "id": "UkDYxhlaByDd"
      },
      "source": [
        "### II. Create Algorithm"
      ]
    },
    {
      "cell_type": "code",
      "execution_count": null,
      "metadata": {
        "colab": {
          "base_uri": "https://localhost:8080/",
          "height": 206
        },
        "id": "EQFHbh1N8dHa",
        "outputId": "4d9ecede-81a8-4407-b4aa-5aa076496102"
      },
      "outputs": [
        {
          "data": {
            "application/vnd.google.colaboratory.intrinsic+json": {
              "summary": "{\n  \"name\": \"top_matches[['physician_id', 'region', 'match_score']]\",\n  \"rows\": 5,\n  \"fields\": [\n    {\n      \"column\": \"physician_id\",\n      \"properties\": {\n        \"dtype\": \"string\",\n        \"num_unique_values\": 5,\n        \"samples\": [\n          \"doc_10\",\n          \"doc_1001\",\n          \"doc_100\"\n        ],\n        \"semantic_type\": \"\",\n        \"description\": \"\"\n      }\n    },\n    {\n      \"column\": \"region\",\n      \"properties\": {\n        \"dtype\": \"category\",\n        \"num_unique_values\": 1,\n        \"samples\": [\n          \"West\"\n        ],\n        \"semantic_type\": \"\",\n        \"description\": \"\"\n      }\n    },\n    {\n      \"column\": \"match_score\",\n      \"properties\": {\n        \"dtype\": \"number\",\n        \"std\": 0.10620322116133013,\n        \"min\": 0.6615606519276455,\n        \"max\": 0.9018386977219122,\n        \"num_unique_values\": 5,\n        \"samples\": [\n          0.7760716280058778\n        ],\n        \"semantic_type\": \"\",\n        \"description\": \"\"\n      }\n    }\n  ]\n}",
              "type": "dataframe"
            },
            "text/html": [
              "\n",
              "  <div id=\"df-a180e82f-d37c-403e-97c1-0d32c7a7bdc3\" class=\"colab-df-container\">\n",
              "    <div>\n",
              "<style scoped>\n",
              "    .dataframe tbody tr th:only-of-type {\n",
              "        vertical-align: middle;\n",
              "    }\n",
              "\n",
              "    .dataframe tbody tr th {\n",
              "        vertical-align: top;\n",
              "    }\n",
              "\n",
              "    .dataframe thead th {\n",
              "        text-align: right;\n",
              "    }\n",
              "</style>\n",
              "<table border=\"1\" class=\"dataframe\">\n",
              "  <thead>\n",
              "    <tr style=\"text-align: right;\">\n",
              "      <th></th>\n",
              "      <th>physician_id</th>\n",
              "      <th>region</th>\n",
              "      <th>match_score</th>\n",
              "    </tr>\n",
              "  </thead>\n",
              "  <tbody>\n",
              "    <tr>\n",
              "      <th>0</th>\n",
              "      <td>doc_1</td>\n",
              "      <td>West</td>\n",
              "      <td>0.839480</td>\n",
              "    </tr>\n",
              "    <tr>\n",
              "      <th>1</th>\n",
              "      <td>doc_10</td>\n",
              "      <td>West</td>\n",
              "      <td>0.776072</td>\n",
              "    </tr>\n",
              "    <tr>\n",
              "      <th>2</th>\n",
              "      <td>doc_100</td>\n",
              "      <td>West</td>\n",
              "      <td>0.901839</td>\n",
              "    </tr>\n",
              "    <tr>\n",
              "      <th>3</th>\n",
              "      <td>doc_1000</td>\n",
              "      <td>West</td>\n",
              "      <td>0.664548</td>\n",
              "    </tr>\n",
              "    <tr>\n",
              "      <th>4</th>\n",
              "      <td>doc_1001</td>\n",
              "      <td>West</td>\n",
              "      <td>0.661561</td>\n",
              "    </tr>\n",
              "  </tbody>\n",
              "</table>\n",
              "</div>\n",
              "    <div class=\"colab-df-buttons\">\n",
              "\n",
              "  <div class=\"colab-df-container\">\n",
              "    <button class=\"colab-df-convert\" onclick=\"convertToInteractive('df-a180e82f-d37c-403e-97c1-0d32c7a7bdc3')\"\n",
              "            title=\"Convert this dataframe to an interactive table.\"\n",
              "            style=\"display:none;\">\n",
              "\n",
              "  <svg xmlns=\"http://www.w3.org/2000/svg\" height=\"24px\" viewBox=\"0 -960 960 960\">\n",
              "    <path d=\"M120-120v-720h720v720H120Zm60-500h600v-160H180v160Zm220 220h160v-160H400v160Zm0 220h160v-160H400v160ZM180-400h160v-160H180v160Zm440 0h160v-160H620v160ZM180-180h160v-160H180v160Zm440 0h160v-160H620v160Z\"/>\n",
              "  </svg>\n",
              "    </button>\n",
              "\n",
              "  <style>\n",
              "    .colab-df-container {\n",
              "      display:flex;\n",
              "      gap: 12px;\n",
              "    }\n",
              "\n",
              "    .colab-df-convert {\n",
              "      background-color: #E8F0FE;\n",
              "      border: none;\n",
              "      border-radius: 50%;\n",
              "      cursor: pointer;\n",
              "      display: none;\n",
              "      fill: #1967D2;\n",
              "      height: 32px;\n",
              "      padding: 0 0 0 0;\n",
              "      width: 32px;\n",
              "    }\n",
              "\n",
              "    .colab-df-convert:hover {\n",
              "      background-color: #E2EBFA;\n",
              "      box-shadow: 0px 1px 2px rgba(60, 64, 67, 0.3), 0px 1px 3px 1px rgba(60, 64, 67, 0.15);\n",
              "      fill: #174EA6;\n",
              "    }\n",
              "\n",
              "    .colab-df-buttons div {\n",
              "      margin-bottom: 4px;\n",
              "    }\n",
              "\n",
              "    [theme=dark] .colab-df-convert {\n",
              "      background-color: #3B4455;\n",
              "      fill: #D2E3FC;\n",
              "    }\n",
              "\n",
              "    [theme=dark] .colab-df-convert:hover {\n",
              "      background-color: #434B5C;\n",
              "      box-shadow: 0px 1px 3px 1px rgba(0, 0, 0, 0.15);\n",
              "      filter: drop-shadow(0px 1px 2px rgba(0, 0, 0, 0.3));\n",
              "      fill: #FFFFFF;\n",
              "    }\n",
              "  </style>\n",
              "\n",
              "    <script>\n",
              "      const buttonEl =\n",
              "        document.querySelector('#df-a180e82f-d37c-403e-97c1-0d32c7a7bdc3 button.colab-df-convert');\n",
              "      buttonEl.style.display =\n",
              "        google.colab.kernel.accessAllowed ? 'block' : 'none';\n",
              "\n",
              "      async function convertToInteractive(key) {\n",
              "        const element = document.querySelector('#df-a180e82f-d37c-403e-97c1-0d32c7a7bdc3');\n",
              "        const dataTable =\n",
              "          await google.colab.kernel.invokeFunction('convertToInteractive',\n",
              "                                                    [key], {});\n",
              "        if (!dataTable) return;\n",
              "\n",
              "        const docLinkHtml = 'Like what you see? Visit the ' +\n",
              "          '<a target=\"_blank\" href=https://colab.research.google.com/notebooks/data_table.ipynb>data table notebook</a>'\n",
              "          + ' to learn more about interactive tables.';\n",
              "        element.innerHTML = '';\n",
              "        dataTable['output_type'] = 'display_data';\n",
              "        await google.colab.output.renderOutput(dataTable, element);\n",
              "        const docLink = document.createElement('div');\n",
              "        docLink.innerHTML = docLinkHtml;\n",
              "        element.appendChild(docLink);\n",
              "      }\n",
              "    </script>\n",
              "  </div>\n",
              "\n",
              "\n",
              "    <div id=\"df-106fef3b-6c2f-4544-8301-8e80af5635fa\">\n",
              "      <button class=\"colab-df-quickchart\" onclick=\"quickchart('df-106fef3b-6c2f-4544-8301-8e80af5635fa')\"\n",
              "                title=\"Suggest charts\"\n",
              "                style=\"display:none;\">\n",
              "\n",
              "<svg xmlns=\"http://www.w3.org/2000/svg\" height=\"24px\"viewBox=\"0 0 24 24\"\n",
              "     width=\"24px\">\n",
              "    <g>\n",
              "        <path d=\"M19 3H5c-1.1 0-2 .9-2 2v14c0 1.1.9 2 2 2h14c1.1 0 2-.9 2-2V5c0-1.1-.9-2-2-2zM9 17H7v-7h2v7zm4 0h-2V7h2v10zm4 0h-2v-4h2v4z\"/>\n",
              "    </g>\n",
              "</svg>\n",
              "      </button>\n",
              "\n",
              "<style>\n",
              "  .colab-df-quickchart {\n",
              "      --bg-color: #E8F0FE;\n",
              "      --fill-color: #1967D2;\n",
              "      --hover-bg-color: #E2EBFA;\n",
              "      --hover-fill-color: #174EA6;\n",
              "      --disabled-fill-color: #AAA;\n",
              "      --disabled-bg-color: #DDD;\n",
              "  }\n",
              "\n",
              "  [theme=dark] .colab-df-quickchart {\n",
              "      --bg-color: #3B4455;\n",
              "      --fill-color: #D2E3FC;\n",
              "      --hover-bg-color: #434B5C;\n",
              "      --hover-fill-color: #FFFFFF;\n",
              "      --disabled-bg-color: #3B4455;\n",
              "      --disabled-fill-color: #666;\n",
              "  }\n",
              "\n",
              "  .colab-df-quickchart {\n",
              "    background-color: var(--bg-color);\n",
              "    border: none;\n",
              "    border-radius: 50%;\n",
              "    cursor: pointer;\n",
              "    display: none;\n",
              "    fill: var(--fill-color);\n",
              "    height: 32px;\n",
              "    padding: 0;\n",
              "    width: 32px;\n",
              "  }\n",
              "\n",
              "  .colab-df-quickchart:hover {\n",
              "    background-color: var(--hover-bg-color);\n",
              "    box-shadow: 0 1px 2px rgba(60, 64, 67, 0.3), 0 1px 3px 1px rgba(60, 64, 67, 0.15);\n",
              "    fill: var(--button-hover-fill-color);\n",
              "  }\n",
              "\n",
              "  .colab-df-quickchart-complete:disabled,\n",
              "  .colab-df-quickchart-complete:disabled:hover {\n",
              "    background-color: var(--disabled-bg-color);\n",
              "    fill: var(--disabled-fill-color);\n",
              "    box-shadow: none;\n",
              "  }\n",
              "\n",
              "  .colab-df-spinner {\n",
              "    border: 2px solid var(--fill-color);\n",
              "    border-color: transparent;\n",
              "    border-bottom-color: var(--fill-color);\n",
              "    animation:\n",
              "      spin 1s steps(1) infinite;\n",
              "  }\n",
              "\n",
              "  @keyframes spin {\n",
              "    0% {\n",
              "      border-color: transparent;\n",
              "      border-bottom-color: var(--fill-color);\n",
              "      border-left-color: var(--fill-color);\n",
              "    }\n",
              "    20% {\n",
              "      border-color: transparent;\n",
              "      border-left-color: var(--fill-color);\n",
              "      border-top-color: var(--fill-color);\n",
              "    }\n",
              "    30% {\n",
              "      border-color: transparent;\n",
              "      border-left-color: var(--fill-color);\n",
              "      border-top-color: var(--fill-color);\n",
              "      border-right-color: var(--fill-color);\n",
              "    }\n",
              "    40% {\n",
              "      border-color: transparent;\n",
              "      border-right-color: var(--fill-color);\n",
              "      border-top-color: var(--fill-color);\n",
              "    }\n",
              "    60% {\n",
              "      border-color: transparent;\n",
              "      border-right-color: var(--fill-color);\n",
              "    }\n",
              "    80% {\n",
              "      border-color: transparent;\n",
              "      border-right-color: var(--fill-color);\n",
              "      border-bottom-color: var(--fill-color);\n",
              "    }\n",
              "    90% {\n",
              "      border-color: transparent;\n",
              "      border-bottom-color: var(--fill-color);\n",
              "    }\n",
              "  }\n",
              "</style>\n",
              "\n",
              "      <script>\n",
              "        async function quickchart(key) {\n",
              "          const quickchartButtonEl =\n",
              "            document.querySelector('#' + key + ' button');\n",
              "          quickchartButtonEl.disabled = true;  // To prevent multiple clicks.\n",
              "          quickchartButtonEl.classList.add('colab-df-spinner');\n",
              "          try {\n",
              "            const charts = await google.colab.kernel.invokeFunction(\n",
              "                'suggestCharts', [key], {});\n",
              "          } catch (error) {\n",
              "            console.error('Error during call to suggestCharts:', error);\n",
              "          }\n",
              "          quickchartButtonEl.classList.remove('colab-df-spinner');\n",
              "          quickchartButtonEl.classList.add('colab-df-quickchart-complete');\n",
              "        }\n",
              "        (() => {\n",
              "          let quickchartButtonEl =\n",
              "            document.querySelector('#df-106fef3b-6c2f-4544-8301-8e80af5635fa button');\n",
              "          quickchartButtonEl.style.display =\n",
              "            google.colab.kernel.accessAllowed ? 'block' : 'none';\n",
              "        })();\n",
              "      </script>\n",
              "    </div>\n",
              "\n",
              "    </div>\n",
              "  </div>\n"
            ],
            "text/plain": [
              "  physician_id region  match_score\n",
              "0        doc_1   West     0.839480\n",
              "1       doc_10   West     0.776072\n",
              "2      doc_100   West     0.901839\n",
              "3     doc_1000   West     0.664548\n",
              "4     doc_1001   West     0.661561"
            ]
          },
          "execution_count": 189,
          "metadata": {},
          "output_type": "execute_result"
        }
      ],
      "source": [
        "# Get top region for each physician\n",
        "top_matches = (\n",
        "    match_df.sort_values(by='match_score', ascending=False)\n",
        "            .groupby('physician_id')\n",
        "            .first()\n",
        "            .reset_index()\n",
        ")\n",
        "\n",
        "# Output the physician-region matches\n",
        "print(top_matches[['physician_id', 'region', 'match_score']].head())\n"
      ]
    },
    {
      "cell_type": "markdown",
      "metadata": {
        "id": "UA8bWPckB6C9"
      },
      "source": [
        "### III. Add HPSA-Like Weights"
      ]
    },
    {
      "cell_type": "code",
      "execution_count": null,
      "metadata": {
        "colab": {
          "base_uri": "https://localhost:8080/"
        },
        "id": "BCJM3Wr2MQ3z",
        "outputId": "e47c4934-11ec-4214-9f01-57f1a1728224"
      },
      "outputs": [
        {
          "name": "stdout",
          "output_type": "stream",
          "text": [
            "  physician_id region  match_score\n",
            "0        doc_1   West     0.813124\n",
            "1       doc_10   West     0.759697\n",
            "2      doc_100   West     0.724644\n",
            "3     doc_1000   West     0.768973\n",
            "4     doc_1001   West     0.676928\n"
          ]
        }
      ],
      "source": [
        "import numpy as np\n",
        "import pandas as pd\n",
        "from sklearn.preprocessing import MinMaxScaler\n",
        "\n",
        "# Regions & burden from Phase 1\n",
        "regions = region_prev['region'].tolist()\n",
        "burden = region_prev.set_index('region')['mean_age_std_prev']\n",
        "\n",
        "# 1. Simulate physician attributes\n",
        "np.random.seed(0)\n",
        "n = 2000\n",
        "physicians = pd.DataFrame({\n",
        "    'physician_id': [f'doc_{i+1}' for i in range(n)],\n",
        "    'upbringing_rural': np.random.binomial(1, 0.2, n),   # 20% rural-raised :contentReference[oaicite:7]{index=7}\n",
        "    'rural_training':  np.random.binomial(1, 0.3, n),   # 30% had rural rotations :contentReference[oaicite:8]{index=8}\n",
        "    'family_ties':     np.random.binomial(1, 0.25, n),  # 25% have rural spouse/family :contentReference[oaicite:9]{index=9}\n",
        "})\n",
        "\n",
        "# 2. Build physician–region preference scores\n",
        "rows = []\n",
        "for _, doc in physicians.iterrows():\n",
        "    for r in regions:\n",
        "        is_rural_region = 1 if r in ['South','West'] else 0\n",
        "        # weights\n",
        "        w_u, w_t, w_s = 0.4, 0.3, 0.2\n",
        "        noise = np.random.normal(scale=0.1)\n",
        "        base_score = (\n",
        "            w_u * doc.upbringing_rural * is_rural_region +\n",
        "            w_t * doc.rural_training   * is_rural_region +\n",
        "            w_s * doc.family_ties +\n",
        "            noise\n",
        "        )\n",
        "        rows.append({\n",
        "            'physician_id': doc.physician_id,\n",
        "            'region': r,\n",
        "            'base_pref': base_score\n",
        "        })\n",
        "phys_pref = pd.DataFrame(rows)\n",
        "\n",
        "# 3. Normalize preferences & burden\n",
        "scaler = MinMaxScaler()\n",
        "phys_pref['norm_pref'] = scaler.fit_transform(phys_pref[['base_pref']])\n",
        "burden_norm = scaler.fit_transform(burden.values.reshape(-1,1)).flatten()\n",
        "burden_df = pd.DataFrame({'region': regions, 'norm_burden': burden_norm})\n",
        "\n",
        "# 4. Merge & compute final match score\n",
        "match_df = phys_pref.merge(burden_df, on='region')\n",
        "match_df['match_score'] = 0.4*match_df['norm_pref'] + 0.6*match_df['norm_burden']\n",
        "\n",
        "# 5. Assign each physician to top region\n",
        "top_matches_realistic = (\n",
        "    match_df.sort_values('match_score', ascending=False)\n",
        "            .groupby('physician_id')\n",
        "            .first()\n",
        "            .reset_index()[['physician_id','region','match_score']]\n",
        ")\n",
        "print(top_matches_realistic.head())\n"
      ]
    },
    {
      "cell_type": "code",
      "execution_count": null,
      "metadata": {
        "id": "p9L1BnUJ8gLx"
      },
      "outputs": [],
      "source": [
        "# Simulate HPSA-style binary underserved tag (could be replaced with real data)\n",
        "hpsa_regions = ['South', 'West']  # Example underserved regions\n",
        "region_prev['hpsa_priority'] = region_prev['region'].isin(hpsa_regions).astype(int)\n",
        "\n",
        "# Boost disease burden for underserved areas\n",
        "region_prev['adjusted_burden'] = (\n",
        "    region_prev['mean_age_std_prev'] * (1 + HPSA_WEIGHT * region_prev['hpsa_priority'])\n",
        ")\n",
        "region_prev.to_csv('/content/drive/MyDrive/Spring2025/TH/256-project/output/region_prev.csv', index=False)\n",
        "\n",
        "# Recompute normalized and composite score with adjustment\n",
        "match_df = match_df.drop(columns=['norm_burden', 'match_score'])\n",
        "match_df = match_df.merge(region_prev[['region', 'adjusted_burden']], on='region', how='left')\n",
        "\n",
        "match_df[['norm_pref', 'norm_burden']] = scaler.fit_transform(\n",
        "    match_df[['preference', 'adjusted_burden']]\n",
        ")\n",
        "match_df['match_score'] = 0.4 * match_df['norm_pref'] + 0.6 * match_df['norm_burden']\n"
      ]
    },
    {
      "cell_type": "markdown",
      "metadata": {
        "id": "1ALVNr29CEMd"
      },
      "source": [
        "### IV. Rematch With An Adjusted Score"
      ]
    },
    {
      "cell_type": "code",
      "execution_count": null,
      "metadata": {
        "colab": {
          "base_uri": "https://localhost:8080/",
          "height": 206
        },
        "id": "WoAuKugN8iL5",
        "outputId": "b75737a5-4894-42d3-b05b-b0912d99ba34"
      },
      "outputs": [
        {
          "data": {
            "application/vnd.google.colaboratory.intrinsic+json": {
              "summary": "{\n  \"name\": \"top_matches_adjusted[['physician_id', 'region', 'match_score']]\",\n  \"rows\": 5,\n  \"fields\": [\n    {\n      \"column\": \"physician_id\",\n      \"properties\": {\n        \"dtype\": \"string\",\n        \"num_unique_values\": 5,\n        \"samples\": [\n          \"doc_10\",\n          \"doc_1001\",\n          \"doc_100\"\n        ],\n        \"semantic_type\": \"\",\n        \"description\": \"\"\n      }\n    },\n    {\n      \"column\": \"region\",\n      \"properties\": {\n        \"dtype\": \"category\",\n        \"num_unique_values\": 2,\n        \"samples\": [\n          \"South\",\n          \"West\"\n        ],\n        \"semantic_type\": \"\",\n        \"description\": \"\"\n      }\n    },\n    {\n      \"column\": \"match_score\",\n      \"properties\": {\n        \"dtype\": \"number\",\n        \"std\": 0.08185038337362335,\n        \"min\": 0.6825972294491116,\n        \"max\": 0.9018386977219122,\n        \"num_unique_values\": 5,\n        \"samples\": [\n          0.7760716280058778,\n          0.7746933612669269\n        ],\n        \"semantic_type\": \"\",\n        \"description\": \"\"\n      }\n    }\n  ]\n}",
              "type": "dataframe"
            },
            "text/html": [
              "\n",
              "  <div id=\"df-2dc9fd32-637e-49d1-a7a2-c82ff1022951\" class=\"colab-df-container\">\n",
              "    <div>\n",
              "<style scoped>\n",
              "    .dataframe tbody tr th:only-of-type {\n",
              "        vertical-align: middle;\n",
              "    }\n",
              "\n",
              "    .dataframe tbody tr th {\n",
              "        vertical-align: top;\n",
              "    }\n",
              "\n",
              "    .dataframe thead th {\n",
              "        text-align: right;\n",
              "    }\n",
              "</style>\n",
              "<table border=\"1\" class=\"dataframe\">\n",
              "  <thead>\n",
              "    <tr style=\"text-align: right;\">\n",
              "      <th></th>\n",
              "      <th>physician_id</th>\n",
              "      <th>region</th>\n",
              "      <th>match_score</th>\n",
              "    </tr>\n",
              "  </thead>\n",
              "  <tbody>\n",
              "    <tr>\n",
              "      <th>0</th>\n",
              "      <td>doc_1</td>\n",
              "      <td>West</td>\n",
              "      <td>0.839480</td>\n",
              "    </tr>\n",
              "    <tr>\n",
              "      <th>1</th>\n",
              "      <td>doc_10</td>\n",
              "      <td>West</td>\n",
              "      <td>0.776072</td>\n",
              "    </tr>\n",
              "    <tr>\n",
              "      <th>2</th>\n",
              "      <td>doc_100</td>\n",
              "      <td>West</td>\n",
              "      <td>0.901839</td>\n",
              "    </tr>\n",
              "    <tr>\n",
              "      <th>3</th>\n",
              "      <td>doc_1000</td>\n",
              "      <td>South</td>\n",
              "      <td>0.682597</td>\n",
              "    </tr>\n",
              "    <tr>\n",
              "      <th>4</th>\n",
              "      <td>doc_1001</td>\n",
              "      <td>South</td>\n",
              "      <td>0.774693</td>\n",
              "    </tr>\n",
              "  </tbody>\n",
              "</table>\n",
              "</div>\n",
              "    <div class=\"colab-df-buttons\">\n",
              "\n",
              "  <div class=\"colab-df-container\">\n",
              "    <button class=\"colab-df-convert\" onclick=\"convertToInteractive('df-2dc9fd32-637e-49d1-a7a2-c82ff1022951')\"\n",
              "            title=\"Convert this dataframe to an interactive table.\"\n",
              "            style=\"display:none;\">\n",
              "\n",
              "  <svg xmlns=\"http://www.w3.org/2000/svg\" height=\"24px\" viewBox=\"0 -960 960 960\">\n",
              "    <path d=\"M120-120v-720h720v720H120Zm60-500h600v-160H180v160Zm220 220h160v-160H400v160Zm0 220h160v-160H400v160ZM180-400h160v-160H180v160Zm440 0h160v-160H620v160ZM180-180h160v-160H180v160Zm440 0h160v-160H620v160Z\"/>\n",
              "  </svg>\n",
              "    </button>\n",
              "\n",
              "  <style>\n",
              "    .colab-df-container {\n",
              "      display:flex;\n",
              "      gap: 12px;\n",
              "    }\n",
              "\n",
              "    .colab-df-convert {\n",
              "      background-color: #E8F0FE;\n",
              "      border: none;\n",
              "      border-radius: 50%;\n",
              "      cursor: pointer;\n",
              "      display: none;\n",
              "      fill: #1967D2;\n",
              "      height: 32px;\n",
              "      padding: 0 0 0 0;\n",
              "      width: 32px;\n",
              "    }\n",
              "\n",
              "    .colab-df-convert:hover {\n",
              "      background-color: #E2EBFA;\n",
              "      box-shadow: 0px 1px 2px rgba(60, 64, 67, 0.3), 0px 1px 3px 1px rgba(60, 64, 67, 0.15);\n",
              "      fill: #174EA6;\n",
              "    }\n",
              "\n",
              "    .colab-df-buttons div {\n",
              "      margin-bottom: 4px;\n",
              "    }\n",
              "\n",
              "    [theme=dark] .colab-df-convert {\n",
              "      background-color: #3B4455;\n",
              "      fill: #D2E3FC;\n",
              "    }\n",
              "\n",
              "    [theme=dark] .colab-df-convert:hover {\n",
              "      background-color: #434B5C;\n",
              "      box-shadow: 0px 1px 3px 1px rgba(0, 0, 0, 0.15);\n",
              "      filter: drop-shadow(0px 1px 2px rgba(0, 0, 0, 0.3));\n",
              "      fill: #FFFFFF;\n",
              "    }\n",
              "  </style>\n",
              "\n",
              "    <script>\n",
              "      const buttonEl =\n",
              "        document.querySelector('#df-2dc9fd32-637e-49d1-a7a2-c82ff1022951 button.colab-df-convert');\n",
              "      buttonEl.style.display =\n",
              "        google.colab.kernel.accessAllowed ? 'block' : 'none';\n",
              "\n",
              "      async function convertToInteractive(key) {\n",
              "        const element = document.querySelector('#df-2dc9fd32-637e-49d1-a7a2-c82ff1022951');\n",
              "        const dataTable =\n",
              "          await google.colab.kernel.invokeFunction('convertToInteractive',\n",
              "                                                    [key], {});\n",
              "        if (!dataTable) return;\n",
              "\n",
              "        const docLinkHtml = 'Like what you see? Visit the ' +\n",
              "          '<a target=\"_blank\" href=https://colab.research.google.com/notebooks/data_table.ipynb>data table notebook</a>'\n",
              "          + ' to learn more about interactive tables.';\n",
              "        element.innerHTML = '';\n",
              "        dataTable['output_type'] = 'display_data';\n",
              "        await google.colab.output.renderOutput(dataTable, element);\n",
              "        const docLink = document.createElement('div');\n",
              "        docLink.innerHTML = docLinkHtml;\n",
              "        element.appendChild(docLink);\n",
              "      }\n",
              "    </script>\n",
              "  </div>\n",
              "\n",
              "\n",
              "    <div id=\"df-e29b71b3-9640-4fa0-a5b2-695750ef1589\">\n",
              "      <button class=\"colab-df-quickchart\" onclick=\"quickchart('df-e29b71b3-9640-4fa0-a5b2-695750ef1589')\"\n",
              "                title=\"Suggest charts\"\n",
              "                style=\"display:none;\">\n",
              "\n",
              "<svg xmlns=\"http://www.w3.org/2000/svg\" height=\"24px\"viewBox=\"0 0 24 24\"\n",
              "     width=\"24px\">\n",
              "    <g>\n",
              "        <path d=\"M19 3H5c-1.1 0-2 .9-2 2v14c0 1.1.9 2 2 2h14c1.1 0 2-.9 2-2V5c0-1.1-.9-2-2-2zM9 17H7v-7h2v7zm4 0h-2V7h2v10zm4 0h-2v-4h2v4z\"/>\n",
              "    </g>\n",
              "</svg>\n",
              "      </button>\n",
              "\n",
              "<style>\n",
              "  .colab-df-quickchart {\n",
              "      --bg-color: #E8F0FE;\n",
              "      --fill-color: #1967D2;\n",
              "      --hover-bg-color: #E2EBFA;\n",
              "      --hover-fill-color: #174EA6;\n",
              "      --disabled-fill-color: #AAA;\n",
              "      --disabled-bg-color: #DDD;\n",
              "  }\n",
              "\n",
              "  [theme=dark] .colab-df-quickchart {\n",
              "      --bg-color: #3B4455;\n",
              "      --fill-color: #D2E3FC;\n",
              "      --hover-bg-color: #434B5C;\n",
              "      --hover-fill-color: #FFFFFF;\n",
              "      --disabled-bg-color: #3B4455;\n",
              "      --disabled-fill-color: #666;\n",
              "  }\n",
              "\n",
              "  .colab-df-quickchart {\n",
              "    background-color: var(--bg-color);\n",
              "    border: none;\n",
              "    border-radius: 50%;\n",
              "    cursor: pointer;\n",
              "    display: none;\n",
              "    fill: var(--fill-color);\n",
              "    height: 32px;\n",
              "    padding: 0;\n",
              "    width: 32px;\n",
              "  }\n",
              "\n",
              "  .colab-df-quickchart:hover {\n",
              "    background-color: var(--hover-bg-color);\n",
              "    box-shadow: 0 1px 2px rgba(60, 64, 67, 0.3), 0 1px 3px 1px rgba(60, 64, 67, 0.15);\n",
              "    fill: var(--button-hover-fill-color);\n",
              "  }\n",
              "\n",
              "  .colab-df-quickchart-complete:disabled,\n",
              "  .colab-df-quickchart-complete:disabled:hover {\n",
              "    background-color: var(--disabled-bg-color);\n",
              "    fill: var(--disabled-fill-color);\n",
              "    box-shadow: none;\n",
              "  }\n",
              "\n",
              "  .colab-df-spinner {\n",
              "    border: 2px solid var(--fill-color);\n",
              "    border-color: transparent;\n",
              "    border-bottom-color: var(--fill-color);\n",
              "    animation:\n",
              "      spin 1s steps(1) infinite;\n",
              "  }\n",
              "\n",
              "  @keyframes spin {\n",
              "    0% {\n",
              "      border-color: transparent;\n",
              "      border-bottom-color: var(--fill-color);\n",
              "      border-left-color: var(--fill-color);\n",
              "    }\n",
              "    20% {\n",
              "      border-color: transparent;\n",
              "      border-left-color: var(--fill-color);\n",
              "      border-top-color: var(--fill-color);\n",
              "    }\n",
              "    30% {\n",
              "      border-color: transparent;\n",
              "      border-left-color: var(--fill-color);\n",
              "      border-top-color: var(--fill-color);\n",
              "      border-right-color: var(--fill-color);\n",
              "    }\n",
              "    40% {\n",
              "      border-color: transparent;\n",
              "      border-right-color: var(--fill-color);\n",
              "      border-top-color: var(--fill-color);\n",
              "    }\n",
              "    60% {\n",
              "      border-color: transparent;\n",
              "      border-right-color: var(--fill-color);\n",
              "    }\n",
              "    80% {\n",
              "      border-color: transparent;\n",
              "      border-right-color: var(--fill-color);\n",
              "      border-bottom-color: var(--fill-color);\n",
              "    }\n",
              "    90% {\n",
              "      border-color: transparent;\n",
              "      border-bottom-color: var(--fill-color);\n",
              "    }\n",
              "  }\n",
              "</style>\n",
              "\n",
              "      <script>\n",
              "        async function quickchart(key) {\n",
              "          const quickchartButtonEl =\n",
              "            document.querySelector('#' + key + ' button');\n",
              "          quickchartButtonEl.disabled = true;  // To prevent multiple clicks.\n",
              "          quickchartButtonEl.classList.add('colab-df-spinner');\n",
              "          try {\n",
              "            const charts = await google.colab.kernel.invokeFunction(\n",
              "                'suggestCharts', [key], {});\n",
              "          } catch (error) {\n",
              "            console.error('Error during call to suggestCharts:', error);\n",
              "          }\n",
              "          quickchartButtonEl.classList.remove('colab-df-spinner');\n",
              "          quickchartButtonEl.classList.add('colab-df-quickchart-complete');\n",
              "        }\n",
              "        (() => {\n",
              "          let quickchartButtonEl =\n",
              "            document.querySelector('#df-e29b71b3-9640-4fa0-a5b2-695750ef1589 button');\n",
              "          quickchartButtonEl.style.display =\n",
              "            google.colab.kernel.accessAllowed ? 'block' : 'none';\n",
              "        })();\n",
              "      </script>\n",
              "    </div>\n",
              "\n",
              "    </div>\n",
              "  </div>\n"
            ],
            "text/plain": [
              "  physician_id region  match_score\n",
              "0        doc_1   West     0.839480\n",
              "1       doc_10   West     0.776072\n",
              "2      doc_100   West     0.901839\n",
              "3     doc_1000  South     0.682597\n",
              "4     doc_1001  South     0.774693"
            ]
          },
          "execution_count": 192,
          "metadata": {},
          "output_type": "execute_result"
        }
      ],
      "source": [
        "# Assign physicians again using adjusted scores\n",
        "top_matches_adjusted = (\n",
        "    match_df.sort_values(by='match_score', ascending=False)\n",
        "            .groupby('physician_id')\n",
        "            .first()\n",
        "            .reset_index()\n",
        ")\n",
        "top_matches_adjusted.to_csv('/content/drive/MyDrive/Spring2025/TH/256-project/output/top_matches_adjusted.csv', index=False)\n",
        "\n",
        "print(top_matches_adjusted[['physician_id', 'region', 'match_score']].head())\n"
      ]
    },
    {
      "cell_type": "code",
      "execution_count": null,
      "metadata": {
        "colab": {
          "base_uri": "https://localhost:8080/"
        },
        "id": "Mju_B7U186JD",
        "outputId": "42f5b686-f6c0-45f7-fe8f-22ea24624e6e"
      },
      "outputs": [
        {
          "name": "stdout",
          "output_type": "stream",
          "text": [
            "changed\n",
            "False    4612\n",
            "True     1388\n",
            "Name: count, dtype: int64\n"
          ]
        }
      ],
      "source": [
        "# Compare top region matches before and after adjustment\n",
        "comparison = top_matches[['physician_id', 'region']].merge(\n",
        "    top_matches_adjusted[['physician_id', 'region']],\n",
        "    on='physician_id',\n",
        "    suffixes=('_before', '_after')\n",
        ")\n",
        "\n",
        "# See which changed\n",
        "comparison['changed'] = comparison['region_before'] != comparison['region_after']\n",
        "print(comparison['changed'].value_counts())\n"
      ]
    },
    {
      "cell_type": "markdown",
      "metadata": {
        "id": "zdYHwtlFCVan"
      },
      "source": [
        "## Phase 3: Policy Simulation"
      ]
    },
    {
      "cell_type": "code",
      "execution_count": null,
      "metadata": {
        "colab": {
          "base_uri": "https://localhost:8080/"
        },
        "id": "ThJ7C38WCbmP",
        "outputId": "8110d725-abfd-44f5-b773-43b9d075ce28"
      },
      "outputs": [
        {
          "name": "stdout",
          "output_type": "stream",
          "text": [
            "{'n_demand': np.float64(885779400.0), 'n_random': np.float64(885779400.0), 'n_preference': np.float64(885779400.0)}\n"
          ]
        }
      ],
      "source": [
        "import pandas as pd\n",
        "import numpy as np\n",
        "import plotly.express as px\n",
        "\n",
        "# 3.1 Load region prevalence & matches\n",
        "region_prev = pd.read_csv('/content/drive/MyDrive/Spring2025/TH/256-project/output/region_prev.csv')  # columns: region, mean_age_std_prev\n",
        "top_matches = pd.read_csv('/content/drive/MyDrive/Spring2025/TH/256-project/output/top_matches_adjusted.csv')\n",
        "\n",
        "# 3.2 Region populations (replace with real Census figures)\n",
        "region_pop = {\n",
        "    'Northeast': 56_100_000,\n",
        "    'Midwest':   68_200_000,\n",
        "    'South':    125_600_000,\n",
        "    'West':      78_600_000\n",
        "}\n",
        "\n",
        "# 3.3 Baseline PQI rate per 1,000 (example value; load actual AHRQ PQI)\n",
        "baseline_rate = 5.0  # hospitalizations per 1,000 population\n",
        "\n",
        "# 3.4 Compute baseline admissions\n",
        "region_prev['population'] = region_prev['region'].map(region_pop)\n",
        "region_prev['baseline_adm'] = (\n",
        "    region_prev['population'] * baseline_rate / 1000\n",
        ")\n",
        "\n",
        "# 3.5 Count physician assignments per scenario\n",
        "def count_assignments(df, scenario_name):\n",
        "    return (\n",
        "      df.groupby('region')['physician_id']\n",
        "        .nunique()\n",
        "        .reset_index(name=f'n_{scenario_name}')\n",
        "    )\n",
        "\n",
        "# Demand‑informed\n",
        "assigned_demand = count_assignments(top_matches, 'demand')\n",
        "\n",
        "# Random assignment simulation\n",
        "random_assign = top_matches.copy()\n",
        "random_assign['region'] = np.random.permutation(random_assign['region'])\n",
        "assigned_random = count_assignments(random_assign, 'random')\n",
        "\n",
        "# Preference‑only matching\n",
        "pref_only = top_matches.copy().sort_values('preference', ascending=False)\n",
        "pref_only = pref_only.groupby('physician_id').first().reset_index()\n",
        "assigned_pref = count_assignments(pref_only, 'preference')\n",
        "\n",
        "# 3.6 Merge counts with region_prev\n",
        "sim = region_prev.merge(assigned_demand, on='region') \\\n",
        "                 .merge(assigned_random, on='region') \\\n",
        "                 .merge(assigned_pref, on='region')\n",
        "\n",
        "# 3.7 Estimate avoidable admissions\n",
        "impact = 0.33\n",
        "for col in ['n_demand', 'n_random', 'n_preference']:\n",
        "    sim[f'avoided_{col}'] = sim['baseline_adm'] * impact * sim[col]\n",
        "\n",
        "# 3.8 Summarize overall avoidable hospitalizations\n",
        "summary = {\n",
        "    scenario: sim[f'avoided_{scenario}'].sum()\n",
        "    for scenario in ['n_demand', 'n_random', 'n_preference']\n",
        "}\n",
        "\n",
        "print(summary)\n"
      ]
    },
    {
      "cell_type": "code",
      "execution_count": null,
      "metadata": {
        "colab": {
          "base_uri": "https://localhost:8080/",
          "height": 542
        },
        "id": "vyOrGjgdoX-E",
        "outputId": "d4053737-9454-4182-cf54-b739995bc425"
      },
      "outputs": [
        {
          "data": {
            "text/html": [
              "<html>\n",
              "<head><meta charset=\"utf-8\" /></head>\n",
              "<body>\n",
              "    <div>            <script src=\"https://cdnjs.cloudflare.com/ajax/libs/mathjax/2.7.5/MathJax.js?config=TeX-AMS-MML_SVG\"></script><script type=\"text/javascript\">if (window.MathJax && window.MathJax.Hub && window.MathJax.Hub.Config) {window.MathJax.Hub.Config({SVG: {font: \"STIX-Web\"}});}</script>                <script type=\"text/javascript\">window.PlotlyConfig = {MathJaxConfig: 'local'};</script>\n",
              "        <script charset=\"utf-8\" src=\"https://cdn.plot.ly/plotly-2.35.2.min.js\"></script>                <div id=\"f33e9e34-8c59-4ed2-8983-7c4989606bb9\" class=\"plotly-graph-div\" style=\"height:525px; width:100%;\"></div>            <script type=\"text/javascript\">                                    window.PLOTLYENV=window.PLOTLYENV || {};                                    if (document.getElementById(\"f33e9e34-8c59-4ed2-8983-7c4989606bb9\")) {                    Plotly.newPlot(                        \"f33e9e34-8c59-4ed2-8983-7c4989606bb9\",                        [{\"alignmentgroup\":\"True\",\"hovertemplate\":\"Scenario=%{x}\\u003cbr\\u003eAvoidable Admissions=%{y}\\u003cextra\\u003e\\u003c\\u002fextra\\u003e\",\"legendgroup\":\"\",\"marker\":{\"color\":\"#636efa\",\"pattern\":{\"shape\":\"\"}},\"name\":\"\",\"offsetgroup\":\"\",\"orientation\":\"v\",\"showlegend\":false,\"textposition\":\"auto\",\"x\":[\"Demand-Informed\",\"Random\",\"Preference-Only\"],\"xaxis\":\"x\",\"y\":[885779400.0,885779400.0,885779400.0],\"yaxis\":\"y\",\"type\":\"bar\"}],                        {\"template\":{\"data\":{\"histogram2dcontour\":[{\"type\":\"histogram2dcontour\",\"colorbar\":{\"outlinewidth\":0,\"ticks\":\"\"},\"colorscale\":[[0.0,\"#0d0887\"],[0.1111111111111111,\"#46039f\"],[0.2222222222222222,\"#7201a8\"],[0.3333333333333333,\"#9c179e\"],[0.4444444444444444,\"#bd3786\"],[0.5555555555555556,\"#d8576b\"],[0.6666666666666666,\"#ed7953\"],[0.7777777777777778,\"#fb9f3a\"],[0.8888888888888888,\"#fdca26\"],[1.0,\"#f0f921\"]]}],\"choropleth\":[{\"type\":\"choropleth\",\"colorbar\":{\"outlinewidth\":0,\"ticks\":\"\"}}],\"histogram2d\":[{\"type\":\"histogram2d\",\"colorbar\":{\"outlinewidth\":0,\"ticks\":\"\"},\"colorscale\":[[0.0,\"#0d0887\"],[0.1111111111111111,\"#46039f\"],[0.2222222222222222,\"#7201a8\"],[0.3333333333333333,\"#9c179e\"],[0.4444444444444444,\"#bd3786\"],[0.5555555555555556,\"#d8576b\"],[0.6666666666666666,\"#ed7953\"],[0.7777777777777778,\"#fb9f3a\"],[0.8888888888888888,\"#fdca26\"],[1.0,\"#f0f921\"]]}],\"heatmap\":[{\"type\":\"heatmap\",\"colorbar\":{\"outlinewidth\":0,\"ticks\":\"\"},\"colorscale\":[[0.0,\"#0d0887\"],[0.1111111111111111,\"#46039f\"],[0.2222222222222222,\"#7201a8\"],[0.3333333333333333,\"#9c179e\"],[0.4444444444444444,\"#bd3786\"],[0.5555555555555556,\"#d8576b\"],[0.6666666666666666,\"#ed7953\"],[0.7777777777777778,\"#fb9f3a\"],[0.8888888888888888,\"#fdca26\"],[1.0,\"#f0f921\"]]}],\"heatmapgl\":[{\"type\":\"heatmapgl\",\"colorbar\":{\"outlinewidth\":0,\"ticks\":\"\"},\"colorscale\":[[0.0,\"#0d0887\"],[0.1111111111111111,\"#46039f\"],[0.2222222222222222,\"#7201a8\"],[0.3333333333333333,\"#9c179e\"],[0.4444444444444444,\"#bd3786\"],[0.5555555555555556,\"#d8576b\"],[0.6666666666666666,\"#ed7953\"],[0.7777777777777778,\"#fb9f3a\"],[0.8888888888888888,\"#fdca26\"],[1.0,\"#f0f921\"]]}],\"contourcarpet\":[{\"type\":\"contourcarpet\",\"colorbar\":{\"outlinewidth\":0,\"ticks\":\"\"}}],\"contour\":[{\"type\":\"contour\",\"colorbar\":{\"outlinewidth\":0,\"ticks\":\"\"},\"colorscale\":[[0.0,\"#0d0887\"],[0.1111111111111111,\"#46039f\"],[0.2222222222222222,\"#7201a8\"],[0.3333333333333333,\"#9c179e\"],[0.4444444444444444,\"#bd3786\"],[0.5555555555555556,\"#d8576b\"],[0.6666666666666666,\"#ed7953\"],[0.7777777777777778,\"#fb9f3a\"],[0.8888888888888888,\"#fdca26\"],[1.0,\"#f0f921\"]]}],\"surface\":[{\"type\":\"surface\",\"colorbar\":{\"outlinewidth\":0,\"ticks\":\"\"},\"colorscale\":[[0.0,\"#0d0887\"],[0.1111111111111111,\"#46039f\"],[0.2222222222222222,\"#7201a8\"],[0.3333333333333333,\"#9c179e\"],[0.4444444444444444,\"#bd3786\"],[0.5555555555555556,\"#d8576b\"],[0.6666666666666666,\"#ed7953\"],[0.7777777777777778,\"#fb9f3a\"],[0.8888888888888888,\"#fdca26\"],[1.0,\"#f0f921\"]]}],\"mesh3d\":[{\"type\":\"mesh3d\",\"colorbar\":{\"outlinewidth\":0,\"ticks\":\"\"}}],\"scatter\":[{\"fillpattern\":{\"fillmode\":\"overlay\",\"size\":10,\"solidity\":0.2},\"type\":\"scatter\"}],\"parcoords\":[{\"type\":\"parcoords\",\"line\":{\"colorbar\":{\"outlinewidth\":0,\"ticks\":\"\"}}}],\"scatterpolargl\":[{\"type\":\"scatterpolargl\",\"marker\":{\"colorbar\":{\"outlinewidth\":0,\"ticks\":\"\"}}}],\"bar\":[{\"error_x\":{\"color\":\"#2a3f5f\"},\"error_y\":{\"color\":\"#2a3f5f\"},\"marker\":{\"line\":{\"color\":\"#E5ECF6\",\"width\":0.5},\"pattern\":{\"fillmode\":\"overlay\",\"size\":10,\"solidity\":0.2}},\"type\":\"bar\"}],\"scattergeo\":[{\"type\":\"scattergeo\",\"marker\":{\"colorbar\":{\"outlinewidth\":0,\"ticks\":\"\"}}}],\"scatterpolar\":[{\"type\":\"scatterpolar\",\"marker\":{\"colorbar\":{\"outlinewidth\":0,\"ticks\":\"\"}}}],\"histogram\":[{\"marker\":{\"pattern\":{\"fillmode\":\"overlay\",\"size\":10,\"solidity\":0.2}},\"type\":\"histogram\"}],\"scattergl\":[{\"type\":\"scattergl\",\"marker\":{\"colorbar\":{\"outlinewidth\":0,\"ticks\":\"\"}}}],\"scatter3d\":[{\"type\":\"scatter3d\",\"line\":{\"colorbar\":{\"outlinewidth\":0,\"ticks\":\"\"}},\"marker\":{\"colorbar\":{\"outlinewidth\":0,\"ticks\":\"\"}}}],\"scattermapbox\":[{\"type\":\"scattermapbox\",\"marker\":{\"colorbar\":{\"outlinewidth\":0,\"ticks\":\"\"}}}],\"scatterternary\":[{\"type\":\"scatterternary\",\"marker\":{\"colorbar\":{\"outlinewidth\":0,\"ticks\":\"\"}}}],\"scattercarpet\":[{\"type\":\"scattercarpet\",\"marker\":{\"colorbar\":{\"outlinewidth\":0,\"ticks\":\"\"}}}],\"carpet\":[{\"aaxis\":{\"endlinecolor\":\"#2a3f5f\",\"gridcolor\":\"white\",\"linecolor\":\"white\",\"minorgridcolor\":\"white\",\"startlinecolor\":\"#2a3f5f\"},\"baxis\":{\"endlinecolor\":\"#2a3f5f\",\"gridcolor\":\"white\",\"linecolor\":\"white\",\"minorgridcolor\":\"white\",\"startlinecolor\":\"#2a3f5f\"},\"type\":\"carpet\"}],\"table\":[{\"cells\":{\"fill\":{\"color\":\"#EBF0F8\"},\"line\":{\"color\":\"white\"}},\"header\":{\"fill\":{\"color\":\"#C8D4E3\"},\"line\":{\"color\":\"white\"}},\"type\":\"table\"}],\"barpolar\":[{\"marker\":{\"line\":{\"color\":\"#E5ECF6\",\"width\":0.5},\"pattern\":{\"fillmode\":\"overlay\",\"size\":10,\"solidity\":0.2}},\"type\":\"barpolar\"}],\"pie\":[{\"automargin\":true,\"type\":\"pie\"}]},\"layout\":{\"autotypenumbers\":\"strict\",\"colorway\":[\"#636efa\",\"#EF553B\",\"#00cc96\",\"#ab63fa\",\"#FFA15A\",\"#19d3f3\",\"#FF6692\",\"#B6E880\",\"#FF97FF\",\"#FECB52\"],\"font\":{\"color\":\"#2a3f5f\"},\"hovermode\":\"closest\",\"hoverlabel\":{\"align\":\"left\"},\"paper_bgcolor\":\"white\",\"plot_bgcolor\":\"#E5ECF6\",\"polar\":{\"bgcolor\":\"#E5ECF6\",\"angularaxis\":{\"gridcolor\":\"white\",\"linecolor\":\"white\",\"ticks\":\"\"},\"radialaxis\":{\"gridcolor\":\"white\",\"linecolor\":\"white\",\"ticks\":\"\"}},\"ternary\":{\"bgcolor\":\"#E5ECF6\",\"aaxis\":{\"gridcolor\":\"white\",\"linecolor\":\"white\",\"ticks\":\"\"},\"baxis\":{\"gridcolor\":\"white\",\"linecolor\":\"white\",\"ticks\":\"\"},\"caxis\":{\"gridcolor\":\"white\",\"linecolor\":\"white\",\"ticks\":\"\"}},\"coloraxis\":{\"colorbar\":{\"outlinewidth\":0,\"ticks\":\"\"}},\"colorscale\":{\"sequential\":[[0.0,\"#0d0887\"],[0.1111111111111111,\"#46039f\"],[0.2222222222222222,\"#7201a8\"],[0.3333333333333333,\"#9c179e\"],[0.4444444444444444,\"#bd3786\"],[0.5555555555555556,\"#d8576b\"],[0.6666666666666666,\"#ed7953\"],[0.7777777777777778,\"#fb9f3a\"],[0.8888888888888888,\"#fdca26\"],[1.0,\"#f0f921\"]],\"sequentialminus\":[[0.0,\"#0d0887\"],[0.1111111111111111,\"#46039f\"],[0.2222222222222222,\"#7201a8\"],[0.3333333333333333,\"#9c179e\"],[0.4444444444444444,\"#bd3786\"],[0.5555555555555556,\"#d8576b\"],[0.6666666666666666,\"#ed7953\"],[0.7777777777777778,\"#fb9f3a\"],[0.8888888888888888,\"#fdca26\"],[1.0,\"#f0f921\"]],\"diverging\":[[0,\"#8e0152\"],[0.1,\"#c51b7d\"],[0.2,\"#de77ae\"],[0.3,\"#f1b6da\"],[0.4,\"#fde0ef\"],[0.5,\"#f7f7f7\"],[0.6,\"#e6f5d0\"],[0.7,\"#b8e186\"],[0.8,\"#7fbc41\"],[0.9,\"#4d9221\"],[1,\"#276419\"]]},\"xaxis\":{\"gridcolor\":\"white\",\"linecolor\":\"white\",\"ticks\":\"\",\"title\":{\"standoff\":15},\"zerolinecolor\":\"white\",\"automargin\":true,\"zerolinewidth\":2},\"yaxis\":{\"gridcolor\":\"white\",\"linecolor\":\"white\",\"ticks\":\"\",\"title\":{\"standoff\":15},\"zerolinecolor\":\"white\",\"automargin\":true,\"zerolinewidth\":2},\"scene\":{\"xaxis\":{\"backgroundcolor\":\"#E5ECF6\",\"gridcolor\":\"white\",\"linecolor\":\"white\",\"showbackground\":true,\"ticks\":\"\",\"zerolinecolor\":\"white\",\"gridwidth\":2},\"yaxis\":{\"backgroundcolor\":\"#E5ECF6\",\"gridcolor\":\"white\",\"linecolor\":\"white\",\"showbackground\":true,\"ticks\":\"\",\"zerolinecolor\":\"white\",\"gridwidth\":2},\"zaxis\":{\"backgroundcolor\":\"#E5ECF6\",\"gridcolor\":\"white\",\"linecolor\":\"white\",\"showbackground\":true,\"ticks\":\"\",\"zerolinecolor\":\"white\",\"gridwidth\":2}},\"shapedefaults\":{\"line\":{\"color\":\"#2a3f5f\"}},\"annotationdefaults\":{\"arrowcolor\":\"#2a3f5f\",\"arrowhead\":0,\"arrowwidth\":1},\"geo\":{\"bgcolor\":\"white\",\"landcolor\":\"#E5ECF6\",\"subunitcolor\":\"white\",\"showland\":true,\"showlakes\":true,\"lakecolor\":\"white\"},\"title\":{\"x\":0.05},\"mapbox\":{\"style\":\"light\"}}},\"xaxis\":{\"anchor\":\"y\",\"domain\":[0.0,1.0],\"title\":{\"text\":\"Scenario\"}},\"yaxis\":{\"anchor\":\"x\",\"domain\":[0.0,1.0],\"title\":{\"text\":\"Avoidable Admissions\"}},\"legend\":{\"tracegroupgap\":0},\"title\":{\"text\":\"Estimated Annual Avoidable Hospitalizations by Allocation Scenario\"},\"barmode\":\"relative\",\"margin\":{\"t\":50,\"l\":0,\"r\":0,\"b\":0}},                        {\"responsive\": true}                    ).then(function(){\n",
              "                            \n",
              "var gd = document.getElementById('f33e9e34-8c59-4ed2-8983-7c4989606bb9');\n",
              "var x = new MutationObserver(function (mutations, observer) {{\n",
              "        var display = window.getComputedStyle(gd).display;\n",
              "        if (!display || display === 'none') {{\n",
              "            console.log([gd, 'removed!']);\n",
              "            Plotly.purge(gd);\n",
              "            observer.disconnect();\n",
              "        }}\n",
              "}});\n",
              "\n",
              "// Listen for the removal of the full notebook cells\n",
              "var notebookContainer = gd.closest('#notebook-container');\n",
              "if (notebookContainer) {{\n",
              "    x.observe(notebookContainer, {childList: true});\n",
              "}}\n",
              "\n",
              "// Listen for the clearing of the current output cell\n",
              "var outputEl = gd.closest('.output');\n",
              "if (outputEl) {{\n",
              "    x.observe(outputEl, {childList: true});\n",
              "}}\n",
              "\n",
              "                        })                };                            </script>        </div>\n",
              "</body>\n",
              "</html>"
            ]
          },
          "metadata": {},
          "output_type": "display_data"
        }
      ],
      "source": [
        "# 4.1 Bar chart of avoidable hospitalizations by scenario\n",
        "df_plot = pd.DataFrame({\n",
        "    'Scenario': ['Demand-Informed','Random','Preference-Only'],\n",
        "    'Avoidable_Hospitalizations': [\n",
        "        summary['n_demand'],\n",
        "        summary['n_random'],\n",
        "        summary['n_preference']\n",
        "    ]\n",
        "})\n",
        "\n",
        "fig = px.bar(\n",
        "    df_plot,\n",
        "    x='Scenario',\n",
        "    y='Avoidable_Hospitalizations',\n",
        "    title='Estimated Annual Avoidable Hospitalizations by Allocation Scenario',\n",
        "    labels={'Avoidable_Hospitalizations':'Avoidable Admissions'}\n",
        ")\n",
        "fig.update_layout(margin=dict(t=50, l=0, r=0, b=0))\n",
        "fig.show()\n"
      ]
    }
  ],
  "metadata": {
    "colab": {
      "provenance": []
    },
    "kernelspec": {
      "display_name": "Python 3",
      "name": "python3"
    },
    "language_info": {
      "name": "python"
    }
  },
  "nbformat": 4,
  "nbformat_minor": 0
}