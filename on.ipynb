{
  "cells": [
    {
      "cell_type": "markdown",
      "metadata": {
        "id": "iJEMcktnkV8G"
      },
      "source": [
        "## Phase 1: Demand Modeling"
      ]
    },
    {
      "cell_type": "markdown",
      "metadata": {
        "id": "IsSXNC2k9y5J"
      },
      "source": [
        "### I. Environment Setup"
      ]
    },
    {
      "cell_type": "code",
      "execution_count": 2,
      "metadata": {
        "colab": {
          "base_uri": "https://localhost:8080/"
        },
        "id": "xoTzN5yQ86T2",
        "outputId": "8df011a3-b07e-4cae-ac01-a0f10cca6cfd"
      },
      "outputs": [
        {
          "output_type": "stream",
          "name": "stdout",
          "text": [
            "Mounted at /content/drive/\n"
          ]
        }
      ],
      "source": [
        "from google.colab import drive\n",
        "drive.mount('/content/drive/')\n"
      ]
    },
    {
      "cell_type": "code",
      "execution_count": 3,
      "metadata": {
        "colab": {
          "base_uri": "https://localhost:8080/"
        },
        "id": "adC0TQ1hBazX",
        "outputId": "4586c854-e3f5-4ee2-efe9-8952ae170202"
      },
      "outputs": [
        {
          "output_type": "stream",
          "name": "stdout",
          "text": [
            "--2025-05-12 05:33:46--  https://wwwn.cdc.gov/Nchs/Data/Nhanes/Public/2017/DataFiles/DEMO_J.XPT\n",
            "Resolving wwwn.cdc.gov (wwwn.cdc.gov)... 13.107.246.40, 2620:1ec:bdf::40\n",
            "Connecting to wwwn.cdc.gov (wwwn.cdc.gov)|13.107.246.40|:443... connected.\n",
            "HTTP request sent, awaiting response... 200 OK\n",
            "Length: 3412720 (3.3M) [text/plain]\n",
            "Saving to: ‘/content/drive/MyDrive/Spring2025/TH/256-project/nhanes/2017-2018/DEMO_J.XPT.3’\n",
            "\n",
            "DEMO_J.XPT.3        100%[===================>]   3.25M  16.8MB/s    in 0.2s    \n",
            "\n",
            "2025-05-12 05:33:46 (16.8 MB/s) - ‘/content/drive/MyDrive/Spring2025/TH/256-project/nhanes/2017-2018/DEMO_J.XPT.3’ saved [3412720/3412720]\n",
            "\n",
            "--2025-05-12 05:33:46--  https://wwwn.cdc.gov/Nchs/Data/Nhanes/Public/2017/DataFiles/DIQ_J.XPT\n",
            "Resolving wwwn.cdc.gov (wwwn.cdc.gov)... 13.107.246.40, 2620:1ec:bdf::40\n",
            "Connecting to wwwn.cdc.gov (wwwn.cdc.gov)|13.107.246.40|:443... connected.\n",
            "HTTP request sent, awaiting response... 200 OK\n",
            "Length: 3851840 (3.7M) [text/plain]\n",
            "Saving to: ‘/content/drive/MyDrive/Spring2025/TH/256-project/nhanes/2017-2018/DIQ_J.XPT.3’\n",
            "\n",
            "DIQ_J.XPT.3         100%[===================>]   3.67M  13.5MB/s    in 0.3s    \n",
            "\n",
            "2025-05-12 05:33:47 (13.5 MB/s) - ‘/content/drive/MyDrive/Spring2025/TH/256-project/nhanes/2017-2018/DIQ_J.XPT.3’ saved [3851840/3851840]\n",
            "\n"
          ]
        }
      ],
      "source": [
        "!mkdir -p /content/drive/MyDrive/Spring2025/TH/256-project/nhanes/2017-2018\n",
        "!cd /content/drive/MyDrive/Spring2025/TH/256-project/nhanes/2017-2018\n",
        "!wget -P /content/drive/MyDrive/Spring2025/TH/256-project/nhanes/2017-2018 https://wwwn.cdc.gov/Nchs/Data/Nhanes/Public/2017/DataFiles/DEMO_J.XPT\n",
        "!wget -P /content/drive/MyDrive/Spring2025/TH/256-project/nhanes/2017-2018 https://wwwn.cdc.gov/Nchs/Data/Nhanes/Public/2017/DataFiles/DIQ_J.XPT"
      ]
    },
    {
      "cell_type": "code",
      "execution_count": 4,
      "metadata": {
        "colab": {
          "base_uri": "https://localhost:8080/"
        },
        "id": "eTCT_phT9MFX",
        "outputId": "08edeb3b-7b87-4b6c-f3a3-6078a20a7cc8"
      },
      "outputs": [
        {
          "output_type": "stream",
          "name": "stdout",
          "text": [
            "Collecting nhanes\n",
            "  Downloading nhanes-0.5.1-py3-none-any.whl.metadata (750 bytes)\n",
            "Requirement already satisfied: pandas in /usr/local/lib/python3.11/dist-packages (2.2.2)\n",
            "Requirement already satisfied: numpy in /usr/local/lib/python3.11/dist-packages (2.0.2)\n",
            "Requirement already satisfied: statsmodels in /usr/local/lib/python3.11/dist-packages (0.14.4)\n",
            "Requirement already satisfied: scikit-learn in /usr/local/lib/python3.11/dist-packages (1.6.1)\n",
            "Requirement already satisfied: plotly in /usr/local/lib/python3.11/dist-packages (5.24.1)\n",
            "Collecting ucimlrepo\n",
            "  Downloading ucimlrepo-0.0.7-py3-none-any.whl.metadata (5.5 kB)\n",
            "Requirement already satisfied: python-dateutil>=2.8.2 in /usr/local/lib/python3.11/dist-packages (from pandas) (2.9.0.post0)\n",
            "Requirement already satisfied: pytz>=2020.1 in /usr/local/lib/python3.11/dist-packages (from pandas) (2025.2)\n",
            "Requirement already satisfied: tzdata>=2022.7 in /usr/local/lib/python3.11/dist-packages (from pandas) (2025.2)\n",
            "Requirement already satisfied: scipy!=1.9.2,>=1.8 in /usr/local/lib/python3.11/dist-packages (from statsmodels) (1.15.2)\n",
            "Requirement already satisfied: patsy>=0.5.6 in /usr/local/lib/python3.11/dist-packages (from statsmodels) (1.0.1)\n",
            "Requirement already satisfied: packaging>=21.3 in /usr/local/lib/python3.11/dist-packages (from statsmodels) (24.2)\n",
            "Requirement already satisfied: joblib>=1.2.0 in /usr/local/lib/python3.11/dist-packages (from scikit-learn) (1.4.2)\n",
            "Requirement already satisfied: threadpoolctl>=3.1.0 in /usr/local/lib/python3.11/dist-packages (from scikit-learn) (3.6.0)\n",
            "Requirement already satisfied: tenacity>=6.2.0 in /usr/local/lib/python3.11/dist-packages (from plotly) (9.1.2)\n",
            "Requirement already satisfied: certifi>=2020.12.5 in /usr/local/lib/python3.11/dist-packages (from ucimlrepo) (2025.4.26)\n",
            "Requirement already satisfied: six>=1.5 in /usr/local/lib/python3.11/dist-packages (from python-dateutil>=2.8.2->pandas) (1.17.0)\n",
            "Downloading nhanes-0.5.1-py3-none-any.whl (1.6 MB)\n",
            "\u001b[2K   \u001b[90m━━━━━━━━━━━━━━━━━━━━━━━━━━━━━━━━━━━━━━━━\u001b[0m \u001b[32m1.6/1.6 MB\u001b[0m \u001b[31m16.9 MB/s\u001b[0m eta \u001b[36m0:00:00\u001b[0m\n",
            "\u001b[?25hDownloading ucimlrepo-0.0.7-py3-none-any.whl (8.0 kB)\n",
            "Installing collected packages: nhanes, ucimlrepo\n",
            "Successfully installed nhanes-0.5.1 ucimlrepo-0.0.7\n",
            "Requirement already satisfied: pandas in /usr/local/lib/python3.11/dist-packages (2.2.2)\n",
            "Collecting pandas\n",
            "  Downloading pandas-2.2.3-cp311-cp311-manylinux_2_17_x86_64.manylinux2014_x86_64.whl.metadata (89 kB)\n",
            "\u001b[2K     \u001b[90m━━━━━━━━━━━━━━━━━━━━━━━━━━━━━━━━━━━━━━━━\u001b[0m \u001b[32m89.9/89.9 kB\u001b[0m \u001b[31m2.7 MB/s\u001b[0m eta \u001b[36m0:00:00\u001b[0m\n",
            "\u001b[?25hRequirement already satisfied: numpy>=1.23.2 in /usr/local/lib/python3.11/dist-packages (from pandas) (2.0.2)\n",
            "Requirement already satisfied: python-dateutil>=2.8.2 in /usr/local/lib/python3.11/dist-packages (from pandas) (2.9.0.post0)\n",
            "Requirement already satisfied: pytz>=2020.1 in /usr/local/lib/python3.11/dist-packages (from pandas) (2025.2)\n",
            "Requirement already satisfied: tzdata>=2022.7 in /usr/local/lib/python3.11/dist-packages (from pandas) (2025.2)\n",
            "Requirement already satisfied: six>=1.5 in /usr/local/lib/python3.11/dist-packages (from python-dateutil>=2.8.2->pandas) (1.17.0)\n",
            "Downloading pandas-2.2.3-cp311-cp311-manylinux_2_17_x86_64.manylinux2014_x86_64.whl (13.1 MB)\n",
            "\u001b[2K   \u001b[90m━━━━━━━━━━━━━━━━━━━━━━━━━━━━━━━━━━━━━━━━\u001b[0m \u001b[32m13.1/13.1 MB\u001b[0m \u001b[31m72.7 MB/s\u001b[0m eta \u001b[36m0:00:00\u001b[0m\n",
            "\u001b[?25hInstalling collected packages: pandas\n",
            "  Attempting uninstall: pandas\n",
            "    Found existing installation: pandas 2.2.2\n",
            "    Uninstalling pandas-2.2.2:\n",
            "      Successfully uninstalled pandas-2.2.2\n",
            "\u001b[31mERROR: pip's dependency resolver does not currently take into account all the packages that are installed. This behaviour is the source of the following dependency conflicts.\n",
            "google-colab 1.0.0 requires pandas==2.2.2, but you have pandas 2.2.3 which is incompatible.\u001b[0m\u001b[31m\n",
            "\u001b[0mSuccessfully installed pandas-2.2.3\n"
          ]
        }
      ],
      "source": [
        "!pip install nhanes pandas numpy statsmodels scikit-learn plotly ucimlrepo\n",
        "!pip install --upgrade pandas"
      ]
    },
    {
      "cell_type": "markdown",
      "metadata": {
        "id": "Y-kFtwTa99p1"
      },
      "source": [
        "### II. Data Acquisition\n",
        "\n",
        "##### 1. NHANES 2017-2018\n",
        "\n",
        "Source: CDC's continuous NHANES site provides all public-use files for 2017-2018 CDC.\n",
        "\n",
        "Python access via the nhanes package (interface patterned after the R NHANES package) GitHub.\n",
        "\n",
        "##### 2. Diabetes 130-US Hospitals (1999-2008)\n",
        "\n",
        "Source: UCI Machine Learning Repository, \"Diabetes 130-US Hospitals for Years 1999-2008\" UCI Machine Learning Repository.\n",
        "\n",
        "Dataset details: 101,766 records, 47 features including patient demographics, lab tests, medications, length of stay, and 30-day readmission."
      ]
    },
    {
      "cell_type": "code",
      "execution_count": 5,
      "metadata": {
        "colab": {
          "base_uri": "https://localhost:8080/"
        },
        "id": "v_VHwqIi98Ng",
        "outputId": "76465397-677c-4afe-81d2-742303658e74"
      },
      "outputs": [
        {
          "output_type": "stream",
          "name": "stderr",
          "text": [
            "/usr/local/lib/python3.11/dist-packages/ucimlrepo/fetch.py:97: DtypeWarning: Columns (10) have mixed types. Specify dtype option on import or set low_memory=False.\n",
            "  df = pd.read_csv(data_url)\n"
          ]
        }
      ],
      "source": [
        "from ucimlrepo import fetch_ucirepo\n",
        "import pandas as pd\n",
        "# NHANES 2017–2018\n",
        "demo_path = '/content/drive/MyDrive/Spring2025/TH/256-project/nhanes/2017-2018/DEMO_J.XPT'\n",
        "diq_path  = '/content/drive/MyDrive/Spring2025/TH/256-project/nhanes/2017-2018/DIQ_J.XPT'\n",
        "# format='xport' is inferred but can be set explicitly\n",
        "demo = pd.read_sas(demo_path, format='xport')  # Demographics\n",
        "diq  = pd.read_sas(diq_path,  format='xport')  # Diabetes questionnaire\n",
        "# Diabetes 130-US Hospitals (1999-2008)\n",
        "diabetes_130_us_hospitals_for_years_1999_2008 = fetch_ucirepo(id=296)\n",
        "uci_X = diabetes_130_us_hospitals_for_years_1999_2008.data.features\n",
        "uci_y = diabetes_130_us_hospitals_for_years_1999_2008.data.targets\n"
      ]
    },
    {
      "cell_type": "markdown",
      "metadata": {
        "id": "IJ88qFR0uJ0p"
      },
      "source": [
        "### III. Processing"
      ]
    },
    {
      "cell_type": "code",
      "execution_count": 6,
      "metadata": {
        "id": "6nmNjEk1X4oy"
      },
      "outputs": [],
      "source": [
        "import pandas as pd\n",
        "import numpy as np\n",
        "from sklearn.preprocessing import StandardScaler\n",
        "from sklearn.decomposition import PCA\n",
        "from ucimlrepo import fetch_ucirepo\n",
        "import matplotlib.pyplot as plt\n",
        "import seaborn as sns\n"
      ]
    },
    {
      "cell_type": "markdown",
      "metadata": {
        "id": "yNWYEZxqYjpX"
      },
      "source": [
        "Step 1: Merge & Clean NHANES"
      ]
    },
    {
      "cell_type": "code",
      "execution_count": 7,
      "metadata": {
        "id": "BPaXs832XgBK"
      },
      "outputs": [],
      "source": [
        "nhanes = pd.merge(demo, diq, on='SEQN', how='inner')\n",
        "# adult\n",
        "nhanes = nhanes[nhanes['RIDAGEYR'] >= 18]\n",
        "nhanes = nhanes[nhanes['DIQ010'].isin([1, 2])]\n",
        "nhanes['has_diabetes'] = nhanes['DIQ010'] == 1\n",
        "nhanes['age_bin'] = pd.cut(\n",
        "    nhanes['RIDAGEYR'],\n",
        "    bins=[18, 30, 45, 60, 75, 90],\n",
        "    labels=['18–30', '31–45', '46–60', '61–75', '76+'])\n"
      ]
    },
    {
      "cell_type": "markdown",
      "metadata": {
        "id": "0y0ApI8tYm8y"
      },
      "source": [
        "Step 2: Aggregate NHANES Diabetes Prevalence"
      ]
    },
    {
      "cell_type": "code",
      "execution_count": 8,
      "metadata": {
        "colab": {
          "base_uri": "https://localhost:8080/"
        },
        "id": "8Zwc-Fcn9v61",
        "outputId": "1a7e2f8a-cd2d-49e7-b495-b401cecfbd3d"
      },
      "outputs": [
        {
          "output_type": "stream",
          "name": "stderr",
          "text": [
            "<ipython-input-8-870f169329bb>:4: FutureWarning: The default of observed=False is deprecated and will be changed to True in a future version of pandas. Pass observed=False to retain current behavior or observed=True to adopt the future default and silence this warning.\n",
            "  .groupby([region_proxy, 'age_bin'])['has_diabetes']\n"
          ]
        }
      ],
      "source": [
        "region_proxy = 'SDMVSTRA'  # demographic proxy\n",
        "grouped = (\n",
        "    nhanes\n",
        "    .groupby([region_proxy, 'age_bin'])['has_diabetes']\n",
        "    .agg(prevalence='mean', n='count')\n",
        "    .reset_index()\n",
        ")\n"
      ]
    },
    {
      "cell_type": "markdown",
      "metadata": {
        "id": "m91NTB09Y5Np"
      },
      "source": [
        "Step 3: Load UCI Diabetes 130-US Hospital Dataset"
      ]
    },
    {
      "cell_type": "code",
      "execution_count": 9,
      "metadata": {
        "id": "-cMX15LDY4Qs"
      },
      "outputs": [],
      "source": [
        "uci = pd.concat([uci_X, uci_y], axis=1)\n",
        "uci = uci[uci['race'] != '?']  # Clean unknowns\n",
        "uci['readmitted_flag'] = uci['readmitted'].apply(lambda x: 1 if x == '<30' else 0) # # 2.2 Recode readmission into binary flag (<30 days=1, else=0)\n"
      ]
    },
    {
      "cell_type": "markdown",
      "metadata": {
        "id": "vzOWUgDQYols"
      },
      "source": [
        "Step 4: Aggregate UCI"
      ]
    },
    {
      "cell_type": "code",
      "execution_count": 10,
      "metadata": {
        "id": "f8ENEByVisG0"
      },
      "outputs": [],
      "source": [
        "hospital_burden = (\n",
        "    uci\n",
        "    .groupby('age')['readmitted_flag']\n",
        "    .agg(readmission_rate='mean', n='count')\n",
        "    .reset_index()\n",
        ")\n",
        "hospital_burden.rename(columns={'mean': 'readmission_rate', 'count': 'n'}, inplace=True)\n"
      ]
    },
    {
      "cell_type": "markdown",
      "metadata": {
        "id": "fZ2wNYSsUJrR"
      },
      "source": [
        "Step 5: PCA z-score"
      ]
    },
    {
      "cell_type": "code",
      "execution_count": 11,
      "metadata": {
        "id": "azCaVsloI0cF"
      },
      "outputs": [],
      "source": [
        "def zscore_transform(*arrays):\n",
        "    stacked = np.vstack([np.asarray(arr).reshape(-1) for arr in arrays]).T\n",
        "    scaler = StandardScaler()\n",
        "    scaled = scaler.fit_transform(stacked)\n",
        "    return [scaled[:, i] for i in range(scaled.shape[1])]\n",
        "\n",
        "def pca_composite(*zarrays, n_components=1):\n",
        "    X = np.vstack([np.asarray(z).reshape(-1) for z in zarrays]).T\n",
        "    pca = PCA(n_components=n_components)\n",
        "    pcs = pca.fit_transform(X)\n",
        "    loadings = pca.components_[0]\n",
        "    weights = loadings / np.sum(loadings)\n",
        "    return pcs[:, 0], weights\n"
      ]
    },
    {
      "cell_type": "markdown",
      "metadata": {
        "id": "oOj_1aRhi9SW"
      },
      "source": [
        "Step 6: Compute z‑scores for each region×age_bin’s diabetes_prevalence\n",
        "(and—optionally—hospital readmission by mapping age_bin→age)"
      ]
    },
    {
      "cell_type": "code",
      "execution_count": 12,
      "metadata": {
        "id": "m0ygQHi5Zg1j"
      },
      "outputs": [],
      "source": [
        "prev = grouped['prevalence'].values\n",
        "# If you align hospital_burden to the same bins, extract its rate vector `rb`\n",
        "# For illustration, we z‑score only NHANES prevalence here:\n",
        "[z_prev] = zscore_transform(prev)"
      ]
    },
    {
      "cell_type": "code",
      "execution_count": 13,
      "metadata": {
        "id": "cPz6s-q3v6_D"
      },
      "outputs": [],
      "source": [
        "std_pop = {\n",
        "  '18–30': 0.236,\n",
        "  '31–45': 0.293,\n",
        "  '46–60': 0.253,\n",
        "  '61–75': 0.137,\n",
        "  '76+':   0.082\n",
        "} # https://www.cdc.gov/nchs/hus/sources-definitions/age-adjustment.html\n"
      ]
    },
    {
      "cell_type": "code",
      "execution_count": 14,
      "metadata": {
        "colab": {
          "base_uri": "https://localhost:8080/",
          "height": 0
        },
        "id": "DkUUWywPxc96",
        "outputId": "8e16cafa-aad2-46a1-ad42-847beb23bb90"
      },
      "outputs": [
        {
          "output_type": "execute_result",
          "data": {
            "text/plain": [
              "   SDMVSTRA  age_adj_prevalence\n",
              "0     134.0            0.099036\n",
              "1     135.0            0.128388\n",
              "2     136.0            0.136306\n",
              "3     137.0            0.131166\n",
              "4     138.0            0.136666"
            ],
            "text/html": [
              "\n",
              "  <div id=\"df-9ffda3be-eeb1-4fc5-8906-e260a4ca2bf2\" class=\"colab-df-container\">\n",
              "    <div>\n",
              "<style scoped>\n",
              "    .dataframe tbody tr th:only-of-type {\n",
              "        vertical-align: middle;\n",
              "    }\n",
              "\n",
              "    .dataframe tbody tr th {\n",
              "        vertical-align: top;\n",
              "    }\n",
              "\n",
              "    .dataframe thead th {\n",
              "        text-align: right;\n",
              "    }\n",
              "</style>\n",
              "<table border=\"1\" class=\"dataframe\">\n",
              "  <thead>\n",
              "    <tr style=\"text-align: right;\">\n",
              "      <th></th>\n",
              "      <th>SDMVSTRA</th>\n",
              "      <th>age_adj_prevalence</th>\n",
              "    </tr>\n",
              "  </thead>\n",
              "  <tbody>\n",
              "    <tr>\n",
              "      <th>0</th>\n",
              "      <td>134.0</td>\n",
              "      <td>0.099036</td>\n",
              "    </tr>\n",
              "    <tr>\n",
              "      <th>1</th>\n",
              "      <td>135.0</td>\n",
              "      <td>0.128388</td>\n",
              "    </tr>\n",
              "    <tr>\n",
              "      <th>2</th>\n",
              "      <td>136.0</td>\n",
              "      <td>0.136306</td>\n",
              "    </tr>\n",
              "    <tr>\n",
              "      <th>3</th>\n",
              "      <td>137.0</td>\n",
              "      <td>0.131166</td>\n",
              "    </tr>\n",
              "    <tr>\n",
              "      <th>4</th>\n",
              "      <td>138.0</td>\n",
              "      <td>0.136666</td>\n",
              "    </tr>\n",
              "  </tbody>\n",
              "</table>\n",
              "</div>\n",
              "    <div class=\"colab-df-buttons\">\n",
              "\n",
              "  <div class=\"colab-df-container\">\n",
              "    <button class=\"colab-df-convert\" onclick=\"convertToInteractive('df-9ffda3be-eeb1-4fc5-8906-e260a4ca2bf2')\"\n",
              "            title=\"Convert this dataframe to an interactive table.\"\n",
              "            style=\"display:none;\">\n",
              "\n",
              "  <svg xmlns=\"http://www.w3.org/2000/svg\" height=\"24px\" viewBox=\"0 -960 960 960\">\n",
              "    <path d=\"M120-120v-720h720v720H120Zm60-500h600v-160H180v160Zm220 220h160v-160H400v160Zm0 220h160v-160H400v160ZM180-400h160v-160H180v160Zm440 0h160v-160H620v160ZM180-180h160v-160H180v160Zm440 0h160v-160H620v160Z\"/>\n",
              "  </svg>\n",
              "    </button>\n",
              "\n",
              "  <style>\n",
              "    .colab-df-container {\n",
              "      display:flex;\n",
              "      gap: 12px;\n",
              "    }\n",
              "\n",
              "    .colab-df-convert {\n",
              "      background-color: #E8F0FE;\n",
              "      border: none;\n",
              "      border-radius: 50%;\n",
              "      cursor: pointer;\n",
              "      display: none;\n",
              "      fill: #1967D2;\n",
              "      height: 32px;\n",
              "      padding: 0 0 0 0;\n",
              "      width: 32px;\n",
              "    }\n",
              "\n",
              "    .colab-df-convert:hover {\n",
              "      background-color: #E2EBFA;\n",
              "      box-shadow: 0px 1px 2px rgba(60, 64, 67, 0.3), 0px 1px 3px 1px rgba(60, 64, 67, 0.15);\n",
              "      fill: #174EA6;\n",
              "    }\n",
              "\n",
              "    .colab-df-buttons div {\n",
              "      margin-bottom: 4px;\n",
              "    }\n",
              "\n",
              "    [theme=dark] .colab-df-convert {\n",
              "      background-color: #3B4455;\n",
              "      fill: #D2E3FC;\n",
              "    }\n",
              "\n",
              "    [theme=dark] .colab-df-convert:hover {\n",
              "      background-color: #434B5C;\n",
              "      box-shadow: 0px 1px 3px 1px rgba(0, 0, 0, 0.15);\n",
              "      filter: drop-shadow(0px 1px 2px rgba(0, 0, 0, 0.3));\n",
              "      fill: #FFFFFF;\n",
              "    }\n",
              "  </style>\n",
              "\n",
              "    <script>\n",
              "      const buttonEl =\n",
              "        document.querySelector('#df-9ffda3be-eeb1-4fc5-8906-e260a4ca2bf2 button.colab-df-convert');\n",
              "      buttonEl.style.display =\n",
              "        google.colab.kernel.accessAllowed ? 'block' : 'none';\n",
              "\n",
              "      async function convertToInteractive(key) {\n",
              "        const element = document.querySelector('#df-9ffda3be-eeb1-4fc5-8906-e260a4ca2bf2');\n",
              "        const dataTable =\n",
              "          await google.colab.kernel.invokeFunction('convertToInteractive',\n",
              "                                                    [key], {});\n",
              "        if (!dataTable) return;\n",
              "\n",
              "        const docLinkHtml = 'Like what you see? Visit the ' +\n",
              "          '<a target=\"_blank\" href=https://colab.research.google.com/notebooks/data_table.ipynb>data table notebook</a>'\n",
              "          + ' to learn more about interactive tables.';\n",
              "        element.innerHTML = '';\n",
              "        dataTable['output_type'] = 'display_data';\n",
              "        await google.colab.output.renderOutput(dataTable, element);\n",
              "        const docLink = document.createElement('div');\n",
              "        docLink.innerHTML = docLinkHtml;\n",
              "        element.appendChild(docLink);\n",
              "      }\n",
              "    </script>\n",
              "  </div>\n",
              "\n",
              "\n",
              "    <div id=\"df-81b1e93e-1fc9-4cf0-bf28-be34c695a3c6\">\n",
              "      <button class=\"colab-df-quickchart\" onclick=\"quickchart('df-81b1e93e-1fc9-4cf0-bf28-be34c695a3c6')\"\n",
              "                title=\"Suggest charts\"\n",
              "                style=\"display:none;\">\n",
              "\n",
              "<svg xmlns=\"http://www.w3.org/2000/svg\" height=\"24px\"viewBox=\"0 0 24 24\"\n",
              "     width=\"24px\">\n",
              "    <g>\n",
              "        <path d=\"M19 3H5c-1.1 0-2 .9-2 2v14c0 1.1.9 2 2 2h14c1.1 0 2-.9 2-2V5c0-1.1-.9-2-2-2zM9 17H7v-7h2v7zm4 0h-2V7h2v10zm4 0h-2v-4h2v4z\"/>\n",
              "    </g>\n",
              "</svg>\n",
              "      </button>\n",
              "\n",
              "<style>\n",
              "  .colab-df-quickchart {\n",
              "      --bg-color: #E8F0FE;\n",
              "      --fill-color: #1967D2;\n",
              "      --hover-bg-color: #E2EBFA;\n",
              "      --hover-fill-color: #174EA6;\n",
              "      --disabled-fill-color: #AAA;\n",
              "      --disabled-bg-color: #DDD;\n",
              "  }\n",
              "\n",
              "  [theme=dark] .colab-df-quickchart {\n",
              "      --bg-color: #3B4455;\n",
              "      --fill-color: #D2E3FC;\n",
              "      --hover-bg-color: #434B5C;\n",
              "      --hover-fill-color: #FFFFFF;\n",
              "      --disabled-bg-color: #3B4455;\n",
              "      --disabled-fill-color: #666;\n",
              "  }\n",
              "\n",
              "  .colab-df-quickchart {\n",
              "    background-color: var(--bg-color);\n",
              "    border: none;\n",
              "    border-radius: 50%;\n",
              "    cursor: pointer;\n",
              "    display: none;\n",
              "    fill: var(--fill-color);\n",
              "    height: 32px;\n",
              "    padding: 0;\n",
              "    width: 32px;\n",
              "  }\n",
              "\n",
              "  .colab-df-quickchart:hover {\n",
              "    background-color: var(--hover-bg-color);\n",
              "    box-shadow: 0 1px 2px rgba(60, 64, 67, 0.3), 0 1px 3px 1px rgba(60, 64, 67, 0.15);\n",
              "    fill: var(--button-hover-fill-color);\n",
              "  }\n",
              "\n",
              "  .colab-df-quickchart-complete:disabled,\n",
              "  .colab-df-quickchart-complete:disabled:hover {\n",
              "    background-color: var(--disabled-bg-color);\n",
              "    fill: var(--disabled-fill-color);\n",
              "    box-shadow: none;\n",
              "  }\n",
              "\n",
              "  .colab-df-spinner {\n",
              "    border: 2px solid var(--fill-color);\n",
              "    border-color: transparent;\n",
              "    border-bottom-color: var(--fill-color);\n",
              "    animation:\n",
              "      spin 1s steps(1) infinite;\n",
              "  }\n",
              "\n",
              "  @keyframes spin {\n",
              "    0% {\n",
              "      border-color: transparent;\n",
              "      border-bottom-color: var(--fill-color);\n",
              "      border-left-color: var(--fill-color);\n",
              "    }\n",
              "    20% {\n",
              "      border-color: transparent;\n",
              "      border-left-color: var(--fill-color);\n",
              "      border-top-color: var(--fill-color);\n",
              "    }\n",
              "    30% {\n",
              "      border-color: transparent;\n",
              "      border-left-color: var(--fill-color);\n",
              "      border-top-color: var(--fill-color);\n",
              "      border-right-color: var(--fill-color);\n",
              "    }\n",
              "    40% {\n",
              "      border-color: transparent;\n",
              "      border-right-color: var(--fill-color);\n",
              "      border-top-color: var(--fill-color);\n",
              "    }\n",
              "    60% {\n",
              "      border-color: transparent;\n",
              "      border-right-color: var(--fill-color);\n",
              "    }\n",
              "    80% {\n",
              "      border-color: transparent;\n",
              "      border-right-color: var(--fill-color);\n",
              "      border-bottom-color: var(--fill-color);\n",
              "    }\n",
              "    90% {\n",
              "      border-color: transparent;\n",
              "      border-bottom-color: var(--fill-color);\n",
              "    }\n",
              "  }\n",
              "</style>\n",
              "\n",
              "      <script>\n",
              "        async function quickchart(key) {\n",
              "          const quickchartButtonEl =\n",
              "            document.querySelector('#' + key + ' button');\n",
              "          quickchartButtonEl.disabled = true;  // To prevent multiple clicks.\n",
              "          quickchartButtonEl.classList.add('colab-df-spinner');\n",
              "          try {\n",
              "            const charts = await google.colab.kernel.invokeFunction(\n",
              "                'suggestCharts', [key], {});\n",
              "          } catch (error) {\n",
              "            console.error('Error during call to suggestCharts:', error);\n",
              "          }\n",
              "          quickchartButtonEl.classList.remove('colab-df-spinner');\n",
              "          quickchartButtonEl.classList.add('colab-df-quickchart-complete');\n",
              "        }\n",
              "        (() => {\n",
              "          let quickchartButtonEl =\n",
              "            document.querySelector('#df-81b1e93e-1fc9-4cf0-bf28-be34c695a3c6 button');\n",
              "          quickchartButtonEl.style.display =\n",
              "            google.colab.kernel.accessAllowed ? 'block' : 'none';\n",
              "        })();\n",
              "      </script>\n",
              "    </div>\n",
              "\n",
              "    </div>\n",
              "  </div>\n"
            ],
            "application/vnd.google.colaboratory.intrinsic+json": {
              "type": "dataframe",
              "variable_name": "age_std",
              "summary": "{\n  \"name\": \"age_std\",\n  \"rows\": 15,\n  \"fields\": [\n    {\n      \"column\": \"SDMVSTRA\",\n      \"properties\": {\n        \"dtype\": \"number\",\n        \"std\": 4.47213595499958,\n        \"min\": 134.0,\n        \"max\": 148.0,\n        \"num_unique_values\": 15,\n        \"samples\": [\n          143.0,\n          145.0,\n          134.0\n        ],\n        \"semantic_type\": \"\",\n        \"description\": \"\"\n      }\n    },\n    {\n      \"column\": \"age_adj_prevalence\",\n      \"properties\": {\n        \"dtype\": \"number\",\n        \"std\": 0.020488238390936258,\n        \"min\": 0.09755317073170733,\n        \"max\": 0.16964762658022992,\n        \"num_unique_values\": 15,\n        \"samples\": [\n          0.147800802097278,\n          0.09755317073170733,\n          0.09903644546667803\n        ],\n        \"semantic_type\": \"\",\n        \"description\": \"\"\n      }\n    }\n  ]\n}"
            }
          },
          "metadata": {},
          "execution_count": 14
        }
      ],
      "source": [
        "def age_adjusted(df, weight_map):\n",
        "    df = df.copy()\n",
        "    df['age_bin_str'] = df['age_bin'].astype(str)\n",
        "    df['std_weight'] = df['age_bin_str'].map(weight_map).astype(float)\n",
        "    df['weighted_prev'] = df['prevalence'] * df['std_weight']\n",
        "    return df.groupby(region_proxy)['weighted_prev'].sum().reset_index(\n",
        "        name='age_adj_prevalence'\n",
        "    )\n",
        "\n",
        "age_std = age_adjusted(grouped, std_pop)\n",
        "age_std.head()\n"
      ]
    },
    {
      "cell_type": "code",
      "execution_count": 15,
      "metadata": {
        "id": "dZhRG4s9xegW"
      },
      "outputs": [],
      "source": [
        "grouped.to_csv('/content/drive/MyDrive/Spring2025/TH/256-project/output/nhanes_grouped.csv', index=False)\n",
        "age_std.to_csv('/content/drive/MyDrive/Spring2025/TH/256-project/output/nhanes_age_std.csv', index=False)\n"
      ]
    },
    {
      "cell_type": "markdown",
      "metadata": {
        "id": "-dKCA1TujMWk"
      },
      "source": [
        "Build composite score via PCA (if combining multiple indicators)"
      ]
    },
    {
      "cell_type": "code",
      "execution_count": 16,
      "metadata": {
        "colab": {
          "base_uri": "https://localhost:8080/",
          "height": 0
        },
        "id": "atvV0FMRjLDp",
        "outputId": "acb5316f-831f-4feb-e8c2-409ecc237fea"
      },
      "outputs": [
        {
          "output_type": "stream",
          "name": "stdout",
          "text": [
            "PCA weights: [1.]\n"
          ]
        },
        {
          "output_type": "execute_result",
          "data": {
            "text/plain": [
              "   SDMVSTRA age_bin  prevalence   n  composite_burden\n",
              "0     134.0   18–30    0.000000  47         -1.307399\n",
              "1     134.0   31–45    0.031746  63         -1.057528\n",
              "2     134.0   46–60    0.141026  78         -0.197394\n",
              "3     134.0   61–75    0.209302  86          0.340008\n",
              "4     134.0     76+    0.309524  42          1.128845"
            ],
            "text/html": [
              "\n",
              "  <div id=\"df-ffc7530a-6735-4d20-8b35-f1b8d2d0a491\" class=\"colab-df-container\">\n",
              "    <div>\n",
              "<style scoped>\n",
              "    .dataframe tbody tr th:only-of-type {\n",
              "        vertical-align: middle;\n",
              "    }\n",
              "\n",
              "    .dataframe tbody tr th {\n",
              "        vertical-align: top;\n",
              "    }\n",
              "\n",
              "    .dataframe thead th {\n",
              "        text-align: right;\n",
              "    }\n",
              "</style>\n",
              "<table border=\"1\" class=\"dataframe\">\n",
              "  <thead>\n",
              "    <tr style=\"text-align: right;\">\n",
              "      <th></th>\n",
              "      <th>SDMVSTRA</th>\n",
              "      <th>age_bin</th>\n",
              "      <th>prevalence</th>\n",
              "      <th>n</th>\n",
              "      <th>composite_burden</th>\n",
              "    </tr>\n",
              "  </thead>\n",
              "  <tbody>\n",
              "    <tr>\n",
              "      <th>0</th>\n",
              "      <td>134.0</td>\n",
              "      <td>18–30</td>\n",
              "      <td>0.000000</td>\n",
              "      <td>47</td>\n",
              "      <td>-1.307399</td>\n",
              "    </tr>\n",
              "    <tr>\n",
              "      <th>1</th>\n",
              "      <td>134.0</td>\n",
              "      <td>31–45</td>\n",
              "      <td>0.031746</td>\n",
              "      <td>63</td>\n",
              "      <td>-1.057528</td>\n",
              "    </tr>\n",
              "    <tr>\n",
              "      <th>2</th>\n",
              "      <td>134.0</td>\n",
              "      <td>46–60</td>\n",
              "      <td>0.141026</td>\n",
              "      <td>78</td>\n",
              "      <td>-0.197394</td>\n",
              "    </tr>\n",
              "    <tr>\n",
              "      <th>3</th>\n",
              "      <td>134.0</td>\n",
              "      <td>61–75</td>\n",
              "      <td>0.209302</td>\n",
              "      <td>86</td>\n",
              "      <td>0.340008</td>\n",
              "    </tr>\n",
              "    <tr>\n",
              "      <th>4</th>\n",
              "      <td>134.0</td>\n",
              "      <td>76+</td>\n",
              "      <td>0.309524</td>\n",
              "      <td>42</td>\n",
              "      <td>1.128845</td>\n",
              "    </tr>\n",
              "  </tbody>\n",
              "</table>\n",
              "</div>\n",
              "    <div class=\"colab-df-buttons\">\n",
              "\n",
              "  <div class=\"colab-df-container\">\n",
              "    <button class=\"colab-df-convert\" onclick=\"convertToInteractive('df-ffc7530a-6735-4d20-8b35-f1b8d2d0a491')\"\n",
              "            title=\"Convert this dataframe to an interactive table.\"\n",
              "            style=\"display:none;\">\n",
              "\n",
              "  <svg xmlns=\"http://www.w3.org/2000/svg\" height=\"24px\" viewBox=\"0 -960 960 960\">\n",
              "    <path d=\"M120-120v-720h720v720H120Zm60-500h600v-160H180v160Zm220 220h160v-160H400v160Zm0 220h160v-160H400v160ZM180-400h160v-160H180v160Zm440 0h160v-160H620v160ZM180-180h160v-160H180v160Zm440 0h160v-160H620v160Z\"/>\n",
              "  </svg>\n",
              "    </button>\n",
              "\n",
              "  <style>\n",
              "    .colab-df-container {\n",
              "      display:flex;\n",
              "      gap: 12px;\n",
              "    }\n",
              "\n",
              "    .colab-df-convert {\n",
              "      background-color: #E8F0FE;\n",
              "      border: none;\n",
              "      border-radius: 50%;\n",
              "      cursor: pointer;\n",
              "      display: none;\n",
              "      fill: #1967D2;\n",
              "      height: 32px;\n",
              "      padding: 0 0 0 0;\n",
              "      width: 32px;\n",
              "    }\n",
              "\n",
              "    .colab-df-convert:hover {\n",
              "      background-color: #E2EBFA;\n",
              "      box-shadow: 0px 1px 2px rgba(60, 64, 67, 0.3), 0px 1px 3px 1px rgba(60, 64, 67, 0.15);\n",
              "      fill: #174EA6;\n",
              "    }\n",
              "\n",
              "    .colab-df-buttons div {\n",
              "      margin-bottom: 4px;\n",
              "    }\n",
              "\n",
              "    [theme=dark] .colab-df-convert {\n",
              "      background-color: #3B4455;\n",
              "      fill: #D2E3FC;\n",
              "    }\n",
              "\n",
              "    [theme=dark] .colab-df-convert:hover {\n",
              "      background-color: #434B5C;\n",
              "      box-shadow: 0px 1px 3px 1px rgba(0, 0, 0, 0.15);\n",
              "      filter: drop-shadow(0px 1px 2px rgba(0, 0, 0, 0.3));\n",
              "      fill: #FFFFFF;\n",
              "    }\n",
              "  </style>\n",
              "\n",
              "    <script>\n",
              "      const buttonEl =\n",
              "        document.querySelector('#df-ffc7530a-6735-4d20-8b35-f1b8d2d0a491 button.colab-df-convert');\n",
              "      buttonEl.style.display =\n",
              "        google.colab.kernel.accessAllowed ? 'block' : 'none';\n",
              "\n",
              "      async function convertToInteractive(key) {\n",
              "        const element = document.querySelector('#df-ffc7530a-6735-4d20-8b35-f1b8d2d0a491');\n",
              "        const dataTable =\n",
              "          await google.colab.kernel.invokeFunction('convertToInteractive',\n",
              "                                                    [key], {});\n",
              "        if (!dataTable) return;\n",
              "\n",
              "        const docLinkHtml = 'Like what you see? Visit the ' +\n",
              "          '<a target=\"_blank\" href=https://colab.research.google.com/notebooks/data_table.ipynb>data table notebook</a>'\n",
              "          + ' to learn more about interactive tables.';\n",
              "        element.innerHTML = '';\n",
              "        dataTable['output_type'] = 'display_data';\n",
              "        await google.colab.output.renderOutput(dataTable, element);\n",
              "        const docLink = document.createElement('div');\n",
              "        docLink.innerHTML = docLinkHtml;\n",
              "        element.appendChild(docLink);\n",
              "      }\n",
              "    </script>\n",
              "  </div>\n",
              "\n",
              "\n",
              "    <div id=\"df-6526f2f1-7116-4b73-b28f-50496e197ae9\">\n",
              "      <button class=\"colab-df-quickchart\" onclick=\"quickchart('df-6526f2f1-7116-4b73-b28f-50496e197ae9')\"\n",
              "                title=\"Suggest charts\"\n",
              "                style=\"display:none;\">\n",
              "\n",
              "<svg xmlns=\"http://www.w3.org/2000/svg\" height=\"24px\"viewBox=\"0 0 24 24\"\n",
              "     width=\"24px\">\n",
              "    <g>\n",
              "        <path d=\"M19 3H5c-1.1 0-2 .9-2 2v14c0 1.1.9 2 2 2h14c1.1 0 2-.9 2-2V5c0-1.1-.9-2-2-2zM9 17H7v-7h2v7zm4 0h-2V7h2v10zm4 0h-2v-4h2v4z\"/>\n",
              "    </g>\n",
              "</svg>\n",
              "      </button>\n",
              "\n",
              "<style>\n",
              "  .colab-df-quickchart {\n",
              "      --bg-color: #E8F0FE;\n",
              "      --fill-color: #1967D2;\n",
              "      --hover-bg-color: #E2EBFA;\n",
              "      --hover-fill-color: #174EA6;\n",
              "      --disabled-fill-color: #AAA;\n",
              "      --disabled-bg-color: #DDD;\n",
              "  }\n",
              "\n",
              "  [theme=dark] .colab-df-quickchart {\n",
              "      --bg-color: #3B4455;\n",
              "      --fill-color: #D2E3FC;\n",
              "      --hover-bg-color: #434B5C;\n",
              "      --hover-fill-color: #FFFFFF;\n",
              "      --disabled-bg-color: #3B4455;\n",
              "      --disabled-fill-color: #666;\n",
              "  }\n",
              "\n",
              "  .colab-df-quickchart {\n",
              "    background-color: var(--bg-color);\n",
              "    border: none;\n",
              "    border-radius: 50%;\n",
              "    cursor: pointer;\n",
              "    display: none;\n",
              "    fill: var(--fill-color);\n",
              "    height: 32px;\n",
              "    padding: 0;\n",
              "    width: 32px;\n",
              "  }\n",
              "\n",
              "  .colab-df-quickchart:hover {\n",
              "    background-color: var(--hover-bg-color);\n",
              "    box-shadow: 0 1px 2px rgba(60, 64, 67, 0.3), 0 1px 3px 1px rgba(60, 64, 67, 0.15);\n",
              "    fill: var(--button-hover-fill-color);\n",
              "  }\n",
              "\n",
              "  .colab-df-quickchart-complete:disabled,\n",
              "  .colab-df-quickchart-complete:disabled:hover {\n",
              "    background-color: var(--disabled-bg-color);\n",
              "    fill: var(--disabled-fill-color);\n",
              "    box-shadow: none;\n",
              "  }\n",
              "\n",
              "  .colab-df-spinner {\n",
              "    border: 2px solid var(--fill-color);\n",
              "    border-color: transparent;\n",
              "    border-bottom-color: var(--fill-color);\n",
              "    animation:\n",
              "      spin 1s steps(1) infinite;\n",
              "  }\n",
              "\n",
              "  @keyframes spin {\n",
              "    0% {\n",
              "      border-color: transparent;\n",
              "      border-bottom-color: var(--fill-color);\n",
              "      border-left-color: var(--fill-color);\n",
              "    }\n",
              "    20% {\n",
              "      border-color: transparent;\n",
              "      border-left-color: var(--fill-color);\n",
              "      border-top-color: var(--fill-color);\n",
              "    }\n",
              "    30% {\n",
              "      border-color: transparent;\n",
              "      border-left-color: var(--fill-color);\n",
              "      border-top-color: var(--fill-color);\n",
              "      border-right-color: var(--fill-color);\n",
              "    }\n",
              "    40% {\n",
              "      border-color: transparent;\n",
              "      border-right-color: var(--fill-color);\n",
              "      border-top-color: var(--fill-color);\n",
              "    }\n",
              "    60% {\n",
              "      border-color: transparent;\n",
              "      border-right-color: var(--fill-color);\n",
              "    }\n",
              "    80% {\n",
              "      border-color: transparent;\n",
              "      border-right-color: var(--fill-color);\n",
              "      border-bottom-color: var(--fill-color);\n",
              "    }\n",
              "    90% {\n",
              "      border-color: transparent;\n",
              "      border-bottom-color: var(--fill-color);\n",
              "    }\n",
              "  }\n",
              "</style>\n",
              "\n",
              "      <script>\n",
              "        async function quickchart(key) {\n",
              "          const quickchartButtonEl =\n",
              "            document.querySelector('#' + key + ' button');\n",
              "          quickchartButtonEl.disabled = true;  // To prevent multiple clicks.\n",
              "          quickchartButtonEl.classList.add('colab-df-spinner');\n",
              "          try {\n",
              "            const charts = await google.colab.kernel.invokeFunction(\n",
              "                'suggestCharts', [key], {});\n",
              "          } catch (error) {\n",
              "            console.error('Error during call to suggestCharts:', error);\n",
              "          }\n",
              "          quickchartButtonEl.classList.remove('colab-df-spinner');\n",
              "          quickchartButtonEl.classList.add('colab-df-quickchart-complete');\n",
              "        }\n",
              "        (() => {\n",
              "          let quickchartButtonEl =\n",
              "            document.querySelector('#df-6526f2f1-7116-4b73-b28f-50496e197ae9 button');\n",
              "          quickchartButtonEl.style.display =\n",
              "            google.colab.kernel.accessAllowed ? 'block' : 'none';\n",
              "        })();\n",
              "      </script>\n",
              "    </div>\n",
              "\n",
              "    </div>\n",
              "  </div>\n"
            ],
            "application/vnd.google.colaboratory.intrinsic+json": {
              "type": "dataframe",
              "variable_name": "grouped",
              "summary": "{\n  \"name\": \"grouped\",\n  \"rows\": 75,\n  \"fields\": [\n    {\n      \"column\": \"SDMVSTRA\",\n      \"properties\": {\n        \"dtype\": \"number\",\n        \"std\": 4.3495883620084,\n        \"min\": 134.0,\n        \"max\": 148.0,\n        \"num_unique_values\": 15,\n        \"samples\": [\n          143.0,\n          145.0,\n          134.0\n        ],\n        \"semantic_type\": \"\",\n        \"description\": \"\"\n      }\n    },\n    {\n      \"column\": \"age_bin\",\n      \"properties\": {\n        \"dtype\": \"category\",\n        \"num_unique_values\": 5,\n        \"samples\": [\n          \"31\\u201345\",\n          \"76+\",\n          \"46\\u201360\"\n        ],\n        \"semantic_type\": \"\",\n        \"description\": \"\"\n      }\n    },\n    {\n      \"column\": \"prevalence\",\n      \"properties\": {\n        \"dtype\": \"number\",\n        \"std\": 0.12790514558625776,\n        \"min\": 0.0,\n        \"max\": 0.41975308641975306,\n        \"num_unique_values\": 65,\n        \"samples\": [\n          0.010101010101010102,\n          0.189873417721519,\n          0.0\n        ],\n        \"semantic_type\": \"\",\n        \"description\": \"\"\n      }\n    },\n    {\n      \"column\": \"n\",\n      \"properties\": {\n        \"dtype\": \"number\",\n        \"std\": 22,\n        \"min\": 24,\n        \"max\": 118,\n        \"num_unique_values\": 49,\n        \"samples\": [\n          100,\n          68,\n          106\n        ],\n        \"semantic_type\": \"\",\n        \"description\": \"\"\n      }\n    },\n    {\n      \"column\": \"composite_burden\",\n      \"properties\": {\n        \"dtype\": \"number\",\n        \"std\": 1.0067340828210365,\n        \"min\": -1.3073989545468843,\n        \"max\": 1.9964535725049413,\n        \"num_unique_values\": 65,\n        \"samples\": [\n          -1.2278944819707707,\n          0.18708385273828632,\n          -1.3073989545468843\n        ],\n        \"semantic_type\": \"\",\n        \"description\": \"\"\n      }\n    }\n  ]\n}"
            }
          },
          "metadata": {},
          "execution_count": 16
        }
      ],
      "source": [
        "composite, weights = pca_composite(z_prev)\n",
        "grouped['composite_burden'] = composite\n",
        "\n",
        "print(\"PCA weights:\", weights)\n",
        "grouped.head()"
      ]
    },
    {
      "cell_type": "markdown",
      "metadata": {
        "id": "_q9ARcdxyPEv"
      },
      "source": [
        "### IV. Age-Standardized Prevalence Mapping"
      ]
    },
    {
      "cell_type": "markdown",
      "metadata": {
        "id": "lXpwwGl1yoCG"
      },
      "source": [
        "Step 1: Load nhanes_grouped.csv and nhanes_age_std.csv"
      ]
    },
    {
      "cell_type": "code",
      "execution_count": 17,
      "metadata": {
        "id": "EKwe9MFoyxcj"
      },
      "outputs": [],
      "source": [
        "import pandas as pd\n",
        "import plotly.express as px\n",
        "\n",
        "grouped = pd.read_csv('/content/drive/MyDrive/Spring2025/TH/256-project/output/nhanes_grouped.csv')\n",
        "age_std = pd.read_csv('/content/drive/MyDrive/Spring2025/TH/256-project/output/nhanes_age_std.csv')\n"
      ]
    },
    {
      "cell_type": "code",
      "execution_count": 18,
      "metadata": {
        "colab": {
          "base_uri": "https://localhost:8080/"
        },
        "id": "jt86Zg9qzDpO",
        "outputId": "dec99906-0a99-46d9-f107-9940311833bd"
      },
      "outputs": [
        {
          "output_type": "stream",
          "name": "stdout",
          "text": [
            "Unique region codes in grouped: [134. 135. 136. 137. 138. 139. 140. 141. 142. 143. 144. 145. 146. 147.\n",
            " 148.]\n",
            "Unique region codes in age_std: [134. 135. 136. 137. 138. 139. 140. 141. 142. 143. 144. 145. 146. 147.\n",
            " 148.]\n"
          ]
        }
      ],
      "source": [
        "print(\"Unique region codes in grouped:\", grouped['SDMVSTRA'].unique())\n",
        "print(\"Unique region codes in age_std:\", age_std['SDMVSTRA'].unique())\n"
      ]
    },
    {
      "cell_type": "markdown",
      "metadata": {
        "id": "V-mEigPCzVU5"
      },
      "source": [
        "Step 2: Apply mapping"
      ]
    },
    {
      "cell_type": "code",
      "execution_count": 19,
      "metadata": {
        "id": "IBdhdQNyzfoy"
      },
      "outputs": [],
      "source": [
        "strata_to_region = {\n",
        "    134: 'Northeast', 135: 'Northeast', 136: 'Northeast', 137: 'Northeast',\n",
        "    138: 'Midwest', 139: 'Midwest', 140: 'Midwest', 141: 'Midwest',\n",
        "    142: 'South', 143: 'South', 144: 'South', 145: 'South',\n",
        "    146: 'West', 147: 'West', 148: 'West', 149: 'West',\n",
        "    150: 'West'\n",
        "}\n",
        "# Map survey strata codes to state abbreviations\n",
        "\n",
        "age_std['SDMVSTRA'] = age_std['SDMVSTRA'].astype(int)\n",
        "age_std['region'] = age_std['SDMVSTRA'].map(strata_to_region)"
      ]
    },
    {
      "cell_type": "code",
      "execution_count": 20,
      "metadata": {
        "colab": {
          "base_uri": "https://localhost:8080/"
        },
        "id": "QgTPlgc72PVL",
        "outputId": "83c7cee0-ac0e-4bc4-8b93-7635d21cc05f"
      },
      "outputs": [
        {
          "output_type": "stream",
          "name": "stdout",
          "text": [
            "   SDMVSTRA  age_adj_prevalence\n",
            "0       134            0.099036\n",
            "1       135            0.128388\n",
            "2       136            0.136306\n",
            "3       137            0.131166\n",
            "4       138            0.136666\n",
            "5       139            0.139837\n",
            "6       140            0.100180\n",
            "7       141            0.122098\n",
            "8       142            0.121626\n",
            "9       143            0.147801\n"
          ]
        }
      ],
      "source": [
        "print(age_std[['SDMVSTRA','age_adj_prevalence']].head(10))\n"
      ]
    },
    {
      "cell_type": "code",
      "execution_count": 21,
      "metadata": {
        "colab": {
          "base_uri": "https://localhost:8080/"
        },
        "id": "uRaL57rC57Bu",
        "outputId": "84c9eef0-01d4-4a7f-8571-b4571f78a97d"
      },
      "outputs": [
        {
          "output_type": "stream",
          "name": "stdout",
          "text": [
            "      region  mean_age_std_prev\n",
            "0    Midwest           0.124695\n",
            "1  Northeast           0.123724\n",
            "2      South           0.117349\n",
            "3       West           0.143699\n"
          ]
        }
      ],
      "source": [
        "region_prev = (\n",
        "    age_std\n",
        "    .groupby('region')['age_adj_prevalence']\n",
        "    .mean()\n",
        "    .reset_index(name='mean_age_std_prev')\n",
        ")\n",
        "print(region_prev)\n"
      ]
    },
    {
      "cell_type": "markdown",
      "metadata": {
        "id": "F8vYBYzh1qX-"
      },
      "source": [
        "Step 5: Plotly choropleth of age-standardized prevalence and style adjustments"
      ]
    },
    {
      "cell_type": "code",
      "execution_count": 22,
      "metadata": {
        "colab": {
          "base_uri": "https://localhost:8080/",
          "height": 542
        },
        "id": "wsO0zyu4y6Kg",
        "outputId": "3e4c9e88-853f-48b6-f167-d99d93d62642"
      },
      "outputs": [
        {
          "output_type": "display_data",
          "data": {
            "text/html": [
              "<html>\n",
              "<head><meta charset=\"utf-8\" /></head>\n",
              "<body>\n",
              "    <div>            <script src=\"https://cdnjs.cloudflare.com/ajax/libs/mathjax/2.7.5/MathJax.js?config=TeX-AMS-MML_SVG\"></script><script type=\"text/javascript\">if (window.MathJax && window.MathJax.Hub && window.MathJax.Hub.Config) {window.MathJax.Hub.Config({SVG: {font: \"STIX-Web\"}});}</script>                <script type=\"text/javascript\">window.PlotlyConfig = {MathJaxConfig: 'local'};</script>\n",
              "        <script charset=\"utf-8\" src=\"https://cdn.plot.ly/plotly-2.35.2.min.js\"></script>                <div id=\"f0c0ee45-1a96-4947-ab34-0315e2de234d\" class=\"plotly-graph-div\" style=\"height:525px; width:100%;\"></div>            <script type=\"text/javascript\">                                    window.PLOTLYENV=window.PLOTLYENV || {};                                    if (document.getElementById(\"f0c0ee45-1a96-4947-ab34-0315e2de234d\")) {                    Plotly.newPlot(                        \"f0c0ee45-1a96-4947-ab34-0315e2de234d\",                        [{\"coloraxis\":\"coloraxis\",\"customdata\":[[\"Northeast\",0.12372408736707916],[\"Northeast\",0.12372408736707916],[\"Northeast\",0.12372408736707916],[\"Northeast\",0.12372408736707916],[\"Northeast\",0.12372408736707916],[\"Northeast\",0.12372408736707916],[\"Northeast\",0.12372408736707916],[\"Northeast\",0.12372408736707916],[\"Northeast\",0.12372408736707916],[\"Midwest\",0.12469506648688725],[\"Midwest\",0.12469506648688725],[\"Midwest\",0.12469506648688725],[\"Midwest\",0.12469506648688725],[\"Midwest\",0.12469506648688725],[\"Midwest\",0.12469506648688725],[\"Midwest\",0.12469506648688725],[\"Midwest\",0.12469506648688725],[\"Midwest\",0.12469506648688725],[\"Midwest\",0.12469506648688725],[\"Midwest\",0.12469506648688725],[\"Midwest\",0.12469506648688725],[\"South\",0.1173486966544459],[\"South\",0.1173486966544459],[\"South\",0.1173486966544459],[\"South\",0.1173486966544459],[\"South\",0.1173486966544459],[\"South\",0.1173486966544459],[\"South\",0.1173486966544459],[\"South\",0.1173486966544459],[\"South\",0.1173486966544459],[\"South\",0.1173486966544459],[\"South\",0.1173486966544459],[\"South\",0.1173486966544459],[\"South\",0.1173486966544459],[\"South\",0.1173486966544459],[\"South\",0.1173486966544459],[\"South\",0.1173486966544459],[\"South\",0.1173486966544459],[\"West\",0.1436994704941469],[\"West\",0.1436994704941469],[\"West\",0.1436994704941469],[\"West\",0.1436994704941469],[\"West\",0.1436994704941469],[\"West\",0.1436994704941469],[\"West\",0.1436994704941469],[\"West\",0.1436994704941469],[\"West\",0.1436994704941469],[\"West\",0.1436994704941469],[\"West\",0.1436994704941469],[\"West\",0.1436994704941469],[\"West\",0.1436994704941469]],\"geo\":\"geo\",\"hovertemplate\":\"state=%{location}\\u003cbr\\u003eregion=%{customdata[0]}\\u003cbr\\u003eAge-Std Prevalence=%{z}\\u003cextra\\u003e\\u003c\\u002fextra\\u003e\",\"locationmode\":\"USA-states\",\"locations\":[\"CT\",\"ME\",\"MA\",\"NH\",\"RI\",\"VT\",\"NJ\",\"NY\",\"PA\",\"IL\",\"IN\",\"MI\",\"OH\",\"WI\",\"IA\",\"KS\",\"MN\",\"MO\",\"NE\",\"ND\",\"SD\",\"DE\",\"FL\",\"GA\",\"MD\",\"NC\",\"SC\",\"VA\",\"DC\",\"WV\",\"AL\",\"KY\",\"MS\",\"TN\",\"AR\",\"LA\",\"OK\",\"TX\",\"AZ\",\"CO\",\"ID\",\"MT\",\"NV\",\"NM\",\"UT\",\"WY\",\"AK\",\"CA\",\"HI\",\"OR\",\"WA\"],\"name\":\"\",\"z\":[0.12372408736707916,0.12372408736707916,0.12372408736707916,0.12372408736707916,0.12372408736707916,0.12372408736707916,0.12372408736707916,0.12372408736707916,0.12372408736707916,0.12469506648688725,0.12469506648688725,0.12469506648688725,0.12469506648688725,0.12469506648688725,0.12469506648688725,0.12469506648688725,0.12469506648688725,0.12469506648688725,0.12469506648688725,0.12469506648688725,0.12469506648688725,0.1173486966544459,0.1173486966544459,0.1173486966544459,0.1173486966544459,0.1173486966544459,0.1173486966544459,0.1173486966544459,0.1173486966544459,0.1173486966544459,0.1173486966544459,0.1173486966544459,0.1173486966544459,0.1173486966544459,0.1173486966544459,0.1173486966544459,0.1173486966544459,0.1173486966544459,0.1436994704941469,0.1436994704941469,0.1436994704941469,0.1436994704941469,0.1436994704941469,0.1436994704941469,0.1436994704941469,0.1436994704941469,0.1436994704941469,0.1436994704941469,0.1436994704941469,0.1436994704941469,0.1436994704941469],\"type\":\"choropleth\"}],                        {\"template\":{\"data\":{\"histogram2dcontour\":[{\"type\":\"histogram2dcontour\",\"colorbar\":{\"outlinewidth\":0,\"ticks\":\"\"},\"colorscale\":[[0.0,\"#0d0887\"],[0.1111111111111111,\"#46039f\"],[0.2222222222222222,\"#7201a8\"],[0.3333333333333333,\"#9c179e\"],[0.4444444444444444,\"#bd3786\"],[0.5555555555555556,\"#d8576b\"],[0.6666666666666666,\"#ed7953\"],[0.7777777777777778,\"#fb9f3a\"],[0.8888888888888888,\"#fdca26\"],[1.0,\"#f0f921\"]]}],\"choropleth\":[{\"type\":\"choropleth\",\"colorbar\":{\"outlinewidth\":0,\"ticks\":\"\"}}],\"histogram2d\":[{\"type\":\"histogram2d\",\"colorbar\":{\"outlinewidth\":0,\"ticks\":\"\"},\"colorscale\":[[0.0,\"#0d0887\"],[0.1111111111111111,\"#46039f\"],[0.2222222222222222,\"#7201a8\"],[0.3333333333333333,\"#9c179e\"],[0.4444444444444444,\"#bd3786\"],[0.5555555555555556,\"#d8576b\"],[0.6666666666666666,\"#ed7953\"],[0.7777777777777778,\"#fb9f3a\"],[0.8888888888888888,\"#fdca26\"],[1.0,\"#f0f921\"]]}],\"heatmap\":[{\"type\":\"heatmap\",\"colorbar\":{\"outlinewidth\":0,\"ticks\":\"\"},\"colorscale\":[[0.0,\"#0d0887\"],[0.1111111111111111,\"#46039f\"],[0.2222222222222222,\"#7201a8\"],[0.3333333333333333,\"#9c179e\"],[0.4444444444444444,\"#bd3786\"],[0.5555555555555556,\"#d8576b\"],[0.6666666666666666,\"#ed7953\"],[0.7777777777777778,\"#fb9f3a\"],[0.8888888888888888,\"#fdca26\"],[1.0,\"#f0f921\"]]}],\"heatmapgl\":[{\"type\":\"heatmapgl\",\"colorbar\":{\"outlinewidth\":0,\"ticks\":\"\"},\"colorscale\":[[0.0,\"#0d0887\"],[0.1111111111111111,\"#46039f\"],[0.2222222222222222,\"#7201a8\"],[0.3333333333333333,\"#9c179e\"],[0.4444444444444444,\"#bd3786\"],[0.5555555555555556,\"#d8576b\"],[0.6666666666666666,\"#ed7953\"],[0.7777777777777778,\"#fb9f3a\"],[0.8888888888888888,\"#fdca26\"],[1.0,\"#f0f921\"]]}],\"contourcarpet\":[{\"type\":\"contourcarpet\",\"colorbar\":{\"outlinewidth\":0,\"ticks\":\"\"}}],\"contour\":[{\"type\":\"contour\",\"colorbar\":{\"outlinewidth\":0,\"ticks\":\"\"},\"colorscale\":[[0.0,\"#0d0887\"],[0.1111111111111111,\"#46039f\"],[0.2222222222222222,\"#7201a8\"],[0.3333333333333333,\"#9c179e\"],[0.4444444444444444,\"#bd3786\"],[0.5555555555555556,\"#d8576b\"],[0.6666666666666666,\"#ed7953\"],[0.7777777777777778,\"#fb9f3a\"],[0.8888888888888888,\"#fdca26\"],[1.0,\"#f0f921\"]]}],\"surface\":[{\"type\":\"surface\",\"colorbar\":{\"outlinewidth\":0,\"ticks\":\"\"},\"colorscale\":[[0.0,\"#0d0887\"],[0.1111111111111111,\"#46039f\"],[0.2222222222222222,\"#7201a8\"],[0.3333333333333333,\"#9c179e\"],[0.4444444444444444,\"#bd3786\"],[0.5555555555555556,\"#d8576b\"],[0.6666666666666666,\"#ed7953\"],[0.7777777777777778,\"#fb9f3a\"],[0.8888888888888888,\"#fdca26\"],[1.0,\"#f0f921\"]]}],\"mesh3d\":[{\"type\":\"mesh3d\",\"colorbar\":{\"outlinewidth\":0,\"ticks\":\"\"}}],\"scatter\":[{\"fillpattern\":{\"fillmode\":\"overlay\",\"size\":10,\"solidity\":0.2},\"type\":\"scatter\"}],\"parcoords\":[{\"type\":\"parcoords\",\"line\":{\"colorbar\":{\"outlinewidth\":0,\"ticks\":\"\"}}}],\"scatterpolargl\":[{\"type\":\"scatterpolargl\",\"marker\":{\"colorbar\":{\"outlinewidth\":0,\"ticks\":\"\"}}}],\"bar\":[{\"error_x\":{\"color\":\"#2a3f5f\"},\"error_y\":{\"color\":\"#2a3f5f\"},\"marker\":{\"line\":{\"color\":\"#E5ECF6\",\"width\":0.5},\"pattern\":{\"fillmode\":\"overlay\",\"size\":10,\"solidity\":0.2}},\"type\":\"bar\"}],\"scattergeo\":[{\"type\":\"scattergeo\",\"marker\":{\"colorbar\":{\"outlinewidth\":0,\"ticks\":\"\"}}}],\"scatterpolar\":[{\"type\":\"scatterpolar\",\"marker\":{\"colorbar\":{\"outlinewidth\":0,\"ticks\":\"\"}}}],\"histogram\":[{\"marker\":{\"pattern\":{\"fillmode\":\"overlay\",\"size\":10,\"solidity\":0.2}},\"type\":\"histogram\"}],\"scattergl\":[{\"type\":\"scattergl\",\"marker\":{\"colorbar\":{\"outlinewidth\":0,\"ticks\":\"\"}}}],\"scatter3d\":[{\"type\":\"scatter3d\",\"line\":{\"colorbar\":{\"outlinewidth\":0,\"ticks\":\"\"}},\"marker\":{\"colorbar\":{\"outlinewidth\":0,\"ticks\":\"\"}}}],\"scattermapbox\":[{\"type\":\"scattermapbox\",\"marker\":{\"colorbar\":{\"outlinewidth\":0,\"ticks\":\"\"}}}],\"scatterternary\":[{\"type\":\"scatterternary\",\"marker\":{\"colorbar\":{\"outlinewidth\":0,\"ticks\":\"\"}}}],\"scattercarpet\":[{\"type\":\"scattercarpet\",\"marker\":{\"colorbar\":{\"outlinewidth\":0,\"ticks\":\"\"}}}],\"carpet\":[{\"aaxis\":{\"endlinecolor\":\"#2a3f5f\",\"gridcolor\":\"white\",\"linecolor\":\"white\",\"minorgridcolor\":\"white\",\"startlinecolor\":\"#2a3f5f\"},\"baxis\":{\"endlinecolor\":\"#2a3f5f\",\"gridcolor\":\"white\",\"linecolor\":\"white\",\"minorgridcolor\":\"white\",\"startlinecolor\":\"#2a3f5f\"},\"type\":\"carpet\"}],\"table\":[{\"cells\":{\"fill\":{\"color\":\"#EBF0F8\"},\"line\":{\"color\":\"white\"}},\"header\":{\"fill\":{\"color\":\"#C8D4E3\"},\"line\":{\"color\":\"white\"}},\"type\":\"table\"}],\"barpolar\":[{\"marker\":{\"line\":{\"color\":\"#E5ECF6\",\"width\":0.5},\"pattern\":{\"fillmode\":\"overlay\",\"size\":10,\"solidity\":0.2}},\"type\":\"barpolar\"}],\"pie\":[{\"automargin\":true,\"type\":\"pie\"}]},\"layout\":{\"autotypenumbers\":\"strict\",\"colorway\":[\"#636efa\",\"#EF553B\",\"#00cc96\",\"#ab63fa\",\"#FFA15A\",\"#19d3f3\",\"#FF6692\",\"#B6E880\",\"#FF97FF\",\"#FECB52\"],\"font\":{\"color\":\"#2a3f5f\"},\"hovermode\":\"closest\",\"hoverlabel\":{\"align\":\"left\"},\"paper_bgcolor\":\"white\",\"plot_bgcolor\":\"#E5ECF6\",\"polar\":{\"bgcolor\":\"#E5ECF6\",\"angularaxis\":{\"gridcolor\":\"white\",\"linecolor\":\"white\",\"ticks\":\"\"},\"radialaxis\":{\"gridcolor\":\"white\",\"linecolor\":\"white\",\"ticks\":\"\"}},\"ternary\":{\"bgcolor\":\"#E5ECF6\",\"aaxis\":{\"gridcolor\":\"white\",\"linecolor\":\"white\",\"ticks\":\"\"},\"baxis\":{\"gridcolor\":\"white\",\"linecolor\":\"white\",\"ticks\":\"\"},\"caxis\":{\"gridcolor\":\"white\",\"linecolor\":\"white\",\"ticks\":\"\"}},\"coloraxis\":{\"colorbar\":{\"outlinewidth\":0,\"ticks\":\"\"}},\"colorscale\":{\"sequential\":[[0.0,\"#0d0887\"],[0.1111111111111111,\"#46039f\"],[0.2222222222222222,\"#7201a8\"],[0.3333333333333333,\"#9c179e\"],[0.4444444444444444,\"#bd3786\"],[0.5555555555555556,\"#d8576b\"],[0.6666666666666666,\"#ed7953\"],[0.7777777777777778,\"#fb9f3a\"],[0.8888888888888888,\"#fdca26\"],[1.0,\"#f0f921\"]],\"sequentialminus\":[[0.0,\"#0d0887\"],[0.1111111111111111,\"#46039f\"],[0.2222222222222222,\"#7201a8\"],[0.3333333333333333,\"#9c179e\"],[0.4444444444444444,\"#bd3786\"],[0.5555555555555556,\"#d8576b\"],[0.6666666666666666,\"#ed7953\"],[0.7777777777777778,\"#fb9f3a\"],[0.8888888888888888,\"#fdca26\"],[1.0,\"#f0f921\"]],\"diverging\":[[0,\"#8e0152\"],[0.1,\"#c51b7d\"],[0.2,\"#de77ae\"],[0.3,\"#f1b6da\"],[0.4,\"#fde0ef\"],[0.5,\"#f7f7f7\"],[0.6,\"#e6f5d0\"],[0.7,\"#b8e186\"],[0.8,\"#7fbc41\"],[0.9,\"#4d9221\"],[1,\"#276419\"]]},\"xaxis\":{\"gridcolor\":\"white\",\"linecolor\":\"white\",\"ticks\":\"\",\"title\":{\"standoff\":15},\"zerolinecolor\":\"white\",\"automargin\":true,\"zerolinewidth\":2},\"yaxis\":{\"gridcolor\":\"white\",\"linecolor\":\"white\",\"ticks\":\"\",\"title\":{\"standoff\":15},\"zerolinecolor\":\"white\",\"automargin\":true,\"zerolinewidth\":2},\"scene\":{\"xaxis\":{\"backgroundcolor\":\"#E5ECF6\",\"gridcolor\":\"white\",\"linecolor\":\"white\",\"showbackground\":true,\"ticks\":\"\",\"zerolinecolor\":\"white\",\"gridwidth\":2},\"yaxis\":{\"backgroundcolor\":\"#E5ECF6\",\"gridcolor\":\"white\",\"linecolor\":\"white\",\"showbackground\":true,\"ticks\":\"\",\"zerolinecolor\":\"white\",\"gridwidth\":2},\"zaxis\":{\"backgroundcolor\":\"#E5ECF6\",\"gridcolor\":\"white\",\"linecolor\":\"white\",\"showbackground\":true,\"ticks\":\"\",\"zerolinecolor\":\"white\",\"gridwidth\":2}},\"shapedefaults\":{\"line\":{\"color\":\"#2a3f5f\"}},\"annotationdefaults\":{\"arrowcolor\":\"#2a3f5f\",\"arrowhead\":0,\"arrowwidth\":1},\"geo\":{\"bgcolor\":\"white\",\"landcolor\":\"#E5ECF6\",\"subunitcolor\":\"white\",\"showland\":true,\"showlakes\":true,\"lakecolor\":\"white\"},\"title\":{\"x\":0.05},\"mapbox\":{\"style\":\"light\"}}},\"geo\":{\"domain\":{\"x\":[0.0,1.0],\"y\":[0.0,1.0]},\"center\":{},\"scope\":\"usa\",\"showlakes\":true,\"lakecolor\":\"lightblue\"},\"coloraxis\":{\"colorbar\":{\"title\":{\"text\":\"Prevalence\"}},\"colorscale\":[[0.0,\"#0d0887\"],[0.1111111111111111,\"#46039f\"],[0.2222222222222222,\"#7201a8\"],[0.3333333333333333,\"#9c179e\"],[0.4444444444444444,\"#bd3786\"],[0.5555555555555556,\"#d8576b\"],[0.6666666666666666,\"#ed7953\"],[0.7777777777777778,\"#fb9f3a\"],[0.8888888888888888,\"#fdca26\"],[1.0,\"#f0f921\"]]},\"legend\":{\"tracegroupgap\":0},\"title\":{\"text\":\"Age-Standardized Diabetes Prevalence by Region (NHANES 2017–2018)\"},\"margin\":{\"l\":0,\"r\":0,\"t\":50,\"b\":0}},                        {\"responsive\": true}                    ).then(function(){\n",
              "                            \n",
              "var gd = document.getElementById('f0c0ee45-1a96-4947-ab34-0315e2de234d');\n",
              "var x = new MutationObserver(function (mutations, observer) {{\n",
              "        var display = window.getComputedStyle(gd).display;\n",
              "        if (!display || display === 'none') {{\n",
              "            console.log([gd, 'removed!']);\n",
              "            Plotly.purge(gd);\n",
              "            observer.disconnect();\n",
              "        }}\n",
              "}});\n",
              "\n",
              "// Listen for the removal of the full notebook cells\n",
              "var notebookContainer = gd.closest('#notebook-container');\n",
              "if (notebookContainer) {{\n",
              "    x.observe(notebookContainer, {childList: true});\n",
              "}}\n",
              "\n",
              "// Listen for the clearing of the current output cell\n",
              "var outputEl = gd.closest('.output');\n",
              "if (outputEl) {{\n",
              "    x.observe(outputEl, {childList: true});\n",
              "}}\n",
              "\n",
              "                        })                };                            </script>        </div>\n",
              "</body>\n",
              "</html>"
            ]
          },
          "metadata": {}
        }
      ],
      "source": [
        "state_to_region = {\n",
        "    # Northeast\n",
        "    'CT':'Northeast','ME':'Northeast','MA':'Northeast','NH':'Northeast',\n",
        "    'RI':'Northeast','VT':'Northeast','NJ':'Northeast','NY':'Northeast',\n",
        "    'PA':'Northeast',\n",
        "    # Midwest\n",
        "    'IL':'Midwest','IN':'Midwest','MI':'Midwest','OH':'Midwest','WI':'Midwest',\n",
        "    'IA':'Midwest','KS':'Midwest','MN':'Midwest','MO':'Midwest','NE':'Midwest',\n",
        "    'ND':'Midwest','SD':'Midwest',\n",
        "    # South\n",
        "    'DE':'South','FL':'South','GA':'South','MD':'South','NC':'South','SC':'South',\n",
        "    'VA':'South','DC':'South','WV':'South','AL':'South','KY':'South','MS':'South',\n",
        "    'TN':'South','AR':'South','LA':'South','OK':'South','TX':'South',\n",
        "    # West\n",
        "    'AZ':'West','CO':'West','ID':'West','MT':'West','NV':'West','NM':'West',\n",
        "    'UT':'West','WY':'West','AK':'West','CA':'West','HI':'West','OR':'West',\n",
        "    'WA':'West'\n",
        "}\n",
        "\n",
        "# Step 1: Assign region to each state\n",
        "state_region_df = pd.DataFrame({'state': list(state_to_region.keys())})\n",
        "state_region_df['region'] = state_region_df['state'].map(state_to_region)\n",
        "\n",
        "# Step 2: Merge with region prevalence\n",
        "state_region_prev = state_region_df.merge(region_prev, on='region', how='left')\n",
        "\n",
        "# Step 3: Plot!\n",
        "fig = px.choropleth(\n",
        "    state_region_prev,\n",
        "    locations='state',\n",
        "    locationmode='USA-states',\n",
        "    color='mean_age_std_prev',\n",
        "    scope='usa',\n",
        "    hover_data=['region', 'mean_age_std_prev'],\n",
        "    labels={'mean_age_std_prev': 'Age-Std Prevalence'},\n",
        "    title='Age-Standardized Diabetes Prevalence by Region (NHANES 2017–2018)'\n",
        ")\n",
        "\n",
        "fig.update_layout(\n",
        "    geo=dict(showlakes=True, lakecolor='lightblue'),\n",
        "    margin=dict(l=0, r=0, t=50, b=0),\n",
        "    coloraxis_colorbar=dict(title=\"Prevalence\")\n",
        ")\n",
        "\n",
        "fig.show()"
      ]
    },
    {
      "cell_type": "markdown",
      "metadata": {
        "id": "AJKUH3wZ7pYA"
      },
      "source": [
        "## Phase 2: Modified Matching Algorithm"
      ]
    },
    {
      "cell_type": "code",
      "source": [
        "# # combined appraoch\n",
        "# import numpy as np\n",
        "# import pandas as pd\n",
        "# from sklearn.preprocessing import MinMaxScaler\n",
        "\n",
        "# # — Regions & burden from Phase 1 —\n",
        "# regions = region_prev['region'].tolist()\n",
        "# burden = region_prev.set_index('region')['mean_age_std_prev']\n",
        "\n",
        "# # 1. Simulate 2,000 physicians with attributes influencing rural affinity\n",
        "# np.random.seed(0)\n",
        "# n_physicians = 2000\n",
        "# physicians = pd.DataFrame({\n",
        "#     'physician_id': [f'doc_{i+1}' for i in range(n_physicians)],\n",
        "#     'upbringing_rural': np.random.binomial(1, 0.2, n_physicians),   # 20% rural-raised :contentReference[oaicite:0]{index=0}\n",
        "#     'rural_training':  np.random.binomial(1, 0.3, n_physicians),   # 30% rural rotations :contentReference[oaicite:1]{index=1}\n",
        "#     'family_ties':     np.random.binomial(1, 0.25, n_physicians),  # 25% rural family ties :contentReference[oaicite:2]{index=2}\n",
        "# })\n",
        "\n",
        "# # 2. Build base preference scores per region\n",
        "# rows = []\n",
        "# for _, doc in physicians.iterrows():\n",
        "#     for r in regions:\n",
        "#         is_rural_region = int(r in ['South', 'West'])\n",
        "#         noise = np.random.normal(scale=0.1)\n",
        "#         base_score = (\n",
        "#             0.4 * doc.upbringing_rural * is_rural_region +\n",
        "#             0.3 * doc.rural_training   * is_rural_region +\n",
        "#             0.2 * doc.family_ties +\n",
        "#             noise\n",
        "#         )\n",
        "#         rows.append({'physician_id': doc.physician_id, 'region': r, 'base_pref': base_score})\n",
        "# phys_pref = pd.DataFrame(rows)\n",
        "\n",
        "# # 3. Normalize base preferences\n",
        "# scaler = MinMaxScaler()\n",
        "# phys_pref['norm_pref'] = scaler.fit_transform(phys_pref[['base_pref']])\n",
        "# phys_pref.to_csv('/content/drive/MyDrive/Spring2025/TH/256-project/output/physician_pref.csv', index=False)\n",
        "\n",
        "# # 4. Incorporate HPSA-style priority: boost burden for underserved regions\n",
        "# #    Based on HRSA methodology: population-to-provider ratio, poverty, travel time :contentReference[oaicite:3]{index=3}\n",
        "# hpsa_regions = ['South', 'West']\n",
        "# region_prev['hpsa_priority'] = region_prev['region'].isin(hpsa_regions).astype(int)\n",
        "# region_prev['adj_burden'] = region_prev['mean_age_std_prev'] * (1 + 0.25 * region_prev['hpsa_priority'])\n",
        "\n",
        "# # 5. Normalize adjusted burden\n",
        "# burden_norm = scaler.fit_transform(region_prev[['adj_burden']]).flatten()\n",
        "# burden_df = pd.DataFrame({'region': regions, 'norm_burden': burden_norm})\n",
        "\n",
        "# # 6. Merge and compute final match score\n",
        "# match_df = phys_pref.merge(burden_df, on='region')\n",
        "# match_df['match_score'] = 0.4 * match_df['norm_pref'] + 0.6 * match_df['norm_burden']\n",
        "\n",
        "# # 7. Assign each physician to the top-scoring region\n",
        "# top_matches = (\n",
        "#     match_df\n",
        "#     .sort_values('match_score', ascending=False)\n",
        "#     .groupby('physician_id')\n",
        "#     .first()\n",
        "#     .reset_index()[['physician_id', 'region', 'match_score']]\n",
        "# )\n",
        "\n",
        "# print(top_matches.head())\n"
      ],
      "metadata": {
        "colab": {
          "base_uri": "https://localhost:8080/"
        },
        "id": "huZynCgO6Ab-",
        "outputId": "084e114e-ccf9-4218-b7b4-01974b59d7be"
      },
      "execution_count": 24,
      "outputs": [
        {
          "output_type": "stream",
          "name": "stdout",
          "text": [
            "  physician_id region  match_score\n",
            "0        doc_1   West     0.813124\n",
            "1       doc_10   West     0.759697\n",
            "2      doc_100   West     0.724644\n",
            "3     doc_1000   West     0.768973\n",
            "4     doc_1001   West     0.676928\n"
          ]
        }
      ]
    },
    {
      "cell_type": "code",
      "execution_count": null,
      "metadata": {
        "colab": {
          "base_uri": "https://localhost:8080/"
        },
        "id": "BCJM3Wr2MQ3z",
        "outputId": "afe87ec1-958b-4eac-9338-be40e916821e"
      },
      "outputs": [
        {
          "output_type": "stream",
          "name": "stdout",
          "text": [
            "  physician_id region  match_score\n",
            "0        doc_1   West     0.813124\n",
            "1       doc_10   West     0.759697\n",
            "2      doc_100   West     0.724644\n",
            "3     doc_1000   West     0.768973\n",
            "4     doc_1001   West     0.676928\n"
          ]
        }
      ],
      "source": [
        "# realistic approach\n",
        "# import numpy as np\n",
        "# import pandas as pd\n",
        "# from sklearn.preprocessing import MinMaxScaler\n",
        "\n",
        "# # Regions & burden from Phase 1\n",
        "# regions = region_prev['region'].tolist()\n",
        "# burden = region_prev.set_index('region')['mean_age_std_prev']\n",
        "\n",
        "# # 1. Simulate physician attributes\n",
        "# np.random.seed(0)\n",
        "# n = 2000\n",
        "# physicians = pd.DataFrame({\n",
        "#     'physician_id': [f'doc_{i+1}' for i in range(n)],\n",
        "#     'upbringing_rural': np.random.binomial(1, 0.2, n),   # 20% rural-raised\n",
        "#     'rural_training':  np.random.binomial(1, 0.3, n),   # 30% had rural rotations\n",
        "#     'family_ties':     np.random.binomial(1, 0.25, n),  # 25% have rural spouse/family\n",
        "# })\n",
        "\n",
        "# # 2. Build physician–region preference scores\n",
        "# rows = []\n",
        "# for _, doc in physicians.iterrows():\n",
        "#     for r in regions:\n",
        "#         is_rural_region = 1 if r in ['South','West'] else 0\n",
        "#         # weights\n",
        "#         w_u, w_t, w_s = 0.4, 0.3, 0.2\n",
        "#         noise = np.random.normal(scale=0.1)\n",
        "#         base_score = (\n",
        "#             w_u * doc.upbringing_rural * is_rural_region +\n",
        "#             w_t * doc.rural_training   * is_rural_region +\n",
        "#             w_s * doc.family_ties +\n",
        "#             noise\n",
        "#         )\n",
        "#         rows.append({\n",
        "#             'physician_id': doc.physician_id,\n",
        "#             'region': r,\n",
        "#             'base_pref': base_score\n",
        "#         })\n",
        "# phys_pref = pd.DataFrame(rows)\n",
        "\n",
        "# # 3. Normalize preferences & burden\n",
        "# scaler = MinMaxScaler()\n",
        "# phys_pref['norm_pref'] = scaler.fit_transform(phys_pref[['base_pref']])\n",
        "# burden_norm = scaler.fit_transform(burden.values.reshape(-1,1)).flatten()\n",
        "# burden_df = pd.DataFrame({'region': regions, 'norm_burden': burden_norm})\n",
        "\n",
        "# # 4. Merge & compute final match score\n",
        "# match_df = phys_pref.merge(burden_df, on='region')\n",
        "# match_df['match_score'] = 0.4*match_df['norm_pref'] + 0.6*match_df['norm_burden']\n",
        "\n",
        "# # 5. Assign each physician to top region\n",
        "# top_matches_realistic = (\n",
        "#     match_df.sort_values('match_score', ascending=False)\n",
        "#             .groupby('physician_id')\n",
        "#             .first()\n",
        "#             .reset_index()[['physician_id','region','match_score']]\n",
        "# )\n",
        "# print(top_matches_realistic.head())\n"
      ]
    },
    {
      "cell_type": "markdown",
      "source": [
        "#### Fine-tune parameters"
      ],
      "metadata": {
        "id": "KpnsNf3uvSUO"
      }
    },
    {
      "cell_type": "code",
      "source": [
        "n_physicians = 6000\n",
        "HPSA_WEIGHT = 4.752\n",
        "arpq_short_term_diabetes_PQI01_rate_2018 = 81.80\n",
        "physician_ids = [f'doc_{i+1}' for i in range(n_physicians)]\n",
        "regions = region_prev['region'].unique()"
      ],
      "metadata": {
        "id": "r8PdV6Z9vYxo"
      },
      "execution_count": 23,
      "outputs": []
    },
    {
      "cell_type": "markdown",
      "metadata": {
        "id": "GJ0gK68r8Rwf"
      },
      "source": [
        "### I. Simulate Physician Preference"
      ]
    },
    {
      "cell_type": "code",
      "execution_count": null,
      "metadata": {
        "id": "rszK22-i71gf"
      },
      "outputs": [],
      "source": [
        "import numpy as np\n",
        "import pandas as pd\n",
        "\n",
        "# Simulate physician preferences: each physician ranks regions (0 to 1 scale)\n",
        "np.random.seed(42)\n",
        "physician_prefs = pd.DataFrame({\n",
        "    'physician_id': np.repeat(physician_ids, len(regions)),\n",
        "    'region': np.tile(regions, n_physicians),\n",
        "    'base_pref': np.random.rand(n_physicians * len(regions))\n",
        "})\n",
        "physician_prefs.to_csv('/content/drive/MyDrive/Spring2025/TH/256-project/output/physician_pref.csv', index=False)\n"
      ]
    },
    {
      "cell_type": "code",
      "execution_count": null,
      "metadata": {
        "id": "FENcW2jC8XxD"
      },
      "outputs": [],
      "source": [
        "# Merge physician preferences with regional disease burden\n",
        "match_df = physician_prefs.merge(region_prev, on='region', how='left')\n",
        "\n",
        "# Normalize both components for scoring\n",
        "from sklearn.preprocessing import MinMaxScaler\n",
        "\n",
        "scaler = MinMaxScaler()\n",
        "match_df[['norm_pref', 'norm_burden']] = scaler.fit_transform(\n",
        "    match_df[['base_pref', 'mean_age_std_prev']]\n",
        ")\n",
        "\n",
        "# Compute composite match score\n",
        "match_df['match_score'] = 0.4 * match_df['norm_pref'] + 0.6 * match_df['norm_burden']"
      ]
    },
    {
      "cell_type": "markdown",
      "metadata": {
        "id": "UkDYxhlaByDd"
      },
      "source": [
        "### II. Create Algorithm"
      ]
    },
    {
      "cell_type": "code",
      "execution_count": null,
      "metadata": {
        "colab": {
          "base_uri": "https://localhost:8080/"
        },
        "id": "EQFHbh1N8dHa",
        "outputId": "699a6d69-faa7-4b5d-9c3f-32f1cd919ff7"
      },
      "outputs": [
        {
          "output_type": "stream",
          "name": "stdout",
          "text": [
            "  physician_id region  match_score\n",
            "0        doc_1   West     0.839480\n",
            "1       doc_10   West     0.776072\n",
            "2      doc_100   West     0.901839\n",
            "3     doc_1000   West     0.664548\n",
            "4     doc_1001   West     0.661561\n"
          ]
        }
      ],
      "source": [
        "# Get top region for each physician\n",
        "top_matches = (\n",
        "    match_df.sort_values(by='match_score', ascending=False)\n",
        "            .groupby('physician_id')\n",
        "            .first()\n",
        "            .reset_index()\n",
        ")\n",
        "\n",
        "# Output the physician-region matches\n",
        "print(top_matches[['physician_id', 'region', 'match_score']].head())\n"
      ]
    },
    {
      "cell_type": "markdown",
      "metadata": {
        "id": "UA8bWPckB6C9"
      },
      "source": [
        "### III. Add HPSA-Like Weights"
      ]
    },
    {
      "cell_type": "code",
      "execution_count": null,
      "metadata": {
        "id": "p9L1BnUJ8gLx"
      },
      "outputs": [],
      "source": [
        "# Simulate HPSA-style binary underserved tag (could be replaced with real data)\n",
        "hpsa_regions = ['South', 'West']  # Example underserved regions\n",
        "region_prev['hpsa_priority'] = region_prev['region'].isin(hpsa_regions).astype(int)\n",
        "\n",
        "# Boost disease burden for underserved areas\n",
        "region_prev['adjusted_burden'] = (\n",
        "    region_prev['mean_age_std_prev'] * (1 + HPSA_WEIGHT * region_prev['hpsa_priority'])\n",
        ")\n",
        "region_prev.to_csv('/content/drive/MyDrive/Spring2025/TH/256-project/output/region_prev.csv', index=False)\n",
        "\n",
        "# Recompute normalized and composite score with adjustment\n",
        "match_df = match_df.drop(columns=['norm_burden', 'match_score'])\n",
        "match_df = match_df.merge(region_prev[['region', 'adjusted_burden']], on='region', how='left')\n",
        "\n",
        "match_df[['norm_pref', 'norm_burden']] = scaler.fit_transform(\n",
        "    match_df[['preference', 'adjusted_burden']]\n",
        ")\n",
        "match_df['match_score'] = 0.4 * match_df['norm_pref'] + 0.6 * match_df['norm_burden']\n"
      ]
    },
    {
      "cell_type": "markdown",
      "metadata": {
        "id": "1ALVNr29CEMd"
      },
      "source": [
        "### IV. Rematch With An Adjusted Score"
      ]
    },
    {
      "cell_type": "code",
      "execution_count": null,
      "metadata": {
        "colab": {
          "base_uri": "https://localhost:8080/"
        },
        "id": "WoAuKugN8iL5",
        "outputId": "0acdd29e-2a60-4274-8315-f53a01f86999"
      },
      "outputs": [
        {
          "output_type": "stream",
          "name": "stdout",
          "text": [
            "  physician_id region  match_score\n",
            "0        doc_1   West     0.839480\n",
            "1       doc_10   West     0.776072\n",
            "2      doc_100   West     0.901839\n",
            "3     doc_1000  South     0.682597\n",
            "4     doc_1001  South     0.774693\n"
          ]
        }
      ],
      "source": [
        "# Assign physicians again using adjusted scores\n",
        "top_matches_adjusted = (\n",
        "    match_df.sort_values(by='match_score', ascending=False)\n",
        "            .groupby('physician_id')\n",
        "            .first()\n",
        "            .reset_index()\n",
        ")\n",
        "top_matches_adjusted.to_csv('/content/drive/MyDrive/Spring2025/TH/256-project/output/top_matches_adjusted.csv', index=False)\n",
        "\n",
        "print(top_matches_adjusted[['physician_id', 'region', 'match_score']].head())\n"
      ]
    },
    {
      "cell_type": "code",
      "execution_count": null,
      "metadata": {
        "colab": {
          "base_uri": "https://localhost:8080/"
        },
        "id": "Mju_B7U186JD",
        "outputId": "262fe6d1-33fa-4216-eed1-776be0649e83"
      },
      "outputs": [
        {
          "output_type": "stream",
          "name": "stdout",
          "text": [
            "changed\n",
            "False    4612\n",
            "True     1388\n",
            "Name: count, dtype: int64\n"
          ]
        }
      ],
      "source": [
        "# Compare top region matches before and after adjustment\n",
        "comparison = top_matches[['physician_id', 'region']].merge(\n",
        "    top_matches_adjusted[['physician_id', 'region']],\n",
        "    on='physician_id',\n",
        "    suffixes=('_before', '_after')\n",
        ")\n",
        "\n",
        "# See which changed\n",
        "comparison['changed'] = comparison['region_before'] != comparison['region_after']\n",
        "print(comparison['changed'].value_counts())\n"
      ]
    },
    {
      "cell_type": "markdown",
      "metadata": {
        "id": "zdYHwtlFCVan"
      },
      "source": [
        "## Phase 3: Policy Simulation"
      ]
    },
    {
      "cell_type": "code",
      "source": [
        "import pandas as pd\n",
        "import numpy as np\n",
        "\n",
        "# Load top_matches from Phase 2\n",
        "top_matches = pd.read_csv('/content/drive/MyDrive/Spring2025/TH/256-project/output/top_matches_adjusted.csv')\n",
        "\n",
        "# Count physicians per region\n",
        "physician_counts = top_matches['region'].value_counts().reset_index()\n",
        "physician_counts.columns = ['region', 'physician_count']\n",
        "\n",
        "# Merge with regional burden data\n",
        "region_prev = pd.read_csv('/content/drive/MyDrive/Spring2025/TH/256-project/output/region_prev.csv')\n",
        "region_data = pd.merge(region_prev, physician_counts, on='region', how='left').fillna(0)\n",
        "\n",
        "# Assume baseline hospitalizations per region (e.g., from historical data)\n",
        "# For demonstration, we'll use a placeholder value\n",
        "region_data['baseline_hospitalizations'] = 1000  # Replace with actual data\n",
        "\n",
        "# Calculate expected hospitalizations after reallocation\n",
        "# Assume a 1% reduction in hospitalizations per additional physician\n",
        "region_data['expected_hospitalizations'] = region_data['baseline_hospitalizations'] * (1 - 0.01 * region_data['physician_count'])\n",
        "\n",
        "# Calculate avoidable hospitalizations\n",
        "region_data['avoidable_hospitalizations'] = region_data['baseline_hospitalizations'] - region_data['expected_hospitalizations']\n",
        "\n",
        "# Save results\n",
        "region_data.to_csv('/content/drive/MyDrive/Spring2025/TH/256-project/output/avoidable_hospitalizations.csv', index=False)\n"
      ],
      "metadata": {
        "id": "3uxPneGr_KDK"
      },
      "execution_count": 26,
      "outputs": []
    },
    {
      "cell_type": "code",
      "source": [
        "# Random Matching\n",
        "random_matches = top_matches.copy()\n",
        "random_matches['region'] = np.random.choice(region_prev['region'], size=len(top_matches))\n",
        "\n",
        "# Preference-Only Matching\n",
        "# Assuming 'phys_pref' DataFrame contains physician preferences\n",
        "phys_pref = pd.read_csv('/content/drive/MyDrive/Spring2025/TH/256-project/output/physician_pref.csv')\n",
        "preference_only_matches = phys_pref.loc[phys_pref.groupby('physician_id')['norm_pref'].idxmax()][['physician_id', 'region']]\n",
        "\n",
        "# Function to calculate avoidable hospitalizations for a given matching\n",
        "def calculate_avoidable_hospitalizations(matches, method_name):\n",
        "    physician_counts = matches['region'].value_counts().reset_index()\n",
        "    physician_counts.columns = ['region', 'physician_count']\n",
        "    data = pd.merge(region_prev, physician_counts, on='region', how='left').fillna(0)\n",
        "    data['baseline_hospitalizations'] = 1000  # Replace with actual data\n",
        "    data['expected_hospitalizations'] = data['baseline_hospitalizations'] * (1 - 0.01 * data['physician_count'])\n",
        "    data['avoidable_hospitalizations'] = data['baseline_hospitalizations'] - data['expected_hospitalizations']\n",
        "    data['method'] = method_name\n",
        "    return data[['region', 'avoidable_hospitalizations', 'method']]\n",
        "\n",
        "# Calculate for each method\n",
        "proposed_data = calculate_avoidable_hospitalizations(top_matches, 'Proposed')\n",
        "random_data = calculate_avoidable_hospitalizations(random_matches, 'Random')\n",
        "preference_data = calculate_avoidable_hospitalizations(preference_only_matches, 'Preference-Only')\n",
        "\n",
        "# Combine results\n",
        "comparison_data = pd.concat([proposed_data, random_data, preference_data])\n",
        "comparison_data.to_csv('/content/drive/MyDrive/Spring2025/TH/256-project/output/comparison_data.csv', index=False)\n"
      ],
      "metadata": {
        "id": "ezv8chZUAwzP"
      },
      "execution_count": 27,
      "outputs": []
    },
    {
      "cell_type": "code",
      "source": [
        "import plotly.express as px\n",
        "\n",
        "# Load comparison data\n",
        "comparison_data = pd.read_csv('/content/drive/MyDrive/Spring2025/TH/256-project/output/comparison_data.csv')\n",
        "\n",
        "# Bar chart comparison\n",
        "fig = px.bar(comparison_data, x='region', y='avoidable_hospitalizations', color='method',\n",
        "             title='Avoidable Hospitalizations by Region and Matching Method',\n",
        "             labels={'avoidable_hospitalizations': 'Avoidable Hospitalizations', 'region': 'Region'})\n",
        "fig.show()\n"
      ],
      "metadata": {
        "colab": {
          "base_uri": "https://localhost:8080/",
          "height": 542
        },
        "id": "xUtNndaoAz_2",
        "outputId": "ef9ef531-d552-4ee0-bcd3-cc5d83d1bf58"
      },
      "execution_count": 28,
      "outputs": [
        {
          "output_type": "display_data",
          "data": {
            "text/html": [
              "<html>\n",
              "<head><meta charset=\"utf-8\" /></head>\n",
              "<body>\n",
              "    <div>            <script src=\"https://cdnjs.cloudflare.com/ajax/libs/mathjax/2.7.5/MathJax.js?config=TeX-AMS-MML_SVG\"></script><script type=\"text/javascript\">if (window.MathJax && window.MathJax.Hub && window.MathJax.Hub.Config) {window.MathJax.Hub.Config({SVG: {font: \"STIX-Web\"}});}</script>                <script type=\"text/javascript\">window.PlotlyConfig = {MathJaxConfig: 'local'};</script>\n",
              "        <script charset=\"utf-8\" src=\"https://cdn.plot.ly/plotly-2.35.2.min.js\"></script>                <div id=\"855f5fdc-7028-4d6a-8fcb-f69af757ccc2\" class=\"plotly-graph-div\" style=\"height:525px; width:100%;\"></div>            <script type=\"text/javascript\">                                    window.PLOTLYENV=window.PLOTLYENV || {};                                    if (document.getElementById(\"855f5fdc-7028-4d6a-8fcb-f69af757ccc2\")) {                    Plotly.newPlot(                        \"855f5fdc-7028-4d6a-8fcb-f69af757ccc2\",                        [{\"alignmentgroup\":\"True\",\"hovertemplate\":\"method=Proposed\\u003cbr\\u003eRegion=%{x}\\u003cbr\\u003eAvoidable Hospitalizations=%{y}\\u003cextra\\u003e\\u003c\\u002fextra\\u003e\",\"legendgroup\":\"Proposed\",\"marker\":{\"color\":\"#636efa\",\"pattern\":{\"shape\":\"\"}},\"name\":\"Proposed\",\"offsetgroup\":\"Proposed\",\"orientation\":\"v\",\"showlegend\":true,\"textposition\":\"auto\",\"x\":[\"Midwest\",\"Northeast\",\"South\",\"West\"],\"xaxis\":\"x\",\"y\":[0.0,0.0,13880.0,46120.0],\"yaxis\":\"y\",\"type\":\"bar\"},{\"alignmentgroup\":\"True\",\"hovertemplate\":\"method=Random\\u003cbr\\u003eRegion=%{x}\\u003cbr\\u003eAvoidable Hospitalizations=%{y}\\u003cextra\\u003e\\u003c\\u002fextra\\u003e\",\"legendgroup\":\"Random\",\"marker\":{\"color\":\"#EF553B\",\"pattern\":{\"shape\":\"\"}},\"name\":\"Random\",\"offsetgroup\":\"Random\",\"orientation\":\"v\",\"showlegend\":true,\"textposition\":\"auto\",\"x\":[\"Midwest\",\"Northeast\",\"South\",\"West\"],\"xaxis\":\"x\",\"y\":[14980.0,15360.0,15070.0,14590.0],\"yaxis\":\"y\",\"type\":\"bar\"},{\"alignmentgroup\":\"True\",\"hovertemplate\":\"method=Preference-Only\\u003cbr\\u003eRegion=%{x}\\u003cbr\\u003eAvoidable Hospitalizations=%{y}\\u003cextra\\u003e\\u003c\\u002fextra\\u003e\",\"legendgroup\":\"Preference-Only\",\"marker\":{\"color\":\"#00cc96\",\"pattern\":{\"shape\":\"\"}},\"name\":\"Preference-Only\",\"offsetgroup\":\"Preference-Only\",\"orientation\":\"v\",\"showlegend\":true,\"textposition\":\"auto\",\"x\":[\"Midwest\",\"Northeast\",\"South\",\"West\"],\"xaxis\":\"x\",\"y\":[3000.0,2630.0,7060.000000000001,7310.000000000001],\"yaxis\":\"y\",\"type\":\"bar\"}],                        {\"template\":{\"data\":{\"histogram2dcontour\":[{\"type\":\"histogram2dcontour\",\"colorbar\":{\"outlinewidth\":0,\"ticks\":\"\"},\"colorscale\":[[0.0,\"#0d0887\"],[0.1111111111111111,\"#46039f\"],[0.2222222222222222,\"#7201a8\"],[0.3333333333333333,\"#9c179e\"],[0.4444444444444444,\"#bd3786\"],[0.5555555555555556,\"#d8576b\"],[0.6666666666666666,\"#ed7953\"],[0.7777777777777778,\"#fb9f3a\"],[0.8888888888888888,\"#fdca26\"],[1.0,\"#f0f921\"]]}],\"choropleth\":[{\"type\":\"choropleth\",\"colorbar\":{\"outlinewidth\":0,\"ticks\":\"\"}}],\"histogram2d\":[{\"type\":\"histogram2d\",\"colorbar\":{\"outlinewidth\":0,\"ticks\":\"\"},\"colorscale\":[[0.0,\"#0d0887\"],[0.1111111111111111,\"#46039f\"],[0.2222222222222222,\"#7201a8\"],[0.3333333333333333,\"#9c179e\"],[0.4444444444444444,\"#bd3786\"],[0.5555555555555556,\"#d8576b\"],[0.6666666666666666,\"#ed7953\"],[0.7777777777777778,\"#fb9f3a\"],[0.8888888888888888,\"#fdca26\"],[1.0,\"#f0f921\"]]}],\"heatmap\":[{\"type\":\"heatmap\",\"colorbar\":{\"outlinewidth\":0,\"ticks\":\"\"},\"colorscale\":[[0.0,\"#0d0887\"],[0.1111111111111111,\"#46039f\"],[0.2222222222222222,\"#7201a8\"],[0.3333333333333333,\"#9c179e\"],[0.4444444444444444,\"#bd3786\"],[0.5555555555555556,\"#d8576b\"],[0.6666666666666666,\"#ed7953\"],[0.7777777777777778,\"#fb9f3a\"],[0.8888888888888888,\"#fdca26\"],[1.0,\"#f0f921\"]]}],\"heatmapgl\":[{\"type\":\"heatmapgl\",\"colorbar\":{\"outlinewidth\":0,\"ticks\":\"\"},\"colorscale\":[[0.0,\"#0d0887\"],[0.1111111111111111,\"#46039f\"],[0.2222222222222222,\"#7201a8\"],[0.3333333333333333,\"#9c179e\"],[0.4444444444444444,\"#bd3786\"],[0.5555555555555556,\"#d8576b\"],[0.6666666666666666,\"#ed7953\"],[0.7777777777777778,\"#fb9f3a\"],[0.8888888888888888,\"#fdca26\"],[1.0,\"#f0f921\"]]}],\"contourcarpet\":[{\"type\":\"contourcarpet\",\"colorbar\":{\"outlinewidth\":0,\"ticks\":\"\"}}],\"contour\":[{\"type\":\"contour\",\"colorbar\":{\"outlinewidth\":0,\"ticks\":\"\"},\"colorscale\":[[0.0,\"#0d0887\"],[0.1111111111111111,\"#46039f\"],[0.2222222222222222,\"#7201a8\"],[0.3333333333333333,\"#9c179e\"],[0.4444444444444444,\"#bd3786\"],[0.5555555555555556,\"#d8576b\"],[0.6666666666666666,\"#ed7953\"],[0.7777777777777778,\"#fb9f3a\"],[0.8888888888888888,\"#fdca26\"],[1.0,\"#f0f921\"]]}],\"surface\":[{\"type\":\"surface\",\"colorbar\":{\"outlinewidth\":0,\"ticks\":\"\"},\"colorscale\":[[0.0,\"#0d0887\"],[0.1111111111111111,\"#46039f\"],[0.2222222222222222,\"#7201a8\"],[0.3333333333333333,\"#9c179e\"],[0.4444444444444444,\"#bd3786\"],[0.5555555555555556,\"#d8576b\"],[0.6666666666666666,\"#ed7953\"],[0.7777777777777778,\"#fb9f3a\"],[0.8888888888888888,\"#fdca26\"],[1.0,\"#f0f921\"]]}],\"mesh3d\":[{\"type\":\"mesh3d\",\"colorbar\":{\"outlinewidth\":0,\"ticks\":\"\"}}],\"scatter\":[{\"fillpattern\":{\"fillmode\":\"overlay\",\"size\":10,\"solidity\":0.2},\"type\":\"scatter\"}],\"parcoords\":[{\"type\":\"parcoords\",\"line\":{\"colorbar\":{\"outlinewidth\":0,\"ticks\":\"\"}}}],\"scatterpolargl\":[{\"type\":\"scatterpolargl\",\"marker\":{\"colorbar\":{\"outlinewidth\":0,\"ticks\":\"\"}}}],\"bar\":[{\"error_x\":{\"color\":\"#2a3f5f\"},\"error_y\":{\"color\":\"#2a3f5f\"},\"marker\":{\"line\":{\"color\":\"#E5ECF6\",\"width\":0.5},\"pattern\":{\"fillmode\":\"overlay\",\"size\":10,\"solidity\":0.2}},\"type\":\"bar\"}],\"scattergeo\":[{\"type\":\"scattergeo\",\"marker\":{\"colorbar\":{\"outlinewidth\":0,\"ticks\":\"\"}}}],\"scatterpolar\":[{\"type\":\"scatterpolar\",\"marker\":{\"colorbar\":{\"outlinewidth\":0,\"ticks\":\"\"}}}],\"histogram\":[{\"marker\":{\"pattern\":{\"fillmode\":\"overlay\",\"size\":10,\"solidity\":0.2}},\"type\":\"histogram\"}],\"scattergl\":[{\"type\":\"scattergl\",\"marker\":{\"colorbar\":{\"outlinewidth\":0,\"ticks\":\"\"}}}],\"scatter3d\":[{\"type\":\"scatter3d\",\"line\":{\"colorbar\":{\"outlinewidth\":0,\"ticks\":\"\"}},\"marker\":{\"colorbar\":{\"outlinewidth\":0,\"ticks\":\"\"}}}],\"scattermapbox\":[{\"type\":\"scattermapbox\",\"marker\":{\"colorbar\":{\"outlinewidth\":0,\"ticks\":\"\"}}}],\"scatterternary\":[{\"type\":\"scatterternary\",\"marker\":{\"colorbar\":{\"outlinewidth\":0,\"ticks\":\"\"}}}],\"scattercarpet\":[{\"type\":\"scattercarpet\",\"marker\":{\"colorbar\":{\"outlinewidth\":0,\"ticks\":\"\"}}}],\"carpet\":[{\"aaxis\":{\"endlinecolor\":\"#2a3f5f\",\"gridcolor\":\"white\",\"linecolor\":\"white\",\"minorgridcolor\":\"white\",\"startlinecolor\":\"#2a3f5f\"},\"baxis\":{\"endlinecolor\":\"#2a3f5f\",\"gridcolor\":\"white\",\"linecolor\":\"white\",\"minorgridcolor\":\"white\",\"startlinecolor\":\"#2a3f5f\"},\"type\":\"carpet\"}],\"table\":[{\"cells\":{\"fill\":{\"color\":\"#EBF0F8\"},\"line\":{\"color\":\"white\"}},\"header\":{\"fill\":{\"color\":\"#C8D4E3\"},\"line\":{\"color\":\"white\"}},\"type\":\"table\"}],\"barpolar\":[{\"marker\":{\"line\":{\"color\":\"#E5ECF6\",\"width\":0.5},\"pattern\":{\"fillmode\":\"overlay\",\"size\":10,\"solidity\":0.2}},\"type\":\"barpolar\"}],\"pie\":[{\"automargin\":true,\"type\":\"pie\"}]},\"layout\":{\"autotypenumbers\":\"strict\",\"colorway\":[\"#636efa\",\"#EF553B\",\"#00cc96\",\"#ab63fa\",\"#FFA15A\",\"#19d3f3\",\"#FF6692\",\"#B6E880\",\"#FF97FF\",\"#FECB52\"],\"font\":{\"color\":\"#2a3f5f\"},\"hovermode\":\"closest\",\"hoverlabel\":{\"align\":\"left\"},\"paper_bgcolor\":\"white\",\"plot_bgcolor\":\"#E5ECF6\",\"polar\":{\"bgcolor\":\"#E5ECF6\",\"angularaxis\":{\"gridcolor\":\"white\",\"linecolor\":\"white\",\"ticks\":\"\"},\"radialaxis\":{\"gridcolor\":\"white\",\"linecolor\":\"white\",\"ticks\":\"\"}},\"ternary\":{\"bgcolor\":\"#E5ECF6\",\"aaxis\":{\"gridcolor\":\"white\",\"linecolor\":\"white\",\"ticks\":\"\"},\"baxis\":{\"gridcolor\":\"white\",\"linecolor\":\"white\",\"ticks\":\"\"},\"caxis\":{\"gridcolor\":\"white\",\"linecolor\":\"white\",\"ticks\":\"\"}},\"coloraxis\":{\"colorbar\":{\"outlinewidth\":0,\"ticks\":\"\"}},\"colorscale\":{\"sequential\":[[0.0,\"#0d0887\"],[0.1111111111111111,\"#46039f\"],[0.2222222222222222,\"#7201a8\"],[0.3333333333333333,\"#9c179e\"],[0.4444444444444444,\"#bd3786\"],[0.5555555555555556,\"#d8576b\"],[0.6666666666666666,\"#ed7953\"],[0.7777777777777778,\"#fb9f3a\"],[0.8888888888888888,\"#fdca26\"],[1.0,\"#f0f921\"]],\"sequentialminus\":[[0.0,\"#0d0887\"],[0.1111111111111111,\"#46039f\"],[0.2222222222222222,\"#7201a8\"],[0.3333333333333333,\"#9c179e\"],[0.4444444444444444,\"#bd3786\"],[0.5555555555555556,\"#d8576b\"],[0.6666666666666666,\"#ed7953\"],[0.7777777777777778,\"#fb9f3a\"],[0.8888888888888888,\"#fdca26\"],[1.0,\"#f0f921\"]],\"diverging\":[[0,\"#8e0152\"],[0.1,\"#c51b7d\"],[0.2,\"#de77ae\"],[0.3,\"#f1b6da\"],[0.4,\"#fde0ef\"],[0.5,\"#f7f7f7\"],[0.6,\"#e6f5d0\"],[0.7,\"#b8e186\"],[0.8,\"#7fbc41\"],[0.9,\"#4d9221\"],[1,\"#276419\"]]},\"xaxis\":{\"gridcolor\":\"white\",\"linecolor\":\"white\",\"ticks\":\"\",\"title\":{\"standoff\":15},\"zerolinecolor\":\"white\",\"automargin\":true,\"zerolinewidth\":2},\"yaxis\":{\"gridcolor\":\"white\",\"linecolor\":\"white\",\"ticks\":\"\",\"title\":{\"standoff\":15},\"zerolinecolor\":\"white\",\"automargin\":true,\"zerolinewidth\":2},\"scene\":{\"xaxis\":{\"backgroundcolor\":\"#E5ECF6\",\"gridcolor\":\"white\",\"linecolor\":\"white\",\"showbackground\":true,\"ticks\":\"\",\"zerolinecolor\":\"white\",\"gridwidth\":2},\"yaxis\":{\"backgroundcolor\":\"#E5ECF6\",\"gridcolor\":\"white\",\"linecolor\":\"white\",\"showbackground\":true,\"ticks\":\"\",\"zerolinecolor\":\"white\",\"gridwidth\":2},\"zaxis\":{\"backgroundcolor\":\"#E5ECF6\",\"gridcolor\":\"white\",\"linecolor\":\"white\",\"showbackground\":true,\"ticks\":\"\",\"zerolinecolor\":\"white\",\"gridwidth\":2}},\"shapedefaults\":{\"line\":{\"color\":\"#2a3f5f\"}},\"annotationdefaults\":{\"arrowcolor\":\"#2a3f5f\",\"arrowhead\":0,\"arrowwidth\":1},\"geo\":{\"bgcolor\":\"white\",\"landcolor\":\"#E5ECF6\",\"subunitcolor\":\"white\",\"showland\":true,\"showlakes\":true,\"lakecolor\":\"white\"},\"title\":{\"x\":0.05},\"mapbox\":{\"style\":\"light\"}}},\"xaxis\":{\"anchor\":\"y\",\"domain\":[0.0,1.0],\"title\":{\"text\":\"Region\"}},\"yaxis\":{\"anchor\":\"x\",\"domain\":[0.0,1.0],\"title\":{\"text\":\"Avoidable Hospitalizations\"}},\"legend\":{\"title\":{\"text\":\"method\"},\"tracegroupgap\":0},\"title\":{\"text\":\"Avoidable Hospitalizations by Region and Matching Method\"},\"barmode\":\"relative\"},                        {\"responsive\": true}                    ).then(function(){\n",
              "                            \n",
              "var gd = document.getElementById('855f5fdc-7028-4d6a-8fcb-f69af757ccc2');\n",
              "var x = new MutationObserver(function (mutations, observer) {{\n",
              "        var display = window.getComputedStyle(gd).display;\n",
              "        if (!display || display === 'none') {{\n",
              "            console.log([gd, 'removed!']);\n",
              "            Plotly.purge(gd);\n",
              "            observer.disconnect();\n",
              "        }}\n",
              "}});\n",
              "\n",
              "// Listen for the removal of the full notebook cells\n",
              "var notebookContainer = gd.closest('#notebook-container');\n",
              "if (notebookContainer) {{\n",
              "    x.observe(notebookContainer, {childList: true});\n",
              "}}\n",
              "\n",
              "// Listen for the clearing of the current output cell\n",
              "var outputEl = gd.closest('.output');\n",
              "if (outputEl) {{\n",
              "    x.observe(outputEl, {childList: true});\n",
              "}}\n",
              "\n",
              "                        })                };                            </script>        </div>\n",
              "</body>\n",
              "</html>"
            ]
          },
          "metadata": {}
        }
      ]
    },
    {
      "cell_type": "markdown",
      "source": [
        "### I. Data Preparation"
      ],
      "metadata": {
        "id": "AVCFqXYoxfUV"
      }
    },
    {
      "cell_type": "code",
      "source": [
        "import pandas as pd\n",
        "import numpy as np\n",
        "from sklearn.preprocessing import MinMaxScaler\n",
        "\n",
        "# Load region prevalence & matches\n",
        "\n",
        "# Load age-standardized prevalence by region\n",
        "age_std = pd.read_csv('/content/drive/MyDrive/Spring2025/TH/256-project/output/region_prev.csv')\n",
        "\n",
        "# Load physician-region matches (demand-informed)\n",
        "top_matches = pd.read_csv('/content/drive/MyDrive/Spring2025/TH/256-project/output/top_matches_adjusted.csv')\n"
      ],
      "metadata": {
        "id": "ws_Kk-ghxnaU"
      },
      "execution_count": null,
      "outputs": []
    },
    {
      "cell_type": "markdown",
      "source": [
        "### II. Simulation"
      ],
      "metadata": {
        "id": "V2DXksh9y2D3"
      }
    },
    {
      "cell_type": "code",
      "source": [
        "arpq_short_term_diabetes_PQI01_rate_2018 = 81.80"
      ],
      "metadata": {
        "id": "_GJt4zf20e0K"
      },
      "execution_count": null,
      "outputs": []
    },
    {
      "cell_type": "code",
      "source": [
        "# 1. Map region populations\n",
        "region_pop = {\n",
        "    'Northeast': 57609148,\n",
        "    'Midwest':   68985454,\n",
        "    'South':    126266107,\n",
        "    'West':      78588572\n",
        "}\n",
        "\n",
        "# 2. Compute baseline admissions per region\n",
        "pqi_rate_per1000 = arpq_short_term_diabetes_PQI01_rate_2018 / 100  # convert per 100k → per 1k\n",
        "region_prev['population'] = region_prev['region'].map(region_pop)\n",
        "region_prev['baseline_adm'] = (\n",
        "    region_prev['population'] * pqi_rate_per1000\n",
        ")\n",
        "\n",
        "# 3. Count assignments\n",
        "n_physicians = top_matches['physician_id'].nunique()\n",
        "regions = region_prev['region'].unique()\n",
        "physician_prefs = pd.read_csv('/content/drive/MyDrive/Spring2025/TH/256-project/output/physician_pref.csv')\n",
        "\n",
        "# Demand-informed (already top_matches)\n",
        "assigned_demand = (\n",
        "    top_matches.groupby('region')['physician_id']\n",
        "               .nunique().reset_index(name='n_demand')\n",
        ")\n",
        "\n",
        "# Random assignment\n",
        "random_assign = pd.DataFrame({\n",
        "    'physician_id': physician_prefs['physician_id'].unique(),\n",
        "    'region': np.random.choice(regions, size=n_physicians, replace=True)\n",
        "})\n",
        "assigned_random = (\n",
        "    random_assign.groupby('region')['physician_id']\n",
        "                 .nunique().reset_index(name='n_random')\n",
        ")\n",
        "\n",
        "# Preference-only assignment\n",
        "pref_only = (\n",
        "    physician_prefs.sort_values('base_pref', ascending=False)\n",
        "                   .groupby('physician_id').first().reset_index()\n",
        ")\n",
        "assigned_pref = (\n",
        "    pref_only.groupby('region')['physician_id']\n",
        "             .nunique().reset_index(name='n_preference')\n",
        ")\n",
        "\n",
        "# 4. Merge & compute avoided hospitalizations\n",
        "sim = (region_prev\n",
        "       .merge(assigned_demand, on='region', how='left')\n",
        "       .merge(assigned_random, on='region', how='left')\n",
        "       .merge(assigned_pref, on='region', how='left')\n",
        "       .fillna(0))\n",
        "\n",
        "impact = 0.33\n",
        "for col in ['n_demand','n_random','n_preference']:\n",
        "    sim[f'avoided_{col}'] = (\n",
        "        sim['baseline_adm'] * impact * sim[col]\n",
        "    )\n"
      ],
      "metadata": {
        "id": "wpugXdndy344"
      },
      "execution_count": null,
      "outputs": []
    },
    {
      "cell_type": "code",
      "source": [
        "import plotly.express as px\n",
        "\n",
        "# Prepare bar chart data\n",
        "df_plot = pd.DataFrame({\n",
        "    'Scenario': ['Demand-Informed','Random','Preference-Only'],\n",
        "    'Avoidable_Admissions': [\n",
        "        sim['avoided_n_demand'].sum(),\n",
        "        sim['avoided_n_random'].sum(),\n",
        "        sim['avoided_n_preference'].sum()\n",
        "    ]\n",
        "})\n",
        "\n",
        "fig = px.bar(\n",
        "    df_plot,\n",
        "    x='Scenario',\n",
        "    y='Avoidable_Admissions',\n",
        "    title='Annual Avoidable Hospitalizations by Allocation Scenario',\n",
        "    labels={'Avoidable_Admissions':'Avoidable Admissions'}\n",
        ")\n",
        "fig.update_layout(\n",
        "    margin=dict(l=20, r=20, t=50, b=20),\n",
        "    yaxis_tickformat=',.0f'\n",
        ")\n",
        "fig.show()\n"
      ],
      "metadata": {
        "colab": {
          "base_uri": "https://localhost:8080/",
          "height": 542
        },
        "id": "15QSubRL8x9a",
        "outputId": "5d52b11c-c3f2-4d72-cd46-f4cbd67849dc"
      },
      "execution_count": null,
      "outputs": [
        {
          "output_type": "display_data",
          "data": {
            "text/html": [
              "<html>\n",
              "<head><meta charset=\"utf-8\" /></head>\n",
              "<body>\n",
              "    <div>            <script src=\"https://cdnjs.cloudflare.com/ajax/libs/mathjax/2.7.5/MathJax.js?config=TeX-AMS-MML_SVG\"></script><script type=\"text/javascript\">if (window.MathJax && window.MathJax.Hub && window.MathJax.Hub.Config) {window.MathJax.Hub.Config({SVG: {font: \"STIX-Web\"}});}</script>                <script type=\"text/javascript\">window.PlotlyConfig = {MathJaxConfig: 'local'};</script>\n",
              "        <script charset=\"utf-8\" src=\"https://cdn.plot.ly/plotly-2.35.2.min.js\"></script>                <div id=\"a65e3f92-28f6-442e-b23a-5e8e9b535305\" class=\"plotly-graph-div\" style=\"height:525px; width:100%;\"></div>            <script type=\"text/javascript\">                                    window.PLOTLYENV=window.PLOTLYENV || {};                                    if (document.getElementById(\"a65e3f92-28f6-442e-b23a-5e8e9b535305\")) {                    Plotly.newPlot(                        \"a65e3f92-28f6-442e-b23a-5e8e9b535305\",                        [{\"alignmentgroup\":\"True\",\"hovertemplate\":\"Scenario=%{x}\\u003cbr\\u003eAvoidable Admissions=%{y}\\u003cextra\\u003e\\u003c\\u002fextra\\u003e\",\"legendgroup\":\"\",\"marker\":{\"color\":\"#636efa\",\"pattern\":{\"shape\":\"\"}},\"name\":\"\",\"offsetgroup\":\"\",\"orientation\":\"v\",\"showlegend\":false,\"textposition\":\"auto\",\"x\":[\"Demand-Informed\",\"Random\",\"Preference-Only\"],\"xaxis\":\"x\",\"y\":[42428398251.36,44793010130.826546,49247572807.872116],\"yaxis\":\"y\",\"type\":\"bar\"}],                        {\"template\":{\"data\":{\"histogram2dcontour\":[{\"type\":\"histogram2dcontour\",\"colorbar\":{\"outlinewidth\":0,\"ticks\":\"\"},\"colorscale\":[[0.0,\"#0d0887\"],[0.1111111111111111,\"#46039f\"],[0.2222222222222222,\"#7201a8\"],[0.3333333333333333,\"#9c179e\"],[0.4444444444444444,\"#bd3786\"],[0.5555555555555556,\"#d8576b\"],[0.6666666666666666,\"#ed7953\"],[0.7777777777777778,\"#fb9f3a\"],[0.8888888888888888,\"#fdca26\"],[1.0,\"#f0f921\"]]}],\"choropleth\":[{\"type\":\"choropleth\",\"colorbar\":{\"outlinewidth\":0,\"ticks\":\"\"}}],\"histogram2d\":[{\"type\":\"histogram2d\",\"colorbar\":{\"outlinewidth\":0,\"ticks\":\"\"},\"colorscale\":[[0.0,\"#0d0887\"],[0.1111111111111111,\"#46039f\"],[0.2222222222222222,\"#7201a8\"],[0.3333333333333333,\"#9c179e\"],[0.4444444444444444,\"#bd3786\"],[0.5555555555555556,\"#d8576b\"],[0.6666666666666666,\"#ed7953\"],[0.7777777777777778,\"#fb9f3a\"],[0.8888888888888888,\"#fdca26\"],[1.0,\"#f0f921\"]]}],\"heatmap\":[{\"type\":\"heatmap\",\"colorbar\":{\"outlinewidth\":0,\"ticks\":\"\"},\"colorscale\":[[0.0,\"#0d0887\"],[0.1111111111111111,\"#46039f\"],[0.2222222222222222,\"#7201a8\"],[0.3333333333333333,\"#9c179e\"],[0.4444444444444444,\"#bd3786\"],[0.5555555555555556,\"#d8576b\"],[0.6666666666666666,\"#ed7953\"],[0.7777777777777778,\"#fb9f3a\"],[0.8888888888888888,\"#fdca26\"],[1.0,\"#f0f921\"]]}],\"heatmapgl\":[{\"type\":\"heatmapgl\",\"colorbar\":{\"outlinewidth\":0,\"ticks\":\"\"},\"colorscale\":[[0.0,\"#0d0887\"],[0.1111111111111111,\"#46039f\"],[0.2222222222222222,\"#7201a8\"],[0.3333333333333333,\"#9c179e\"],[0.4444444444444444,\"#bd3786\"],[0.5555555555555556,\"#d8576b\"],[0.6666666666666666,\"#ed7953\"],[0.7777777777777778,\"#fb9f3a\"],[0.8888888888888888,\"#fdca26\"],[1.0,\"#f0f921\"]]}],\"contourcarpet\":[{\"type\":\"contourcarpet\",\"colorbar\":{\"outlinewidth\":0,\"ticks\":\"\"}}],\"contour\":[{\"type\":\"contour\",\"colorbar\":{\"outlinewidth\":0,\"ticks\":\"\"},\"colorscale\":[[0.0,\"#0d0887\"],[0.1111111111111111,\"#46039f\"],[0.2222222222222222,\"#7201a8\"],[0.3333333333333333,\"#9c179e\"],[0.4444444444444444,\"#bd3786\"],[0.5555555555555556,\"#d8576b\"],[0.6666666666666666,\"#ed7953\"],[0.7777777777777778,\"#fb9f3a\"],[0.8888888888888888,\"#fdca26\"],[1.0,\"#f0f921\"]]}],\"surface\":[{\"type\":\"surface\",\"colorbar\":{\"outlinewidth\":0,\"ticks\":\"\"},\"colorscale\":[[0.0,\"#0d0887\"],[0.1111111111111111,\"#46039f\"],[0.2222222222222222,\"#7201a8\"],[0.3333333333333333,\"#9c179e\"],[0.4444444444444444,\"#bd3786\"],[0.5555555555555556,\"#d8576b\"],[0.6666666666666666,\"#ed7953\"],[0.7777777777777778,\"#fb9f3a\"],[0.8888888888888888,\"#fdca26\"],[1.0,\"#f0f921\"]]}],\"mesh3d\":[{\"type\":\"mesh3d\",\"colorbar\":{\"outlinewidth\":0,\"ticks\":\"\"}}],\"scatter\":[{\"fillpattern\":{\"fillmode\":\"overlay\",\"size\":10,\"solidity\":0.2},\"type\":\"scatter\"}],\"parcoords\":[{\"type\":\"parcoords\",\"line\":{\"colorbar\":{\"outlinewidth\":0,\"ticks\":\"\"}}}],\"scatterpolargl\":[{\"type\":\"scatterpolargl\",\"marker\":{\"colorbar\":{\"outlinewidth\":0,\"ticks\":\"\"}}}],\"bar\":[{\"error_x\":{\"color\":\"#2a3f5f\"},\"error_y\":{\"color\":\"#2a3f5f\"},\"marker\":{\"line\":{\"color\":\"#E5ECF6\",\"width\":0.5},\"pattern\":{\"fillmode\":\"overlay\",\"size\":10,\"solidity\":0.2}},\"type\":\"bar\"}],\"scattergeo\":[{\"type\":\"scattergeo\",\"marker\":{\"colorbar\":{\"outlinewidth\":0,\"ticks\":\"\"}}}],\"scatterpolar\":[{\"type\":\"scatterpolar\",\"marker\":{\"colorbar\":{\"outlinewidth\":0,\"ticks\":\"\"}}}],\"histogram\":[{\"marker\":{\"pattern\":{\"fillmode\":\"overlay\",\"size\":10,\"solidity\":0.2}},\"type\":\"histogram\"}],\"scattergl\":[{\"type\":\"scattergl\",\"marker\":{\"colorbar\":{\"outlinewidth\":0,\"ticks\":\"\"}}}],\"scatter3d\":[{\"type\":\"scatter3d\",\"line\":{\"colorbar\":{\"outlinewidth\":0,\"ticks\":\"\"}},\"marker\":{\"colorbar\":{\"outlinewidth\":0,\"ticks\":\"\"}}}],\"scattermapbox\":[{\"type\":\"scattermapbox\",\"marker\":{\"colorbar\":{\"outlinewidth\":0,\"ticks\":\"\"}}}],\"scatterternary\":[{\"type\":\"scatterternary\",\"marker\":{\"colorbar\":{\"outlinewidth\":0,\"ticks\":\"\"}}}],\"scattercarpet\":[{\"type\":\"scattercarpet\",\"marker\":{\"colorbar\":{\"outlinewidth\":0,\"ticks\":\"\"}}}],\"carpet\":[{\"aaxis\":{\"endlinecolor\":\"#2a3f5f\",\"gridcolor\":\"white\",\"linecolor\":\"white\",\"minorgridcolor\":\"white\",\"startlinecolor\":\"#2a3f5f\"},\"baxis\":{\"endlinecolor\":\"#2a3f5f\",\"gridcolor\":\"white\",\"linecolor\":\"white\",\"minorgridcolor\":\"white\",\"startlinecolor\":\"#2a3f5f\"},\"type\":\"carpet\"}],\"table\":[{\"cells\":{\"fill\":{\"color\":\"#EBF0F8\"},\"line\":{\"color\":\"white\"}},\"header\":{\"fill\":{\"color\":\"#C8D4E3\"},\"line\":{\"color\":\"white\"}},\"type\":\"table\"}],\"barpolar\":[{\"marker\":{\"line\":{\"color\":\"#E5ECF6\",\"width\":0.5},\"pattern\":{\"fillmode\":\"overlay\",\"size\":10,\"solidity\":0.2}},\"type\":\"barpolar\"}],\"pie\":[{\"automargin\":true,\"type\":\"pie\"}]},\"layout\":{\"autotypenumbers\":\"strict\",\"colorway\":[\"#636efa\",\"#EF553B\",\"#00cc96\",\"#ab63fa\",\"#FFA15A\",\"#19d3f3\",\"#FF6692\",\"#B6E880\",\"#FF97FF\",\"#FECB52\"],\"font\":{\"color\":\"#2a3f5f\"},\"hovermode\":\"closest\",\"hoverlabel\":{\"align\":\"left\"},\"paper_bgcolor\":\"white\",\"plot_bgcolor\":\"#E5ECF6\",\"polar\":{\"bgcolor\":\"#E5ECF6\",\"angularaxis\":{\"gridcolor\":\"white\",\"linecolor\":\"white\",\"ticks\":\"\"},\"radialaxis\":{\"gridcolor\":\"white\",\"linecolor\":\"white\",\"ticks\":\"\"}},\"ternary\":{\"bgcolor\":\"#E5ECF6\",\"aaxis\":{\"gridcolor\":\"white\",\"linecolor\":\"white\",\"ticks\":\"\"},\"baxis\":{\"gridcolor\":\"white\",\"linecolor\":\"white\",\"ticks\":\"\"},\"caxis\":{\"gridcolor\":\"white\",\"linecolor\":\"white\",\"ticks\":\"\"}},\"coloraxis\":{\"colorbar\":{\"outlinewidth\":0,\"ticks\":\"\"}},\"colorscale\":{\"sequential\":[[0.0,\"#0d0887\"],[0.1111111111111111,\"#46039f\"],[0.2222222222222222,\"#7201a8\"],[0.3333333333333333,\"#9c179e\"],[0.4444444444444444,\"#bd3786\"],[0.5555555555555556,\"#d8576b\"],[0.6666666666666666,\"#ed7953\"],[0.7777777777777778,\"#fb9f3a\"],[0.8888888888888888,\"#fdca26\"],[1.0,\"#f0f921\"]],\"sequentialminus\":[[0.0,\"#0d0887\"],[0.1111111111111111,\"#46039f\"],[0.2222222222222222,\"#7201a8\"],[0.3333333333333333,\"#9c179e\"],[0.4444444444444444,\"#bd3786\"],[0.5555555555555556,\"#d8576b\"],[0.6666666666666666,\"#ed7953\"],[0.7777777777777778,\"#fb9f3a\"],[0.8888888888888888,\"#fdca26\"],[1.0,\"#f0f921\"]],\"diverging\":[[0,\"#8e0152\"],[0.1,\"#c51b7d\"],[0.2,\"#de77ae\"],[0.3,\"#f1b6da\"],[0.4,\"#fde0ef\"],[0.5,\"#f7f7f7\"],[0.6,\"#e6f5d0\"],[0.7,\"#b8e186\"],[0.8,\"#7fbc41\"],[0.9,\"#4d9221\"],[1,\"#276419\"]]},\"xaxis\":{\"gridcolor\":\"white\",\"linecolor\":\"white\",\"ticks\":\"\",\"title\":{\"standoff\":15},\"zerolinecolor\":\"white\",\"automargin\":true,\"zerolinewidth\":2},\"yaxis\":{\"gridcolor\":\"white\",\"linecolor\":\"white\",\"ticks\":\"\",\"title\":{\"standoff\":15},\"zerolinecolor\":\"white\",\"automargin\":true,\"zerolinewidth\":2},\"scene\":{\"xaxis\":{\"backgroundcolor\":\"#E5ECF6\",\"gridcolor\":\"white\",\"linecolor\":\"white\",\"showbackground\":true,\"ticks\":\"\",\"zerolinecolor\":\"white\",\"gridwidth\":2},\"yaxis\":{\"backgroundcolor\":\"#E5ECF6\",\"gridcolor\":\"white\",\"linecolor\":\"white\",\"showbackground\":true,\"ticks\":\"\",\"zerolinecolor\":\"white\",\"gridwidth\":2},\"zaxis\":{\"backgroundcolor\":\"#E5ECF6\",\"gridcolor\":\"white\",\"linecolor\":\"white\",\"showbackground\":true,\"ticks\":\"\",\"zerolinecolor\":\"white\",\"gridwidth\":2}},\"shapedefaults\":{\"line\":{\"color\":\"#2a3f5f\"}},\"annotationdefaults\":{\"arrowcolor\":\"#2a3f5f\",\"arrowhead\":0,\"arrowwidth\":1},\"geo\":{\"bgcolor\":\"white\",\"landcolor\":\"#E5ECF6\",\"subunitcolor\":\"white\",\"showland\":true,\"showlakes\":true,\"lakecolor\":\"white\"},\"title\":{\"x\":0.05},\"mapbox\":{\"style\":\"light\"}}},\"xaxis\":{\"anchor\":\"y\",\"domain\":[0.0,1.0],\"title\":{\"text\":\"Scenario\"}},\"yaxis\":{\"anchor\":\"x\",\"domain\":[0.0,1.0],\"title\":{\"text\":\"Avoidable Admissions\"},\"tickformat\":\",.0f\"},\"legend\":{\"tracegroupgap\":0},\"title\":{\"text\":\"Annual Avoidable Hospitalizations by Allocation Scenario\"},\"barmode\":\"relative\",\"margin\":{\"l\":20,\"r\":20,\"t\":50,\"b\":20}},                        {\"responsive\": true}                    ).then(function(){\n",
              "                            \n",
              "var gd = document.getElementById('a65e3f92-28f6-442e-b23a-5e8e9b535305');\n",
              "var x = new MutationObserver(function (mutations, observer) {{\n",
              "        var display = window.getComputedStyle(gd).display;\n",
              "        if (!display || display === 'none') {{\n",
              "            console.log([gd, 'removed!']);\n",
              "            Plotly.purge(gd);\n",
              "            observer.disconnect();\n",
              "        }}\n",
              "}});\n",
              "\n",
              "// Listen for the removal of the full notebook cells\n",
              "var notebookContainer = gd.closest('#notebook-container');\n",
              "if (notebookContainer) {{\n",
              "    x.observe(notebookContainer, {childList: true});\n",
              "}}\n",
              "\n",
              "// Listen for the clearing of the current output cell\n",
              "var outputEl = gd.closest('.output');\n",
              "if (outputEl) {{\n",
              "    x.observe(outputEl, {childList: true});\n",
              "}}\n",
              "\n",
              "                        })                };                            </script>        </div>\n",
              "</body>\n",
              "</html>"
            ]
          },
          "metadata": {}
        }
      ]
    }
  ],
  "metadata": {
    "colab": {
      "provenance": []
    },
    "kernelspec": {
      "display_name": "Python 3",
      "name": "python3"
    },
    "language_info": {
      "name": "python"
    }
  },
  "nbformat": 4,
  "nbformat_minor": 0
}